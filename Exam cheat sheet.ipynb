{
 "cells": [
  {
   "cell_type": "code",
   "execution_count": 38,
   "id": "1dbfc1af",
   "metadata": {},
   "outputs": [],
   "source": [
    "import pandas as pd\n",
    "import numpy as np\n",
    "import random as r\n",
    "import matplotlib.pyplot as plt\n",
    "from scipy import stats\n",
    "from iminuit import Minuit                            \n",
    "from numpy.linalg import inv\n",
    "import sys\n",
    "import inspect"
   ]
  },
  {
   "cell_type": "code",
   "execution_count": 4,
   "id": "c2d164cb",
   "metadata": {},
   "outputs": [],
   "source": [
    "sys.path.append('External_Functions')\n",
    "from ExternalFunctions import *"
   ]
  },
  {
   "cell_type": "code",
   "execution_count": 39,
   "id": "13829a3e",
   "metadata": {},
   "outputs": [],
   "source": [
    "def get_weighted_mean(x, x_err):\n",
    "    mean_weighted = np.nansum(x/x_err**2) / np.nansum(1/x_err**2)\n",
    "    err_weighted = np.sqrt(1/np.sum(1 / x_err**2)) \n",
    "    chi2 = np.nansum((x - mean_weighted)**2/x_err**2)\n",
    "    p = stats.chi2.sf(chi2, len(x) - 1)\n",
    "    return mean_weighted, err_weighted, chi2, p\n",
    "\n",
    "def get_separation(x, y, ddof = 0):\n",
    "    mean_x = np.mean(x)\n",
    "    mean_y = np.mean(y)\n",
    "    std_x = np.std(x, ddof = ddof)\n",
    "    std_y = np.std(y, ddof = ddof)\n",
    "    d = np.abs((mean_x - mean_y)) / np.sqrt(std_x**2 + std_y**2)\n",
    "    return d\n"
   ]
  },
  {
   "cell_type": "markdown",
   "id": "d83ca998",
   "metadata": {},
   "source": [
    "## functions"
   ]
  },
  {
   "cell_type": "code",
   "execution_count": 87,
   "id": "2cbf9d0b",
   "metadata": {},
   "outputs": [],
   "source": [
    "def gauss_pdf_norm(x, mu, sigma) :\n",
    "    return 1.0 / np.sqrt(2*np.pi) / sigma * np.exp( -0.5 * (x-mu)**2 / sigma**2)\n",
    "\n",
    "def scale_binned(func, N_data, N_bins, range_bins):\n",
    "    def wrapper(*x):\n",
    "        return func(*x) * N_data * range_bins / N_bins\n",
    "    return wrapper\n",
    "\n"
   ]
  },
  {
   "cell_type": "code",
   "execution_count": 48,
   "id": "62284164",
   "metadata": {},
   "outputs": [],
   "source": [
    "test_data = np.random.normal(loc = 5, scale = 8, size = 1000)\n",
    "\n"
   ]
  },
  {
   "cell_type": "code",
   "execution_count": 52,
   "id": "151d9ed5",
   "metadata": {},
   "outputs": [],
   "source": [
    "dataframe = pd.read_csv('DataAndCodeForProblemSet/data_CountryScores.csv', header=0, index_col=None)\n",
    "Country, GDP, PopSize, HappinessI, EconomicFreedomI, PressFreedomI, EducationI = dataframe.values.T"
   ]
  },
  {
   "cell_type": "code",
   "execution_count": 53,
   "id": "05be9ec0",
   "metadata": {},
   "outputs": [],
   "source": [
    "GDP = GDP.astype('float64')"
   ]
  },
  {
   "cell_type": "code",
   "execution_count": 54,
   "id": "70861c72",
   "metadata": {},
   "outputs": [],
   "source": [
    "log_GDP = np.log(GDP)"
   ]
  },
  {
   "cell_type": "code",
   "execution_count": 105,
   "id": "4ef97240",
   "metadata": {},
   "outputs": [
    {
     "data": {
      "text/html": [
       "<table>\n",
       "    <tr>\n",
       "        <th colspan=\"2\" style=\"text-align:center\" title=\"Minimizer\"> Migrad </th>\n",
       "    </tr>\n",
       "    <tr>\n",
       "        <td style=\"text-align:left\" title=\"Minimum value of function\"> FCN = inf </td>\n",
       "        <td style=\"text-align:center\" title=\"Total number of function and (optional) gradient evaluations\"> Nfcn = 210 </td>\n",
       "    </tr>\n",
       "    <tr>\n",
       "        <td style=\"text-align:left\" title=\"Estimated distance to minimum and goal\"> EDM = nan (Goal: 0.0002) </td>\n",
       "        <td style=\"text-align:center\" title=\"Total run time of algorithms\">  </td>\n",
       "    </tr>\n",
       "    <tr>\n",
       "        <td style=\"text-align:center;background-color:#c15ef7;color:black\"> INVALID Minimum </td>\n",
       "        <td style=\"text-align:center;background-color:#c15ef7;color:black\"> ABOVE EDM threshold (goal x 10) </td>\n",
       "    </tr>\n",
       "    <tr>\n",
       "        <td style=\"text-align:center;background-color:#92CCA6;color:black\"> No parameters at limit </td>\n",
       "        <td style=\"text-align:center;background-color:#92CCA6;color:black\"> Below call limit </td>\n",
       "    </tr>\n",
       "    <tr>\n",
       "        <td style=\"text-align:center;background-color:#92CCA6;color:black\"> Hesse ok </td>\n",
       "        <td style=\"text-align:center;background-color:#92CCA6;color:black\"> Covariance accurate </td>\n",
       "    </tr>\n",
       "</table><table>\n",
       "    <tr>\n",
       "        <td></td>\n",
       "        <th title=\"Variable name\"> Name </th>\n",
       "        <th title=\"Value of parameter\"> Value </th>\n",
       "        <th title=\"Hesse error\"> Hesse Error </th>\n",
       "        <th title=\"Minos lower error\"> Minos Error- </th>\n",
       "        <th title=\"Minos upper error\"> Minos Error+ </th>\n",
       "        <th title=\"Lower limit of the parameter\"> Limit- </th>\n",
       "        <th title=\"Upper limit of the parameter\"> Limit+ </th>\n",
       "        <th title=\"Is the parameter fixed in the fit\"> Fixed </th>\n",
       "    </tr>\n",
       "    <tr>\n",
       "        <th> 0 </th>\n",
       "        <td> mu </td>\n",
       "        <td> 7 </td>\n",
       "        <td> nan </td>\n",
       "        <td>  </td>\n",
       "        <td>  </td>\n",
       "        <td>  </td>\n",
       "        <td>  </td>\n",
       "        <td>  </td>\n",
       "    </tr>\n",
       "    <tr>\n",
       "        <th> 1 </th>\n",
       "        <td> sigma </td>\n",
       "        <td> 1 </td>\n",
       "        <td> nan </td>\n",
       "        <td>  </td>\n",
       "        <td>  </td>\n",
       "        <td>  </td>\n",
       "        <td>  </td>\n",
       "        <td>  </td>\n",
       "    </tr>\n",
       "</table><table>\n",
       "    <tr>\n",
       "        <td></td>\n",
       "        <th> mu </th>\n",
       "        <th> sigma </th>\n",
       "    </tr>\n",
       "    <tr>\n",
       "        <th> mu </th>\n",
       "        <td> nan </td>\n",
       "        <td style=\"background-color:rgb(nan,nan,nan);color:black\"> nan </td>\n",
       "    </tr>\n",
       "    <tr>\n",
       "        <th> sigma </th>\n",
       "        <td style=\"background-color:rgb(nan,nan,nan);color:black\"> nan </td>\n",
       "        <td> nan </td>\n",
       "    </tr>\n",
       "</table>"
      ],
      "text/plain": [
       "┌─────────────────────────────────────────────────────────────────────────┐\n",
       "│                                Migrad                                   │\n",
       "├──────────────────────────────────┬──────────────────────────────────────┤\n",
       "│ FCN = inf                        │              Nfcn = 210              │\n",
       "│ EDM = nan (Goal: 0.0002)         │                                      │\n",
       "├──────────────────────────────────┼──────────────────────────────────────┤\n",
       "│         INVALID Minimum          │   ABOVE EDM threshold (goal x 10)    │\n",
       "├──────────────────────────────────┼──────────────────────────────────────┤\n",
       "│      No parameters at limit      │           Below call limit           │\n",
       "├──────────────────────────────────┼──────────────────────────────────────┤\n",
       "│             Hesse ok             │         Covariance accurate          │\n",
       "└──────────────────────────────────┴──────────────────────────────────────┘\n",
       "┌───┬───────┬───────────┬───────────┬────────────┬────────────┬─────────┬─────────┬───────┐\n",
       "│   │ Name  │   Value   │ Hesse Err │ Minos Err- │ Minos Err+ │ Limit-  │ Limit+  │ Fixed │\n",
       "├───┼───────┼───────────┼───────────┼────────────┼────────────┼─────────┼─────────┼───────┤\n",
       "│ 0 │ mu    │     7     │    nan    │            │            │         │         │       │\n",
       "│ 1 │ sigma │     1     │    nan    │            │            │         │         │       │\n",
       "└───┴───────┴───────────┴───────────┴────────────┴────────────┴─────────┴─────────┴───────┘\n",
       "┌───────┬─────────────┐\n",
       "│       │    mu sigma │\n",
       "├───────┼─────────────┤\n",
       "│    mu │   nan   nan │\n",
       "│ sigma │   nan   nan │\n",
       "└───────┴─────────────┘"
      ]
     },
     "execution_count": 105,
     "metadata": {},
     "output_type": "execute_result"
    }
   ],
   "source": [
    "N_bins = 50\n",
    "bins_range = np.max(log_GDP) - np.min(log_GDP)\n",
    "scale = len(GDP) * bins_range / N_bins\n",
    "\n",
    "y, edges = np.histogram(log_GDP, bins = N_bins, range = (min(log_GDP), max(log_GDP)))\n",
    "x = ((edges[1:] + edges[:-1])/2)\n",
    "\n",
    "func = lambda x, mu, sigma: scale * gauss_pdf_norm(x, mu, sigma)\n",
    "\n",
    "chi2_gauss = Chi2Regression(f = func, x = x, y = y, sy = np.sqrt(y))\n",
    "fit = Minuit(chi2_gauss, mu = 7, sigma = 1) \n",
    "fit.errordef = 1\n",
    "fit.migrad()         \n"
   ]
  },
  {
   "cell_type": "code",
   "execution_count": null,
   "id": "17351f48",
   "metadata": {},
   "outputs": [],
   "source": []
  },
  {
   "cell_type": "code",
   "execution_count": null,
   "id": "775dd4ba",
   "metadata": {},
   "outputs": [],
   "source": []
  }
 ],
 "metadata": {
  "kernelspec": {
   "display_name": "Python 3",
   "language": "python",
   "name": "python3"
  },
  "language_info": {
   "codemirror_mode": {
    "name": "ipython",
    "version": 3
   },
   "file_extension": ".py",
   "mimetype": "text/x-python",
   "name": "python",
   "nbconvert_exporter": "python",
   "pygments_lexer": "ipython3",
   "version": "3.8.8"
  }
 },
 "nbformat": 4,
 "nbformat_minor": 5
}
