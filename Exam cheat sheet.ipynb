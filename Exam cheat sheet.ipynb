{
 "cells": [
  {
   "cell_type": "code",
   "execution_count": 6,
   "id": "1dbfc1af",
   "metadata": {},
   "outputs": [],
   "source": [
    "import pandas as pd\n",
    "import numpy as np\n",
    "import random as r\n",
    "import matplotlib.pyplot as plt\n",
    "from scipy import stats\n",
    "from iminuit import Minuit                            \n",
    "from numpy.linalg import inv\n",
    "import sys\n",
    "import inspect\n",
    "from mpl_toolkits.axes_grid1.inset_locator import inset_axes\n",
    "import matplotlib.gridspec as gridspec\n"
   ]
  },
  {
   "cell_type": "code",
   "execution_count": 15,
   "id": "c2d164cb",
   "metadata": {},
   "outputs": [],
   "source": [
    "sys.path.append('External_Functions')\n",
    "from ExternalFunctions import *"
   ]
  },
  {
   "cell_type": "code",
   "execution_count": 135,
   "id": "adbc60e0",
   "metadata": {},
   "outputs": [],
   "source": [
    "fake_data1 = np.random.normal(loc = 3, scale = 2, size  = 1000)\n",
    "fake_data2 = np.random.normal(loc = 10, scale = 1, size  = 1000)\n",
    "fake_data3 = np.random.normal(loc = 10, scale = 10, size  = 10)\n",
    "fake_data4 = np.random.standard_t(df = 10,  size  = 100)"
   ]
  },
  {
   "cell_type": "code",
   "execution_count": null,
   "id": "fdf0755f",
   "metadata": {},
   "outputs": [],
   "source": []
  },
  {
   "cell_type": "code",
   "execution_count": 13,
   "id": "13829a3e",
   "metadata": {},
   "outputs": [],
   "source": [
    "def get_weighted_mean(x, x_err):\n",
    "    mean_weighted = np.nansum(x/x_err**2) / np.nansum(1/x_err**2)\n",
    "    err_weighted = np.sqrt(1/np.sum(1 / x_err**2)) \n",
    "    chi2 = np.nansum((x - mean_weighted)**2/x_err**2)\n",
    "    p = stats.chi2.sf(chi2, len(x) - 1)\n",
    "    print(f'The weighted mean is:              {mean_weighted:.3f}')\n",
    "    print(f'The error on the weighted mean is: {err_weighted:.3f}')\n",
    "    print(fr'The $\\chi^2$ is: {chi2:.3f}')\n",
    "    print(f'The p value is : {p:.3f}')\n",
    "    return mean_weighted, err_weighted, chi2, p\n",
    "\n",
    "def get_separation(x, y, ddof = 0):\n",
    "    mean_x = np.mean(x)\n",
    "    mean_y = np.mean(y)\n",
    "    std_x = np.std(x, ddof = ddof)\n",
    "    std_y = np.std(y, ddof = ddof)\n",
    "    d = np.abs((mean_x - mean_y)) / np.sqrt(std_x**2 + std_y**2)\n",
    "    return d\n"
   ]
  },
  {
   "cell_type": "markdown",
   "id": "d83ca998",
   "metadata": {},
   "source": [
    "## functions"
   ]
  },
  {
   "cell_type": "code",
   "execution_count": 140,
   "id": "2cbf9d0b",
   "metadata": {},
   "outputs": [],
   "source": [
    "def gauss_pdf_norm(x, mu, sigma) :\n",
    "    return 1.0 / np.sqrt(2*np.pi) / sigma * np.exp( -0.5 * (x-mu)**2 / sigma**2)\n",
    "\n",
    "def lorentz_pdf_norm(x, x0, gamma):\n",
    "    return 1 / (np.pi * gamma * (1 + ((x - x0) / gamma) ** 2))\n",
    "\n",
    "\n",
    "def prune(x, dist = 'z'):\n",
    "    items_removed = []\n",
    "    \n",
    "    if dist == 'z':   \n",
    "        sample_sigma = lambda array, mu, sig: abs(array - mu) / sig\n",
    "        get_p        = lambda val, array : stats.norm.sf(val) * 2\n",
    "    if dist == 't':\n",
    "        sample_sigma = lambda array, mu, sig: abs(array - mu) / (sig )\n",
    "        get_p        = lambda val, array : stats.t.sf(val, df = len(array) - 1) * 2\n",
    "\n",
    "    while True:\n",
    "        mu  = np.mean(x)\n",
    "        sig = np.std(x, ddof = 1)\n",
    "        statistics = sample_sigma(x, mu, sig)\n",
    "        max_statistics = np.max(statistics)\n",
    "        p  = get_p(max_statistics, x)\n",
    "        if p < 1 / (len(x) * 2):\n",
    "            index = np.argmax(statistics)\n",
    "            items_removed.append(x[index])\n",
    "            x = np.delete(x, index)\n",
    "        else: \n",
    "            break\n",
    "    return x, np.array(items_removed)\n",
    "\n",
    "\n",
    "def calc_ROC(hist1, hist2) :\n",
    "    # First we extract the entries (y values) and the edges of the histograms:\n",
    "    y_sig, x_sig_edges, _ = hist1\n",
    "    y_bkg, x_bkg_edges, _ = hist2\n",
    "    \n",
    "    # Check that the two histograms have the same x edges:\n",
    "    if np.array_equal(x_sig_edges, x_bkg_edges) :\n",
    "        \n",
    "        # Extract the center positions (x values) of the bins (both signal or background works - equal binning)\n",
    "        x_centers = 0.5*(x_sig_edges[1:] + x_sig_edges[:-1])\n",
    "        \n",
    "        # Calculate the integral (sum) of the signal and background:\n",
    "        integral_sig = y_sig.sum()\n",
    "        integral_bkg = y_bkg.sum()\n",
    "    \n",
    "        # Initialize empty arrays for the True Positive Rate (TPR) and the False Positive Rate (FPR):\n",
    "        TPR = np.zeros_like(y_sig) # True positive rate (sensitivity)\n",
    "        FPR = np.zeros_like(y_sig) # False positive rate ()\n",
    "        \n",
    "        # Loop over all bins (x_centers) of the histograms and calculate TN, FP, FN, TP, FPR, and TPR for each bin:\n",
    "        for i, x in enumerate(x_centers):     \n",
    "            # The cut mask\n",
    "            cut = (x_centers < x)\n",
    "            # True positive\n",
    "            TP = np.sum(y_sig[~cut]) / integral_sig    # True positives\n",
    "            FN = np.sum(y_sig[cut]) / integral_sig     # False negatives\n",
    "            TPR[i] = TP / (TP + FN)                    # True positive rate\n",
    "            # True negative\n",
    "            TN = np.sum(y_bkg[cut]) / integral_bkg      # True negatives (background)\n",
    "            FP = np.sum(y_bkg[~cut]) / integral_bkg     # False positives\n",
    "            FPR[i] = FP / (FP + TN)                     # False positive rate            \n",
    "            \n",
    "        return FPR, TPR\n",
    "    \n",
    "    else:\n",
    "        AssertionError(\"Signal and Background histograms have different bins and/or ranges\")"
   ]
  },
  {
   "cell_type": "code",
   "execution_count": 143,
   "id": "8ae42957",
   "metadata": {},
   "outputs": [
    {
     "data": {
      "image/png": "[encoded data removed]",
      "text/plain": [
       "<Figure size 432x288 with 1 Axes>"
      ]
     },
     "metadata": {
      "needs_background": "light"
     },
     "output_type": "display_data"
    },
    {
     "data": {
      "image/png": "[encoded data removed]",
      "text/plain": [
       "<Figure size 432x288 with 1 Axes>"
      ]
     },
     "metadata": {
      "needs_background": "light"
     },
     "output_type": "display_data"
    }
   ],
   "source": [
    "bob = fake_data4\n",
    "plt.hist(bob,bins = 10)\n",
    "plt.show()\n",
    "\n",
    "bob, _ = prune(bob, dist= 't')\n",
    "plt.hist(bob,bins = 10)\n",
    "plt.show()\n"
   ]
  },
  {
   "cell_type": "code",
   "execution_count": null,
   "id": "07ea8ead",
   "metadata": {},
   "outputs": [],
   "source": []
  },
  {
   "cell_type": "markdown",
   "id": "7539bad2",
   "metadata": {},
   "source": [
    "### Binned chi2 fit on unbinned data"
   ]
  },
  {
   "cell_type": "code",
   "execution_count": null,
   "id": "86f82469",
   "metadata": {},
   "outputs": [],
   "source": [
    "Nbins = 100\n",
    "y_min = min(data)\n",
    "y_max = max(data)\n",
    "\n",
    "counts, bin_edges, _ = plt.hist(data, bins = Nbins, range = (y_min, y_max))\n",
    "mask = counts > 0\n",
    "x = ((bin_edges[1:] + bin_edges[:-1])/2)[mask]\n",
    "counts = counts[mask]\n",
    "norm = len(count) * (y_max - y_min) / Nbins\n",
    "    \n",
    "def chi2(*args):\n",
    "    y_model = N * func(x, *args)\n",
    "    return np.sum((counts - y_model)**2 / counts)\n",
    "#    return np.sum((counts - y_model)**2 / y_model) # if there is a LOT of empty bins, use this instead and remove the mask\n",
    "\n",
    "fit = Minuit(chi2_2, ...) \n",
    "fit.errordef = 1\n",
    "fit.migrad()\n",
    "\n",
    "chi2_val = fit.fval\n",
    "p = stats.chi2.sf(chi2_val, len(counts) - ...)\n",
    "\n",
    "values = fit.values[:]\n",
    "errors = fit.errors[:]"
   ]
  },
  {
   "cell_type": "markdown",
   "id": "036adc12",
   "metadata": {},
   "source": [
    "# plotting"
   ]
  },
  {
   "cell_type": "code",
   "execution_count": 4,
   "id": "f03520d1",
   "metadata": {},
   "outputs": [
    {
     "ename": "NameError",
     "evalue": "name 'plt' is not defined",
     "output_type": "error",
     "traceback": [
      "\u001b[1;31m---------------------------------------------------------------------------\u001b[0m",
      "\u001b[1;31mNameError\u001b[0m                                 Traceback (most recent call last)",
      "\u001b[1;32m<ipython-input-4-4af6f6859af0>\u001b[0m in \u001b[0;36m<module>\u001b[1;34m\u001b[0m\n\u001b[0;32m      1\u001b[0m \u001b[1;31m# ax and fig\u001b[0m\u001b[1;33m\u001b[0m\u001b[1;33m\u001b[0m\u001b[1;33m\u001b[0m\u001b[0m\n\u001b[1;32m----> 2\u001b[1;33m \u001b[0mfig\u001b[0m\u001b[1;33m,\u001b[0m \u001b[0max\u001b[0m \u001b[1;33m=\u001b[0m \u001b[0mplt\u001b[0m\u001b[1;33m.\u001b[0m\u001b[0msubplots\u001b[0m\u001b[1;33m(\u001b[0m\u001b[0mncols\u001b[0m\u001b[1;33m=\u001b[0m\u001b[1;36m2\u001b[0m\u001b[1;33m,\u001b[0m\u001b[0mnrows\u001b[0m \u001b[1;33m=\u001b[0m \u001b[1;36m2\u001b[0m\u001b[1;33m,\u001b[0m \u001b[0mfigsize\u001b[0m\u001b[1;33m=\u001b[0m\u001b[1;33m(\u001b[0m\u001b[1;36m14\u001b[0m\u001b[1;33m,\u001b[0m \u001b[1;36m6\u001b[0m\u001b[1;33m)\u001b[0m\u001b[1;33m)\u001b[0m\u001b[1;33m\u001b[0m\u001b[1;33m\u001b[0m\u001b[0m\n\u001b[0m\u001b[0;32m      3\u001b[0m \u001b[1;33m\u001b[0m\u001b[0m\n\u001b[0;32m      4\u001b[0m \u001b[1;31m# adding text\u001b[0m\u001b[1;33m\u001b[0m\u001b[1;33m\u001b[0m\u001b[1;33m\u001b[0m\u001b[0m\n\u001b[0;32m      5\u001b[0m dic = {r'$\\chi^2$': 4,\n",
      "\u001b[1;31mNameError\u001b[0m: name 'plt' is not defined"
     ]
    }
   ],
   "source": [
    "# ax and fig\n",
    "fig, ax = plt.subplots(ncols=2,nrows = 2, figsize=(14, 6))\n",
    "\n",
    "# adding text\n",
    "dic = {r'$\\chi^2$': 4,\n",
    "       r'$n_{dof}$': 100,\n",
    "       r'$p_{value}$': 0.1}\n",
    "text = nice_string_output(dic, extra_spacing = 0, decimals = 2)\n",
    "add_text_to_ax(0.2, 0.8, text, ax, bbox=dict(boxstyle='round', facecolor='white', alpha=0.7))\n",
    "\n",
    "\n",
    "x, y, y_err = ..., ..., ...\n",
    "x_fit = np.linspace(min(x), max(x), 1000)\n",
    "ax.plot(x_fit, func(x_fit, a, b), color = 'red', label = 'fit')\n",
    "ax.fill_between(x_fit, func(x_fit, a+a_err, b+b_err), linear(x_fit, a-a_err, b-b_err), color = 'red',\n",
    "                edgecolor = 'red', ls = 'dashed', alpha = 0.2, label = 'fit error')\n",
    "ax.scatter(x, y, label = 'data')\n",
    "ax.errorbar(x, y, yerr = y_err, fmt = 'o', capsize = 12, label = 'errorbars')\n",
    "\n",
    "\n",
    "\n",
    "# for residual plots etc\n",
    "fig = plt.figure(figsize = (16,8))\n",
    "gs = gridspec.GridSpec(nrows = 2,ncols = 1, height_ratios=[3, 1], width_ratios = [1, 1], hspace = 0) \n",
    "ax1 = fig.add_subplot(gs[0])\n",
    "ax2 = fig.add_subplot(gs[1], sharex=ax1)\n",
    "ax1.xaxis.set_visible(False)\n",
    "\n",
    "\n"
   ]
  },
  {
   "cell_type": "markdown",
   "id": "ef39b43d",
   "metadata": {},
   "source": [
    "# libararies"
   ]
  },
  {
   "cell_type": "code",
   "execution_count": 30,
   "id": "c5426e7c",
   "metadata": {},
   "outputs": [],
   "source": [
    "# for distributions\n",
    "\n",
    "p_binomial = stats.binom.sf(4, n = 10, p = 0.2)\n",
    "p_normal   = stats.norm.sf(4, loc = 20, scale = 3)\n",
    "p_poisson   = stats.poisson.sf(4, mu = 10)\n",
    "p_t   = stats.t.sf(4,  df = 3, loc = 6, scale = 2)\n",
    "\n",
    "# remeber if you want both tails to multiply by two \n",
    "\n",
    "\n",
    "p_shapiro = stats.shapiro(fake_data1)[1] # normaility test\n",
    "p_ks      = stats.kstest(fake_data1, fake_data2)\n",
    "\n",
    "correlation_pear = stats.pearsonr(fake_data1, fake_data2)\n",
    "correlation_spearman = stats.spearmanr(fake_data1, fake_data2)\n"
   ]
  },
  {
   "cell_type": "code",
   "execution_count": null,
   "id": "151d9ed5",
   "metadata": {},
   "outputs": [],
   "source": []
  },
  {
   "cell_type": "code",
   "execution_count": null,
   "id": "05be9ec0",
   "metadata": {},
   "outputs": [],
   "source": []
  },
  {
   "cell_type": "code",
   "execution_count": null,
   "id": "70861c72",
   "metadata": {},
   "outputs": [],
   "source": []
  },
  {
   "cell_type": "code",
   "execution_count": null,
   "id": "4ef97240",
   "metadata": {},
   "outputs": [],
   "source": []
  },
  {
   "cell_type": "code",
   "execution_count": null,
   "id": "4bf0189f",
   "metadata": {},
   "outputs": [],
   "source": []
  },
  {
   "cell_type": "code",
   "execution_count": null,
   "id": "4a62d686",
   "metadata": {},
   "outputs": [],
   "source": []
  },
  {
   "cell_type": "code",
   "execution_count": null,
   "id": "17351f48",
   "metadata": {},
   "outputs": [],
   "source": []
  },
  {
   "cell_type": "code",
   "execution_count": null,
   "id": "775dd4ba",
   "metadata": {},
   "outputs": [],
   "source": []
  }
 ],
 "metadata": {
  "kernelspec": {
   "display_name": "Python 3",
   "language": "python",
   "name": "python3"
  },
  "language_info": {
   "codemirror_mode": {
    "name": "ipython",
    "version": 3
   },
   "file_extension": ".py",
   "mimetype": "text/x-python",
   "name": "python",
   "nbconvert_exporter": "python",
   "pygments_lexer": "ipython3",
   "version": "3.8.8"
  }
 },
 "nbformat": 4,
 "nbformat_minor": 5
}
