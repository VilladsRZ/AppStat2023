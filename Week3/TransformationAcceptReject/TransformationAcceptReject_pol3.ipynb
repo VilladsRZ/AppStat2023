{
 "cells": [
  {
   "cell_type": "markdown",
   "metadata": {},
   "source": [
    "# The Transformation and Accept/Reject (aka. Von Neumann) methods \n",
    "Python notebook with exercise on how to generate random numbers following a specific PDF using uniformly distributed random numbers, in this case a third degree polynomial: $f(x) = x^3$, in the interval $[0, C]$ where $C$ is a number that ensures that the function if properly normalized.\n",
    "\n",
    "Both the Accept-Reject (Von Neumann) and transformation method should be considered for the problem:\n",
    "- Transformation method (if function can be integrated and then inverted).\n",
    "- Accept-Reject (or Hit & Miss) method (by Ulam Stanislav and John Von Neumann).\n",
    "\n",
    "### References:\n",
    "- G. Cowan: Chapter 3\n",
    "- P. R. Bevington: page 81-84\n",
    "- __[40. Monte Carlo Techniques PDG](https://pdg.lbl.gov/2023/reviews/rpp2023-rev-monte-carlo-techniques.pdf)__\n",
    "\n",
    "### Authors: \n",
    "- Troels C. Petersen (Niels Bohr Institute)\n",
    "\n",
    "### Date:    \n",
    "- 04-12-2023 (latest update)\n",
    "\n",
    "***"
   ]
  },
  {
   "cell_type": "code",
   "execution_count": 1,
   "metadata": {},
   "outputs": [],
   "source": [
    "import numpy as np                                     # Matlab like syntax for linear algebra and functions\n",
    "import matplotlib.pyplot as plt                        # Plots and figures like you know them from Matlab\n",
    "import seaborn as sns                                  # Make the plots nicer to look at\n",
    "from iminuit import Minuit                             # The actual fitting tool, better than scipy's\n",
    "import sys                                             # Modules to see files and folders in directories\n",
    "from scipy import stats"
   ]
  },
  {
   "cell_type": "markdown",
   "metadata": {},
   "source": [
    "Load external functions:"
   ]
  },
  {
   "cell_type": "code",
   "execution_count": 2,
   "metadata": {},
   "outputs": [],
   "source": [
    "sys.path.append('../../External_Functions')\n",
    "from ExternalFunctions import Chi2Regression, BinnedLH, UnbinnedLH\n",
    "from ExternalFunctions import nice_string_output, add_text_to_ax    # Useful functions to print fit results on figure\n",
    "\n",
    "plt.rcParams['font.size'] = 18     # Set some basic plotting parameters"
   ]
  },
  {
   "cell_type": "code",
   "execution_count": 5,
   "metadata": {},
   "outputs": [],
   "source": [
    "def accept_reject(func, x_bound, y_bound, samples):\n",
    "    x = np.random.uniform(*x_bound, size = samples)\n",
    "    y = np.random.uniform(*y_bound, size = samples)\n",
    "    \n",
    "    sampled = x[func(x) > y]\n",
    "    return sampled"
   ]
  },
  {
   "cell_type": "markdown",
   "metadata": {},
   "source": [
    "F = 1/4 * x^4 [0, C] = 1\n",
    "\n",
    "C^4 / 4 = 1\n",
    "\n",
    "C = sqrt(2)"
   ]
  },
  {
   "cell_type": "markdown",
   "metadata": {},
   "source": [
    "set the parameters of the program:"
   ]
  },
  {
   "cell_type": "code",
   "execution_count": 23,
   "metadata": {},
   "outputs": [
    {
     "data": {
      "image/png": "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\n",
      "text/plain": [
       "<Figure size 432x288 with 1 Axes>"
      ]
     },
     "metadata": {
      "needs_background": "light"
     },
     "output_type": "display_data"
    }
   ],
   "source": [
    "r = np.random\n",
    "r.seed(42)\n",
    "\n",
    "save_plots = False  \n",
    "N_points = 10000      # Number of random points used \n",
    "\n",
    "xmin = 0\n",
    "xmax = np.sqrt(2)            # Find out yourself what a good interval is.\n",
    "ymin = 0\n",
    "ymax = fx_x3(xmax)\n",
    "\n",
    "N_bins = 100          # Find out yourself what a good number of bins is.\n",
    "\n",
    "# f(x):\n",
    "def fx_x3(x) :\n",
    "    return x**3\n",
    "\n",
    "x_monte = accept_reject(fx_x3, [xmin, xmax], [ymin, ymax], 10000)\n",
    "x_trans = (lambda U: (4*U)**(1/4))(r.uniform(size=10000))\n",
    "\n",
    "\n",
    "X = np.linspace(xmin , xmax , 1000)\n",
    "plt.plot(X, fx_x3(X))\n",
    "plt.hist(x_monte, bins = 100, density = True)\n",
    "plt.hist(x_trans, bins = 100, density = True)\n",
    "\n",
    "\n",
    "plt.show()"
   ]
  },
  {
   "cell_type": "markdown",
   "metadata": {},
   "source": [
    "Using transformation sampling we get \n",
    "\n",
    "x^4 / 4 = U  \n",
    "\n",
    "x = (4U)^(1/4)"
   ]
  },
  {
   "cell_type": "code",
   "execution_count": null,
   "metadata": {},
   "outputs": [],
   "source": []
  },
  {
   "cell_type": "markdown",
   "metadata": {},
   "source": [
    "## Problem: \n",
    "\n",
    "1) Calculate $C$ such that f(x) is normalised [Analytical problem].\n",
    "\n",
    "2) Calculate the relevant integral (below) and inverted function for using the transformation method. Check that the limits actually makes sense [Analytical problem]. Note that it is important to include the limits!\n",
    "\n",
    "$$F(x) = \\int_{-\\infty}^{x} f(x') dx'$$\n",
    "\n",
    "3) Produce random points following $f(x) = x^3$, in the interval $[0, C]$ using **both** the Transformation and the Accept/Reject method.\n",
    "\n",
    "4) Fit your data with a third degree polynomial, and check that the coefficients correspond to what you would expect.\n",
    "\n",
    "5) Now try to change the interval from [0,C] to [1,C], and see how the limits change."
   ]
  },
  {
   "cell_type": "markdown",
   "metadata": {},
   "source": [
    "# Learning points:\n",
    "\n",
    "As a basic principle, this exercise should make you capable of using two methods for generating random numbers according to a 1D PDF f(x) based on uniform random numbers (provided by a standard algorithm):\n",
    "1. Transformation method (using integral+inverse of f(x))\n",
    "2. Accept-Reject method (using sampling in 2D compared to f(x))\n",
    "\n",
    "You should know:\n",
    "1. The advantages and limitations of each method.\n",
    "2. How to get the desired result out of each method.\n",
    "\n",
    "Finally, you should understand the motivation behind generating random numbers according to a given distribution, namely for simulating complicated situations (e.g. experimental setup), and evaluating the outcome."
   ]
  }
 ],
 "metadata": {
  "executable": "/usr/bin/env python",
  "kernelspec": {
   "display_name": "Python 3 (ipykernel)",
   "language": "python",
   "name": "python3"
  },
  "language_info": {
   "codemirror_mode": {
    "name": "ipython",
    "version": 3
   },
   "file_extension": ".py",
   "mimetype": "text/x-python",
   "name": "python",
   "nbconvert_exporter": "python",
   "pygments_lexer": "ipython3",
<<<<<<< HEAD
   "version": "3.8.8"
=======
   "version": "3.10.13"
>>>>>>> upstream/main
  },
  "main_language": "python"
 },
 "nbformat": 4,
 "nbformat_minor": 4
}
