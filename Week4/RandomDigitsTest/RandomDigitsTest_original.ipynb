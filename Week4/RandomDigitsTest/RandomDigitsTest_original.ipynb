{
 "cells": [
  {
   "cell_type": "markdown",
   "metadata": {},
   "source": [
    "# Random Digits Exercice\n",
    "\n",
    "### Description:\n",
    "This is an exercise in hypothesis testing, specifically determining if a series of digits [0,9] is random or not, and if the origin is human (i.e. yourself!). In order to determine this, one has to design and apply statistical tests, from which the degree of consistency of being random can be calculated.\n",
    "\n",
    "### Your task:\n",
    "Using tests of your choice/design, determine which of the given data sets are consistent with being random, and which aren't. One is based on the digits you entered in the course questionaire, while the others range from obviously non-random over poor/quasi random to digits of pi and truly random. See if you among these can determine your (human) dataset.\n",
    "\n",
    "###  Author: \n",
    " - Troels Petersen ([petersen@nbi.dk](mailto:petersen@nbi.dk))\n",
    "\n",
    "###  Date:\n",
    " - 7th of December 2023\n",
    "\n",
    "---"
   ]
  },
  {
   "cell_type": "code",
   "execution_count": 1,
   "metadata": {},
   "outputs": [],
   "source": [
    "import numpy as np\n",
    "import matplotlib as mpl\n",
    "import matplotlib.pyplot as plt\n",
    "from iminuit import Minuit\n",
    "from scipy import stats\n",
    "import os, sys                                         # Modules to see files and folders in directories\n",
    "from os.path import dirname as parent_folder"
   ]
  },
  {
   "cell_type": "code",
   "execution_count": 2,
   "metadata": {},
   "outputs": [],
   "source": [
    "sys.path.append('../../External_Functions')\n",
    "from ExternalFunctions import Chi2Regression, BinnedLH, UnbinnedLH\n",
    "from ExternalFunctions import nice_string_output, add_text_to_ax    # Useful functions to print fit results on figure"
   ]
  },
  {
   "cell_type": "code",
   "execution_count": 3,
   "metadata": {
    "lines_to_next_cell": 2
   },
   "outputs": [],
   "source": [
    "# Set som plotting standards:\n",
    "font = {'family' : 'serif',\n",
    "        'weight' : 'normal',\n",
    "        'size'   : 18}\n",
    "mpl.rc('font', **font)"
   ]
  },
  {
   "cell_type": "markdown",
   "metadata": {},
   "source": [
    "---\n",
    "## Import random numbers from text file:"
   ]
  },
  {
   "cell_type": "code",
   "execution_count": 12,
   "metadata": {},
   "outputs": [],
   "source": [
    "# Define list of input files:\n",
<<<<<<< HEAD
    "dataset_letter='F' # between A and G\n",
    "infiles = [\"data_RandomDigits2023_\" + dataset_letter + \".txt\" ]\n",
    "#infiles = ['pi1000000.txt']"
=======
    "dataset_letter='A' # between A and F\n",
    "infiles = [\"data_RandomDigits2023_\" + dataset_letter + \".txt\" ]"
>>>>>>> upstream/main
   ]
  },
  {
   "cell_type": "code",
   "execution_count": 13,
   "metadata": {},
   "outputs": [
    {
     "name": "stderr",
     "output_type": "stream",
     "text": [
      "<>:10: SyntaxWarning: \"is not\" with a literal. Did you mean \"!=\"?\n",
      "<>:10: SyntaxWarning: \"is not\" with a literal. Did you mean \"!=\"?\n",
      "<ipython-input-13-e9935cae4725>:10: SyntaxWarning: \"is not\" with a literal. Did you mean \"!=\"?\n",
      "  numbers += [int(char) for line in current_file for char in line.strip() if char is not \"\"]\n"
     ]
    }
   ],
   "source": [
    "# List containing all numbers:\n",
    "numbers = []\n",
    "\n",
    "# Loop over input files open them in read mode\n",
    "for ifile in infiles : \n",
    "    with open( ifile, \"r\" ) as current_file : \n",
    "        # Extract current file info : Loop through each line in the file, loop through each character\n",
    "        # in the line, demand character is not empty (\"\") and convert the result to an integer\n",
    "        # Finally add result to the numbers list\n",
    "        numbers += [int(char) for line in current_file for char in line.strip() if char is not \"\"]"
   ]
  },
  {
   "cell_type": "code",
   "execution_count": 8,
   "metadata": {
    "lines_to_next_cell": 2
   },
   "outputs": [
    {
     "name": "stdout",
     "output_type": "stream",
     "text": [
      "[1 4 1 ... 1 5 1] 1000000\n"
     ]
    }
   ],
   "source": [
    "# Always take a look at the data:\n",
    "numbers = np.array(numbers)\n",
    "print(numbers, len(numbers))"
   ]
  },
  {
   "cell_type": "markdown",
   "metadata": {},
   "source": [
    "---\n",
    "## Define your tests:\n",
    "\n",
    "Here is an example plot from the data, just for convenience. It is all up to you from here..."
   ]
  },
  {
   "cell_type": "code",
   "execution_count": 17,
   "metadata": {},
   "outputs": [
    {
     "name": "stdout",
     "output_type": "stream",
     "text": [
      " p_chi = 1.0\n",
      " p_freq = 0.8613644477778666\n"
     ]
    },
    {
     "data": {
      "image/png": "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\n",
      "text/plain": [
       "<Figure size 432x288 with 1 Axes>"
      ]
     },
     "metadata": {
      "needs_background": "light"
     },
     "output_type": "display_data"
    }
   ],
   "source": [
    "def chi(data):\n",
    "    avg    = len(data) / 10\n",
    "    counts, edges = np.histogram(data, 10, range = (0,10))\n",
    "    chi    = np.sum((counts - avg)**2 / np.sqrt(counts))\n",
    "    n_free = len(data) - 1\n",
    "    p_val  = stats.chi2.sf(chi, n_free)\n",
    "    return p_val\n",
    "    \n",
    "\n",
    "def freq(data):\n",
    "    seq_lens = np.arange(1, 11)  # Start from 1 to skip zero-length subsequences\n",
    "    counts = np.zeros(10)\n",
    "\n",
    "    L = len(data)\n",
    "    for seq in seq_lens:\n",
    "        for i in range(L):\n",
    "            subsequence = data[i: i + seq]\n",
    "            if len(subsequence) == seq and all(x == subsequence[0] for x in subsequence):\n",
    "                counts[seq - 1] += 1  \n",
    "        if counts[seq - 1] == 0:\n",
    "            counts = counts[:seq - 1]\n",
    "            break\n",
    "    \n",
    "    func = lambda x, b: counts[0]*b**x\n",
    "    \n",
    "    def chi(b):\n",
    "        model = func(np.arange(0, len(counts)), b) \n",
    "        chi2 = np.sum((counts - model)**2 / np.sqrt(counts))\n",
    "        return chi2\n",
    "    \n",
    "    fit = Minuit(chi, b = 1/10)\n",
    "    fit.errordef = 1.0     # This is the definition for ChiSqaure fits\n",
    "    fit.migrad() \n",
    "    chi = fit.fval\n",
    "    p_val  = stats.chi2.sf(chi, len(counts) - 1)\n",
    "    \n",
    "    plt.plot(np.arange(0, len(counts)), np.log10(func(np.arange(0, len(counts)), fit.values[0])), label = 'model')\n",
    "    plt.plot(np.arange(0, len(counts)), np.log10(counts), label = 'fit')\n",
    "    plt.legend()\n",
    "    return p_val\n",
    "    \n",
    "\n",
    "\n",
    "print(f' p_chi = {chi(numbers)  }' ) \n",
    "print(f' p_freq = {freq(numbers)  }' ) \n"
   ]
  },
  {
   "cell_type": "markdown",
   "metadata": {},
   "source": [
    "D gives a p_freq of 0.12\n",
    "\n",
    "E gives a p_freq of 0.00"
   ]
  },
  {
   "cell_type": "code",
   "execution_count": null,
   "metadata": {},
   "outputs": [],
   "source": [
    "fig, ax = plt.subplots(nrows=1, ncols=1, figsize=(10, 5))\n",
    "print(len(numbers[numbers%2 == 0]) - len(numbers)/2)\n",
    "\n",
    "ax.hist(numbers%2, bins=2, range=(-0.5, 1.5), histtype='step', density=False, lw=2)         \n",
    "ax.set(xlabel=\"Even (0) or Odd (1)\", ylabel=\"Frequency\", title=\"Even and odd digit test\")\n",
    "fig.tight_layout()"
   ]
  },
  {
   "cell_type": "markdown",
   "metadata": {},
   "source": [
    "### Comments on even/odd histogram:\n",
    "\n",
    "What would you expect this distribution to be? Think about it, and then ask, if the distribution observed in data truly follows your expectation. Afterwards, think about the many other tests, that you can perform."
   ]
  },
  {
   "cell_type": "markdown",
   "metadata": {},
   "source": [
    "### Note on general goal of hypothesis tests:\n",
    "Given the outcome of some test, you should try to convert it to a probability or number of sigmas (same thing). Thus determine what you expect, and then see what you observe and what uncertainty your observation has... and determine if this is consistent with the (null) hypothesis, that the data is truly random digits."
   ]
  },
  {
   "cell_type": "markdown",
   "metadata": {},
   "source": [
    "Questions:\n",
    "---\n",
    " 1. Discuss with your peers, what criteria truly random numbers should satisfy, and how these criteria can be tested.\n",
    "    Based on this and on the discussion in class, write up such tests, and run all the datasets through your tests to\n",
    "    see if some do not seem to be truly random.\n",
    "\n",
    " 2. While one dataset is truly random, another consists of decimals from $\\pi$. Apart from your own data, the other\n",
    "    data sets are the result of using random numbers, but applying shifting, copying, and using biased selections.\n",
    "    The non-human data sets are thus supposedly more regular (in some sense) than the humanly generated one. See if\n",
    "    you can determine which one is \"your\" (humanly generated) data."
   ]
  },
  {
   "cell_type": "markdown",
   "metadata": {},
   "source": [
    "# Learning points:\n",
    "\n",
    "This exercise should generally make you capable of:\n",
    "1. Designing (simple) hypothesis tests\n",
    "2. Coding them up\n",
    "3. Applying them to data\n",
    "4. Interpreting the results\n",
    "\n",
    "You should be highly aware, that a fully correct test may not \"discover\" anything, even if there is an effect. For example, testing if two samples are alike, and checking if the means are consistent is a test. And they may be consistent, even if the two samples are _very_ different.\n",
    "\n",
    "However, if just **one** test shows a significant deviation from a hypothesis, then this hypothesis fails."
   ]
  }
 ],
 "metadata": {
  "executable": "/usr/bin/env python",
  "kernelspec": {
   "display_name": "Python 3",
   "language": "python",
   "name": "python3"
  },
  "language_info": {
   "codemirror_mode": {
    "name": "ipython",
    "version": 3
   },
   "file_extension": ".py",
   "mimetype": "text/x-python",
   "name": "python",
   "nbconvert_exporter": "python",
   "pygments_lexer": "ipython3",
   "version": "3.8.8"
  },
  "main_language": "python"
 },
 "nbformat": 4,
 "nbformat_minor": 4
}
