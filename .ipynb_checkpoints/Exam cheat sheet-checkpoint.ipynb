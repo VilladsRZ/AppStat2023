{
 "cells": [
  {
   "cell_type": "code",
   "execution_count": 6,
   "id": "1dbfc1af",
   "metadata": {},
   "outputs": [],
   "source": [
    "import pandas as pd\n",
    "import numpy as np\n",
    "import random as r\n",
    "import matplotlib.pyplot as plt\n",
    "from scipy import stats\n",
    "from iminuit import Minuit                            \n",
    "from numpy.linalg import inv\n",
    "import sys\n",
    "import inspect\n",
    "from mpl_toolkits.axes_grid1.inset_locator import inset_axes\n",
    "import matplotlib.gridspec as gridspec\n"
   ]
  },
  {
   "cell_type": "code",
   "execution_count": 15,
   "id": "c2d164cb",
   "metadata": {},
   "outputs": [],
   "source": [
    "sys.path.append('External_Functions')\n",
    "from ExternalFunctions import *"
   ]
  },
  {
   "cell_type": "code",
   "execution_count": 21,
   "id": "271a4b8c",
   "metadata": {},
   "outputs": [],
   "source": [
    "fake_data1 = np.random.normal(loc = 3, scale = 2, size  = 1000)\n",
    "fake_data2 = np.random.normal(loc = 10, scale = 1, size  = 1000)"
   ]
  },
  {
   "cell_type": "code",
   "execution_count": 13,
   "id": "13829a3e",
   "metadata": {},
   "outputs": [],
   "source": [
    "def get_weighted_mean(x, x_err):\n",
    "    mean_weighted = np.nansum(x/x_err**2) / np.nansum(1/x_err**2)\n",
    "    err_weighted = np.sqrt(1/np.sum(1 / x_err**2)) \n",
    "    chi2 = np.nansum((x - mean_weighted)**2/x_err**2)\n",
    "    p = stats.chi2.sf(chi2, len(x) - 1)\n",
    "    return mean_weighted, err_weighted, chi2, p\n",
    "\n",
    "def get_separation(x, y, ddof = 0):\n",
    "    mean_x = np.mean(x)\n",
    "    mean_y = np.mean(y)\n",
    "    std_x = np.std(x, ddof = ddof)\n",
    "    std_y = np.std(y, ddof = ddof)\n",
    "    d = np.abs((mean_x - mean_y)) / np.sqrt(std_x**2 + std_y**2)\n",
    "    return d\n"
   ]
  },
  {
   "cell_type": "markdown",
   "id": "d83ca998",
   "metadata": {},
   "source": [
    "## functions"
   ]
  },
  {
   "cell_type": "code",
   "execution_count": 2,
   "id": "2cbf9d0b",
   "metadata": {},
   "outputs": [],
   "source": [
    "def gauss_pdf_norm(x, mu, sigma) :\n",
    "    return 1.0 / np.sqrt(2*np.pi) / sigma * np.exp( -0.5 * (x-mu)**2 / sigma**2)\n",
    "\n",
    "def scale_binned(func, N_data, N_bins, range_bins):\n",
    "    def wrapper(*x):\n",
    "        return func(*x) * N_data * range_bins / N_bins\n",
    "    return wrapper"
   ]
  },
  {
   "cell_type": "markdown",
   "id": "59f815d6",
   "metadata": {},
   "source": [
    "# fitting"
   ]
  },
  {
   "cell_type": "markdown",
   "id": "f532a5c0",
   "metadata": {},
   "source": [
    "### Binned chi2 fit on unbinned data"
   ]
  },
  {
   "cell_type": "code",
   "execution_count": null,
   "id": "ebdf1107",
   "metadata": {},
   "outputs": [],
   "source": [
    "Nbins = 100\n",
    "y_min = min(data)\n",
    "y_max = max(data)\n",
    "\n",
    "counts, bin_edges, _ = plt.hist(data, bins = Nbins, range = (y_min, y_max))\n",
    "mask = counts > 0\n",
    "x = ((bin_edges[1:] + bin_edges[:-1])/2)[mask]\n",
    "counts = counts[mask]\n",
    "norm = len(count) * (y_max - y_min) / Nbins\n",
    "    \n",
    "def chi2(*args):\n",
    "    y_model = N * func(x, *args)\n",
    "    return np.sum((counts - y_model)**2 / counts)\n",
    "#    return np.sum((counts - y_model)**2 / y_model) # if there is a LOT of empty bins, use this instead and remove the mask\n",
    "\n",
    "fit = Minuit(chi2_2, ...) \n",
    "fit.errordef = 1\n",
    "fit.migrad()\n",
    "\n",
    "chi2_val = fit.fval\n",
    "p = stats.chi2.sf(chi2_val, len(counts) - ...)\n",
    "\n",
    "values = fit.values[:]\n",
    "errors = fit.errors[:]"
   ]
  },
  {
   "cell_type": "markdown",
   "id": "57523485",
   "metadata": {},
   "source": [
    "# plotting"
   ]
  },
  {
   "cell_type": "code",
   "execution_count": 4,
   "id": "65e8b9dd",
   "metadata": {},
   "outputs": [
    {
     "ename": "NameError",
     "evalue": "name 'plt' is not defined",
     "output_type": "error",
     "traceback": [
      "\u001b[1;31m---------------------------------------------------------------------------\u001b[0m",
      "\u001b[1;31mNameError\u001b[0m                                 Traceback (most recent call last)",
      "\u001b[1;32m<ipython-input-4-4af6f6859af0>\u001b[0m in \u001b[0;36m<module>\u001b[1;34m\u001b[0m\n\u001b[0;32m      1\u001b[0m \u001b[1;31m# ax and fig\u001b[0m\u001b[1;33m\u001b[0m\u001b[1;33m\u001b[0m\u001b[1;33m\u001b[0m\u001b[0m\n\u001b[1;32m----> 2\u001b[1;33m \u001b[0mfig\u001b[0m\u001b[1;33m,\u001b[0m \u001b[0max\u001b[0m \u001b[1;33m=\u001b[0m \u001b[0mplt\u001b[0m\u001b[1;33m.\u001b[0m\u001b[0msubplots\u001b[0m\u001b[1;33m(\u001b[0m\u001b[0mncols\u001b[0m\u001b[1;33m=\u001b[0m\u001b[1;36m2\u001b[0m\u001b[1;33m,\u001b[0m\u001b[0mnrows\u001b[0m \u001b[1;33m=\u001b[0m \u001b[1;36m2\u001b[0m\u001b[1;33m,\u001b[0m \u001b[0mfigsize\u001b[0m\u001b[1;33m=\u001b[0m\u001b[1;33m(\u001b[0m\u001b[1;36m14\u001b[0m\u001b[1;33m,\u001b[0m \u001b[1;36m6\u001b[0m\u001b[1;33m)\u001b[0m\u001b[1;33m)\u001b[0m\u001b[1;33m\u001b[0m\u001b[1;33m\u001b[0m\u001b[0m\n\u001b[0m\u001b[0;32m      3\u001b[0m \u001b[1;33m\u001b[0m\u001b[0m\n\u001b[0;32m      4\u001b[0m \u001b[1;31m# adding text\u001b[0m\u001b[1;33m\u001b[0m\u001b[1;33m\u001b[0m\u001b[1;33m\u001b[0m\u001b[0m\n\u001b[0;32m      5\u001b[0m dic = {r'$\\chi^2$': 4,\n",
      "\u001b[1;31mNameError\u001b[0m: name 'plt' is not defined"
     ]
    }
   ],
   "source": [
    "# ax and fig\n",
    "fig, ax = plt.subplots(ncols=2,nrows = 2, figsize=(14, 6))\n",
    "\n",
    "# adding text\n",
    "dic = {r'$\\chi^2$': 4,\n",
    "       r'$n_{dof}$': 100,\n",
    "       r'$p_{value}$': 0.1}\n",
    "text = nice_string_output(dic, extra_spacing = 0, decimals = 2)\n",
    "add_text_to_ax(0.2, 0.8, text, ax, bbox=dict(boxstyle='round', facecolor='white', alpha=0.7))\n",
    "\n",
    "\n",
    "x, y, y_err = ..., ..., ...\n",
    "x_fit = np.linspace(min(x), max(x), 1000)\n",
    "ax.plot(x_fit, func(x_fit, a, b), color = 'red', label = 'fit')\n",
    "ax.fill_between(x_fit, func(x_fit, a+a_err, b+b_err), linear(x_fit, a-a_err, b-b_err), color = 'red',\n",
    "                edgecolor = 'red', ls = 'dashed', alpha = 0.2, label = 'fit error')\n",
    "ax.scatter(x, y, label = 'data')\n",
    "ax.errorbar(x, y, yerr = y_err, fmt = 'o', capsize = 12, label = 'errorbars')\n",
    "\n",
    "\n",
    "\n",
    "# for residual plots etc\n",
    "fig = plt.figure(figsize = (16,8))\n",
    "gs = gridspec.GridSpec(nrows = 2,ncols = 1, height_ratios=[3, 1], width_ratios = [1, 1], hspace = 0) \n",
    "ax1 = fig.add_subplot(gs[0])\n",
    "ax2 = fig.add_subplot(gs[1], sharex=ax1)\n",
    "ax1.xaxis.set_visible(False)\n",
    "\n",
    "\n"
   ]
  },
  {
   "cell_type": "markdown",
   "id": "8bb59542",
   "metadata": {},
   "source": [
    "# libararies"
   ]
  },
  {
   "cell_type": "code",
   "execution_count": 29,
   "id": "d2459fb0",
   "metadata": {},
   "outputs": [
    {
     "name": "stdout",
     "output_type": "stream",
     "text": [
      "0.8044988905221148\n"
     ]
    }
   ],
   "source": [
    "# for distributions\n",
    "\n",
    "p_binomial = stats.binom.sf(4, n = 10, p = 0.2)\n",
    "p_normal   = stats.norm.sf(4, loc = 20, scale = 3)\n",
    "p_poisson   = stats.poisson.sf(4, mu = 10)\n",
    "p_t   = stats.t.sf(4,  df = 3, loc = 6, scale = 2)\n",
    "\n",
    "# remeber if you want both tails to multiply by two\n",
    "\n",
    "\n",
    "p_shapiro = stats.shapiro(fake_data1)[1] # normaility test\n",
    "p_ks      = stats.kstest(fake_data1, fake_data2)\n",
    "\n",
    "correlation_pear = stats.pearsonr(fake_data1, fake_data2)\n",
    "correlation_spearman = stats.spearmanr(fake_data1, fake_data2)\n"
   ]
  },
  {
   "cell_type": "code",
   "execution_count": 17,
   "id": "151d9ed5",
   "metadata": {},
   "outputs": [
    {
     "ename": "FileNotFoundError",
     "evalue": "[Errno 2] No such file or directory: 'DataAndCodeForProblemSet/Set/data_CountryScores.csv'",
     "output_type": "error",
     "traceback": [
      "\u001b[1;31m---------------------------------------------------------------------------\u001b[0m",
      "\u001b[1;31mFileNotFoundError\u001b[0m                         Traceback (most recent call last)",
      "\u001b[1;32m<ipython-input-17-4f36e498578d>\u001b[0m in \u001b[0;36m<module>\u001b[1;34m\u001b[0m\n\u001b[1;32m----> 1\u001b[1;33m \u001b[0mdataframe\u001b[0m \u001b[1;33m=\u001b[0m \u001b[0mpd\u001b[0m\u001b[1;33m.\u001b[0m\u001b[0mread_csv\u001b[0m\u001b[1;33m(\u001b[0m\u001b[1;34m'DataAndCodeForProblemSet/Set/data_CountryScores.csv'\u001b[0m\u001b[1;33m,\u001b[0m \u001b[0mheader\u001b[0m\u001b[1;33m=\u001b[0m\u001b[1;36m0\u001b[0m\u001b[1;33m,\u001b[0m \u001b[0mindex_col\u001b[0m\u001b[1;33m=\u001b[0m\u001b[1;32mNone\u001b[0m\u001b[1;33m)\u001b[0m\u001b[1;33m\u001b[0m\u001b[1;33m\u001b[0m\u001b[0m\n\u001b[0m\u001b[0;32m      2\u001b[0m \u001b[0mCountry\u001b[0m\u001b[1;33m,\u001b[0m \u001b[0mGDP\u001b[0m\u001b[1;33m,\u001b[0m \u001b[0mPopSize\u001b[0m\u001b[1;33m,\u001b[0m \u001b[0mHappinessI\u001b[0m\u001b[1;33m,\u001b[0m \u001b[0mEconomicFreedomI\u001b[0m\u001b[1;33m,\u001b[0m \u001b[0mPressFreedomI\u001b[0m\u001b[1;33m,\u001b[0m \u001b[0mEducationI\u001b[0m \u001b[1;33m=\u001b[0m \u001b[0mdataframe\u001b[0m\u001b[1;33m.\u001b[0m\u001b[0mvalues\u001b[0m\u001b[1;33m.\u001b[0m\u001b[0mT\u001b[0m\u001b[1;33m\u001b[0m\u001b[1;33m\u001b[0m\u001b[0m\n",
      "\u001b[1;32m~\\anaconda3\\lib\\site-packages\\pandas\\io\\parsers.py\u001b[0m in \u001b[0;36mread_csv\u001b[1;34m(filepath_or_buffer, sep, delimiter, header, names, index_col, usecols, squeeze, prefix, mangle_dupe_cols, dtype, engine, converters, true_values, false_values, skipinitialspace, skiprows, skipfooter, nrows, na_values, keep_default_na, na_filter, verbose, skip_blank_lines, parse_dates, infer_datetime_format, keep_date_col, date_parser, dayfirst, cache_dates, iterator, chunksize, compression, thousands, decimal, lineterminator, quotechar, quoting, doublequote, escapechar, comment, encoding, dialect, error_bad_lines, warn_bad_lines, delim_whitespace, low_memory, memory_map, float_precision, storage_options)\u001b[0m\n\u001b[0;32m    608\u001b[0m     \u001b[0mkwds\u001b[0m\u001b[1;33m.\u001b[0m\u001b[0mupdate\u001b[0m\u001b[1;33m(\u001b[0m\u001b[0mkwds_defaults\u001b[0m\u001b[1;33m)\u001b[0m\u001b[1;33m\u001b[0m\u001b[1;33m\u001b[0m\u001b[0m\n\u001b[0;32m    609\u001b[0m \u001b[1;33m\u001b[0m\u001b[0m\n\u001b[1;32m--> 610\u001b[1;33m     \u001b[1;32mreturn\u001b[0m \u001b[0m_read\u001b[0m\u001b[1;33m(\u001b[0m\u001b[0mfilepath_or_buffer\u001b[0m\u001b[1;33m,\u001b[0m \u001b[0mkwds\u001b[0m\u001b[1;33m)\u001b[0m\u001b[1;33m\u001b[0m\u001b[1;33m\u001b[0m\u001b[0m\n\u001b[0m\u001b[0;32m    611\u001b[0m \u001b[1;33m\u001b[0m\u001b[0m\n\u001b[0;32m    612\u001b[0m \u001b[1;33m\u001b[0m\u001b[0m\n",
      "\u001b[1;32m~\\anaconda3\\lib\\site-packages\\pandas\\io\\parsers.py\u001b[0m in \u001b[0;36m_read\u001b[1;34m(filepath_or_buffer, kwds)\u001b[0m\n\u001b[0;32m    460\u001b[0m \u001b[1;33m\u001b[0m\u001b[0m\n\u001b[0;32m    461\u001b[0m     \u001b[1;31m# Create the parser.\u001b[0m\u001b[1;33m\u001b[0m\u001b[1;33m\u001b[0m\u001b[1;33m\u001b[0m\u001b[0m\n\u001b[1;32m--> 462\u001b[1;33m     \u001b[0mparser\u001b[0m \u001b[1;33m=\u001b[0m \u001b[0mTextFileReader\u001b[0m\u001b[1;33m(\u001b[0m\u001b[0mfilepath_or_buffer\u001b[0m\u001b[1;33m,\u001b[0m \u001b[1;33m**\u001b[0m\u001b[0mkwds\u001b[0m\u001b[1;33m)\u001b[0m\u001b[1;33m\u001b[0m\u001b[1;33m\u001b[0m\u001b[0m\n\u001b[0m\u001b[0;32m    463\u001b[0m \u001b[1;33m\u001b[0m\u001b[0m\n\u001b[0;32m    464\u001b[0m     \u001b[1;32mif\u001b[0m \u001b[0mchunksize\u001b[0m \u001b[1;32mor\u001b[0m \u001b[0miterator\u001b[0m\u001b[1;33m:\u001b[0m\u001b[1;33m\u001b[0m\u001b[1;33m\u001b[0m\u001b[0m\n",
      "\u001b[1;32m~\\anaconda3\\lib\\site-packages\\pandas\\io\\parsers.py\u001b[0m in \u001b[0;36m__init__\u001b[1;34m(self, f, engine, **kwds)\u001b[0m\n\u001b[0;32m    817\u001b[0m             \u001b[0mself\u001b[0m\u001b[1;33m.\u001b[0m\u001b[0moptions\u001b[0m\u001b[1;33m[\u001b[0m\u001b[1;34m\"has_index_names\"\u001b[0m\u001b[1;33m]\u001b[0m \u001b[1;33m=\u001b[0m \u001b[0mkwds\u001b[0m\u001b[1;33m[\u001b[0m\u001b[1;34m\"has_index_names\"\u001b[0m\u001b[1;33m]\u001b[0m\u001b[1;33m\u001b[0m\u001b[1;33m\u001b[0m\u001b[0m\n\u001b[0;32m    818\u001b[0m \u001b[1;33m\u001b[0m\u001b[0m\n\u001b[1;32m--> 819\u001b[1;33m         \u001b[0mself\u001b[0m\u001b[1;33m.\u001b[0m\u001b[0m_engine\u001b[0m \u001b[1;33m=\u001b[0m \u001b[0mself\u001b[0m\u001b[1;33m.\u001b[0m\u001b[0m_make_engine\u001b[0m\u001b[1;33m(\u001b[0m\u001b[0mself\u001b[0m\u001b[1;33m.\u001b[0m\u001b[0mengine\u001b[0m\u001b[1;33m)\u001b[0m\u001b[1;33m\u001b[0m\u001b[1;33m\u001b[0m\u001b[0m\n\u001b[0m\u001b[0;32m    820\u001b[0m \u001b[1;33m\u001b[0m\u001b[0m\n\u001b[0;32m    821\u001b[0m     \u001b[1;32mdef\u001b[0m \u001b[0mclose\u001b[0m\u001b[1;33m(\u001b[0m\u001b[0mself\u001b[0m\u001b[1;33m)\u001b[0m\u001b[1;33m:\u001b[0m\u001b[1;33m\u001b[0m\u001b[1;33m\u001b[0m\u001b[0m\n",
      "\u001b[1;32m~\\anaconda3\\lib\\site-packages\\pandas\\io\\parsers.py\u001b[0m in \u001b[0;36m_make_engine\u001b[1;34m(self, engine)\u001b[0m\n\u001b[0;32m   1048\u001b[0m             )\n\u001b[0;32m   1049\u001b[0m         \u001b[1;31m# error: Too many arguments for \"ParserBase\"\u001b[0m\u001b[1;33m\u001b[0m\u001b[1;33m\u001b[0m\u001b[1;33m\u001b[0m\u001b[0m\n\u001b[1;32m-> 1050\u001b[1;33m         \u001b[1;32mreturn\u001b[0m \u001b[0mmapping\u001b[0m\u001b[1;33m[\u001b[0m\u001b[0mengine\u001b[0m\u001b[1;33m]\u001b[0m\u001b[1;33m(\u001b[0m\u001b[0mself\u001b[0m\u001b[1;33m.\u001b[0m\u001b[0mf\u001b[0m\u001b[1;33m,\u001b[0m \u001b[1;33m**\u001b[0m\u001b[0mself\u001b[0m\u001b[1;33m.\u001b[0m\u001b[0moptions\u001b[0m\u001b[1;33m)\u001b[0m  \u001b[1;31m# type: ignore[call-arg]\u001b[0m\u001b[1;33m\u001b[0m\u001b[1;33m\u001b[0m\u001b[0m\n\u001b[0m\u001b[0;32m   1051\u001b[0m \u001b[1;33m\u001b[0m\u001b[0m\n\u001b[0;32m   1052\u001b[0m     \u001b[1;32mdef\u001b[0m \u001b[0m_failover_to_python\u001b[0m\u001b[1;33m(\u001b[0m\u001b[0mself\u001b[0m\u001b[1;33m)\u001b[0m\u001b[1;33m:\u001b[0m\u001b[1;33m\u001b[0m\u001b[1;33m\u001b[0m\u001b[0m\n",
      "\u001b[1;32m~\\anaconda3\\lib\\site-packages\\pandas\\io\\parsers.py\u001b[0m in \u001b[0;36m__init__\u001b[1;34m(self, src, **kwds)\u001b[0m\n\u001b[0;32m   1865\u001b[0m \u001b[1;33m\u001b[0m\u001b[0m\n\u001b[0;32m   1866\u001b[0m         \u001b[1;31m# open handles\u001b[0m\u001b[1;33m\u001b[0m\u001b[1;33m\u001b[0m\u001b[1;33m\u001b[0m\u001b[0m\n\u001b[1;32m-> 1867\u001b[1;33m         \u001b[0mself\u001b[0m\u001b[1;33m.\u001b[0m\u001b[0m_open_handles\u001b[0m\u001b[1;33m(\u001b[0m\u001b[0msrc\u001b[0m\u001b[1;33m,\u001b[0m \u001b[0mkwds\u001b[0m\u001b[1;33m)\u001b[0m\u001b[1;33m\u001b[0m\u001b[1;33m\u001b[0m\u001b[0m\n\u001b[0m\u001b[0;32m   1868\u001b[0m         \u001b[1;32massert\u001b[0m \u001b[0mself\u001b[0m\u001b[1;33m.\u001b[0m\u001b[0mhandles\u001b[0m \u001b[1;32mis\u001b[0m \u001b[1;32mnot\u001b[0m \u001b[1;32mNone\u001b[0m\u001b[1;33m\u001b[0m\u001b[1;33m\u001b[0m\u001b[0m\n\u001b[0;32m   1869\u001b[0m         \u001b[1;32mfor\u001b[0m \u001b[0mkey\u001b[0m \u001b[1;32min\u001b[0m \u001b[1;33m(\u001b[0m\u001b[1;34m\"storage_options\"\u001b[0m\u001b[1;33m,\u001b[0m \u001b[1;34m\"encoding\"\u001b[0m\u001b[1;33m,\u001b[0m \u001b[1;34m\"memory_map\"\u001b[0m\u001b[1;33m,\u001b[0m \u001b[1;34m\"compression\"\u001b[0m\u001b[1;33m)\u001b[0m\u001b[1;33m:\u001b[0m\u001b[1;33m\u001b[0m\u001b[1;33m\u001b[0m\u001b[0m\n",
      "\u001b[1;32m~\\anaconda3\\lib\\site-packages\\pandas\\io\\parsers.py\u001b[0m in \u001b[0;36m_open_handles\u001b[1;34m(self, src, kwds)\u001b[0m\n\u001b[0;32m   1360\u001b[0m         \u001b[0mLet\u001b[0m \u001b[0mthe\u001b[0m \u001b[0mreaders\u001b[0m \u001b[0mopen\u001b[0m \u001b[0mIOHanldes\u001b[0m \u001b[0mafter\u001b[0m \u001b[0mthey\u001b[0m \u001b[0mare\u001b[0m \u001b[0mdone\u001b[0m \u001b[1;32mwith\u001b[0m \u001b[0mtheir\u001b[0m \u001b[0mpotential\u001b[0m \u001b[0mraises\u001b[0m\u001b[1;33m.\u001b[0m\u001b[1;33m\u001b[0m\u001b[1;33m\u001b[0m\u001b[0m\n\u001b[0;32m   1361\u001b[0m         \"\"\"\n\u001b[1;32m-> 1362\u001b[1;33m         self.handles = get_handle(\n\u001b[0m\u001b[0;32m   1363\u001b[0m             \u001b[0msrc\u001b[0m\u001b[1;33m,\u001b[0m\u001b[1;33m\u001b[0m\u001b[1;33m\u001b[0m\u001b[0m\n\u001b[0;32m   1364\u001b[0m             \u001b[1;34m\"r\"\u001b[0m\u001b[1;33m,\u001b[0m\u001b[1;33m\u001b[0m\u001b[1;33m\u001b[0m\u001b[0m\n",
      "\u001b[1;32m~\\anaconda3\\lib\\site-packages\\pandas\\io\\common.py\u001b[0m in \u001b[0;36mget_handle\u001b[1;34m(path_or_buf, mode, encoding, compression, memory_map, is_text, errors, storage_options)\u001b[0m\n\u001b[0;32m    640\u001b[0m                 \u001b[0merrors\u001b[0m \u001b[1;33m=\u001b[0m \u001b[1;34m\"replace\"\u001b[0m\u001b[1;33m\u001b[0m\u001b[1;33m\u001b[0m\u001b[0m\n\u001b[0;32m    641\u001b[0m             \u001b[1;31m# Encoding\u001b[0m\u001b[1;33m\u001b[0m\u001b[1;33m\u001b[0m\u001b[1;33m\u001b[0m\u001b[0m\n\u001b[1;32m--> 642\u001b[1;33m             handle = open(\n\u001b[0m\u001b[0;32m    643\u001b[0m                 \u001b[0mhandle\u001b[0m\u001b[1;33m,\u001b[0m\u001b[1;33m\u001b[0m\u001b[1;33m\u001b[0m\u001b[0m\n\u001b[0;32m    644\u001b[0m                 \u001b[0mioargs\u001b[0m\u001b[1;33m.\u001b[0m\u001b[0mmode\u001b[0m\u001b[1;33m,\u001b[0m\u001b[1;33m\u001b[0m\u001b[1;33m\u001b[0m\u001b[0m\n",
      "\u001b[1;31mFileNotFoundError\u001b[0m: [Errno 2] No such file or directory: 'DataAndCodeForProblemSet/Set/data_CountryScores.csv'"
     ]
    }
   ],
   "source": [
    "dataframe = pd.read_csv('DataAndCodeForProblemSet/Set/data_CountryScores.csv', header=0, index_col=None)\n",
    "Country, GDP, PopSize, HappinessI, EconomicFreedomI, PressFreedomI, EducationI = dataframe.values.T"
   ]
  },
  {
   "cell_type": "code",
   "execution_count": null,
   "id": "05be9ec0",
   "metadata": {},
   "outputs": [],
   "source": [
    "PopSize = PopSize.astype('float64')"
   ]
  },
  {
   "cell_type": "code",
   "execution_count": null,
   "id": "70861c72",
   "metadata": {},
   "outputs": [],
   "source": [
    "log_GDP = np.log10(PopSize)"
   ]
  },
  {
   "cell_type": "code",
   "execution_count": null,
   "id": "4ef97240",
   "metadata": {},
   "outputs": [],
   "source": [
    "N_bins = 40\n",
    "bins_range = np.max(log_GDP) - np.min(log_GDP)\n",
    "scale = len(PopSize) * bins_range / N_bins\n",
    "\n",
    "y, edges = np.histogram(log_GDP, bins = N_bins, range = (min(log_GDP), max(log_GDP)))\n",
    "x = ((edges[1:] + edges[:-1])/2)\n",
    "\n",
    "\n",
    "func = lambda x, mu, sigma: scale * gauss_pdf_norm(x, mu, sigma)\n",
    "\n",
    "chi2_gauss = Chi2Regression(f = func, x = x, y = y, sy = np.sqrt(y))\n",
    "fit = Minuit(chi2_gauss, mu = 7, sigma = 0.1) \n",
    "fit.errordef = 1\n",
    "fit.migrad()"
   ]
  },
  {
   "cell_type": "code",
   "execution_count": null,
   "id": "4bf0189f",
   "metadata": {},
   "outputs": [],
   "source": [
    "mu, sigma = fit.values[:]\n",
    "\n",
    "plt.plot(x, func(x, mu, sigma))\n",
    "plt.hist(log_GDP, bins = 40, range = (min(log_GDP), max(log_GDP)))\n",
    "plt.show()"
   ]
  },
  {
   "cell_type": "code",
   "execution_count": 3,
   "id": "4a62d686",
   "metadata": {},
   "outputs": [
    {
     "ename": "NameError",
     "evalue": "name 'plt' is not defined",
     "output_type": "error",
     "traceback": [
      "\u001b[1;31m---------------------------------------------------------------------------\u001b[0m",
      "\u001b[1;31mNameError\u001b[0m                                 Traceback (most recent call last)",
      "\u001b[1;32m<ipython-input-3-4b3572595c07>\u001b[0m in \u001b[0;36m<module>\u001b[1;34m\u001b[0m\n\u001b[1;32m----> 1\u001b[1;33m \u001b[0mfig\u001b[0m\u001b[1;33m,\u001b[0m \u001b[0max\u001b[0m \u001b[1;33m=\u001b[0m \u001b[0mplt\u001b[0m\u001b[1;33m.\u001b[0m\u001b[0msubplots\u001b[0m\u001b[1;33m(\u001b[0m\u001b[0mncols\u001b[0m\u001b[1;33m=\u001b[0m\u001b[1;36m2\u001b[0m\u001b[1;33m,\u001b[0m\u001b[0mnrows\u001b[0m \u001b[1;33m=\u001b[0m \u001b[1;36m2\u001b[0m\u001b[1;33m,\u001b[0m \u001b[0mfigsize\u001b[0m\u001b[1;33m=\u001b[0m\u001b[1;33m(\u001b[0m\u001b[1;36m14\u001b[0m\u001b[1;33m,\u001b[0m \u001b[1;36m6\u001b[0m\u001b[1;33m)\u001b[0m\u001b[1;33m)\u001b[0m\u001b[1;33m\u001b[0m\u001b[1;33m\u001b[0m\u001b[0m\n\u001b[0m",
      "\u001b[1;31mNameError\u001b[0m: name 'plt' is not defined"
     ]
    }
   ],
   "source": []
  },
  {
   "cell_type": "code",
   "execution_count": null,
   "id": "17351f48",
   "metadata": {},
   "outputs": [],
   "source": [
    "plt.bar(x,y, np.diff(edges))"
   ]
  },
  {
   "cell_type": "code",
   "execution_count": null,
   "id": "775dd4ba",
   "metadata": {},
   "outputs": [],
   "source": []
  }
 ],
 "metadata": {
  "kernelspec": {
   "display_name": "Python 3",
   "language": "python",
   "name": "python3"
  },
  "language_info": {
   "codemirror_mode": {
    "name": "ipython",
    "version": 3
   },
   "file_extension": ".py",
   "mimetype": "text/x-python",
   "name": "python",
   "nbconvert_exporter": "python",
   "pygments_lexer": "ipython3",
   "version": "3.8.8"
  }
 },
 "nbformat": 4,
 "nbformat_minor": 5
}
