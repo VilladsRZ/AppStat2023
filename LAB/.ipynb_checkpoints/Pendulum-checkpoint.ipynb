{
 "cells": [
  {
   "cell_type": "code",
   "execution_count": 1,
   "id": "25638d68",
   "metadata": {},
   "outputs": [],
   "source": [
    "import numpy as np                                     # Matlab like syntax for linear algebra and functions\n",
    "import matplotlib.pyplot as plt                        # Plots and figures like you know them from Matlab\n",
    "import seaborn as sns                                  # Make the plots nicer to look at\n",
    "from iminuit import Minuit                             # The actual fitting tool, better than scipy's\n",
    "import sys                                             # Module to see files and folders in directories\n",
    "from scipy import stats"
   ]
  },
  {
   "cell_type": "code",
   "execution_count": 2,
   "id": "a1f6ced9",
   "metadata": {},
   "outputs": [],
   "source": [
    "sys.path.append('../External_Functions')\n",
    "from ExternalFunctions import UnbinnedLH, BinnedLH, Chi2Regression\n",
    "from ExternalFunctions import nice_string_output, add_text_to_ax   # Useful functions to print fit results on figure"
   ]
  },
  {
   "cell_type": "code",
   "execution_count": 3,
   "id": "5a5f43e8",
   "metadata": {},
   "outputs": [],
   "source": [
    "file_paths =      [\"Pendulum_data/time/file2.dat\", \"Pendulum_data/time/file3.dat\", \n",
    "                   \"Pendulum_data/time/file4.dat\", \"Pendulum_data/time/file5.dat\",\n",
    "                   \"Pendulum_data/time/file6.dat\"]\n",
    "\n",
    "data = []\n",
    "\n",
    "for file_path in file_paths:\n",
    "    temp = np.genfromtxt(file_path, delimiter='')  \n",
    "    data.append(temp)"
   ]
  },
  {
   "cell_type": "code",
   "execution_count": null,
   "id": "d075a698",
   "metadata": {},
   "outputs": [],
   "source": [
    "        "
   ]
  },
  {
   "cell_type": "code",
   "execution_count": 4,
   "id": "d8fd1a00",
   "metadata": {},
   "outputs": [],
   "source": [
    "def linear(x, a, b):\n",
    "    return a*x + b\n",
    "\n",
    "def linear2(x, a):\n",
    "    return a*x\n",
    "\n",
    "def gauss_pdf(x, mu, sigma) :\n",
    "    return 1.0 / np.sqrt(2*np.pi) / sigma * np.exp( -0.5 * (x-mu)**2 / sigma**2)\n",
    "\n",
    "def get_weighted_mean(x, x_err):\n",
    "    mean_weighted = np.nansum(x/x_err**2) / np.nansum(1/x_err**2)\n",
    "    err_weighted = np.sqrt(1/np.sum(1 / x_err**2)) \n",
    "    chi2 = np.nansum((x - mean_weighted)**2/x_err**2)\n",
    "    print(stats.chi2.sf(chi2, len(x) - 1))\n",
    "    return mean_weighted, err_weighted\n",
    "\n",
    "\n",
    "\n",
    "\n",
    "def cleaning(x, show = True):\n",
    "    items_removed = []\n",
    "    index_removed = []\n",
    "    sample_sigma = np.vectorize(lambda array: abs(array - mu) / sig)\n",
    "    while True:\n",
    "        mu  = np.mean(x)\n",
    "        sig = np.std(x)\n",
    "        #print(f'mu = {mu} and sigma = {sig}')\n",
    "        \n",
    "        z_values = sample_sigma(x)\n",
    "        max_z = np.max(z_values)\n",
    "        \n",
    "        p  = stats.norm.sf(abs(max_z)) \n",
    "        if p < 1 / (len(x) * 2):\n",
    "            index_z = np.where(z_values == max_z)[0][0]\n",
    "            items_removed.append(x[index_z])\n",
    "            index_removed.append(index_z)\n",
    "            if show:\n",
    "                print()\n",
    "                print(f'datapoint: {x[index_z]}. p_value = {p:.4f} < Requirement = {1 / (len(x) * 2):.4f}')\n",
    "\n",
    "            x = np.delete(x, index_z)\n",
    "        else:\n",
    "            print(f'Number of points removed: {len(items_removed)}')\n",
    "            break\n",
    "    return x, np.array(items_removed), np.array(index_removed)"
   ]
  },
  {
   "cell_type": "code",
   "execution_count": null,
   "id": "90cb41bb",
   "metadata": {},
   "outputs": [],
   "source": []
  },
  {
   "cell_type": "markdown",
   "id": "4f48ac5f",
   "metadata": {},
   "source": [
    "# Uncertainties"
   ]
  },
  {
   "cell_type": "code",
   "execution_count": 5,
   "id": "b0c669f4",
   "metadata": {},
   "outputs": [],
   "source": [
    "data   = [array[:25] for array in data] # 25 measurements\n",
    "swings = np.array(data[0]).T[0] # range from 1 to 25\n",
    "periods = np.array(data).T[1].T\n",
    "human_error = 0\n",
    "\n",
    "\n",
    "combined_periods = np.mean(data, axis=0).T[1] # the combined average\n",
    "combined_period_err = human_error + np.std(data, axis=0).T[1] / np.sqrt(5) # error on the each averaged datapoint\n",
    "\n",
    "#print(combined_periods)\n",
    "#print(combined_period_err)"
   ]
  },
  {
   "cell_type": "code",
   "execution_count": 6,
   "id": "d644b759",
   "metadata": {},
   "outputs": [
    {
     "name": "stdout",
     "output_type": "stream",
     "text": [
      " Person 0: ± 0.03 s\n",
      " Person 1: ± 0.21 s\n",
      " Person 2: ± 0.05 s\n",
      " Person 3: ± 0.09 s\n",
      " Person 4: ± 0.30 s\n"
     ]
    }
   ],
   "source": [
    "# getting the times between measurements (periods)\n",
    "periods_diff = [np.diff(np.insert(x, 0, 0)) for x in periods]\n",
    "\n",
    "# error on the mean of the periods of different people\n",
    "for i, period in enumerate (periods_diff):\n",
    "    print(f' Person {i}: \\u00B1 {np.std(period, axis = 0):.2f} s')"
   ]
  },
  {
   "cell_type": "markdown",
   "id": "28acaf78",
   "metadata": {},
   "source": [
    "## data-pruning"
   ]
  },
  {
   "cell_type": "code",
   "execution_count": 7,
   "id": "47665141",
   "metadata": {},
   "outputs": [
    {
     "name": "stdout",
     "output_type": "stream",
     "text": [
      "Number of points removed: 0\n",
      "Number of points removed: 0\n",
      "Number of points removed: 0\n",
      "Number of points removed: 0\n",
      "Number of points removed: 4\n",
      "[  7.3306 118.4886 110.288  153.0579]\n"
     ]
    }
   ],
   "source": [
    "indices_removed = []\n",
    "for i in range(len(periods_diff)):\n",
    "    _, _, temp = cleaning(periods_diff[i], False)\n",
    "    indices_removed.append(temp)\n",
    "\n",
    "indices_removed = indices_removed[-1]\n",
    "periods_corr = list(periods)\n",
    "\n",
    "print(periods_corr[-1][indices_removed])\n",
    "periods_corr[-1][indices_removed]  = np.nan\n",
    "\n",
    "combined_periods_corr = np.nanmean(periods_corr, axis=0) # the combined average\n",
    "lengths = np.count_nonzero(~np.isnan(periods_corr), axis=0)\n",
    "combined_period_corr_err = human_error + np.nanstd(periods_corr, axis=0) / np.sqrt(lengths) # error on the each averaged datapoint"
   ]
  },
  {
   "cell_type": "code",
   "execution_count": null,
   "id": "64ed7314",
   "metadata": {},
   "outputs": [],
   "source": []
  },
  {
   "cell_type": "code",
   "execution_count": 8,
   "id": "f4f4917c",
   "metadata": {},
   "outputs": [
    {
     "name": "stdout",
     "output_type": "stream",
     "text": [
      " Person 0: ± 0.03 s\n",
      " Person 1: ± 0.21 s\n",
      " Person 2: ± 0.05 s\n",
      " Person 3: ± 0.09 s\n",
      " Person 4: ± 0.15 s\n"
     ]
    }
   ],
   "source": [
    "# after correction\n",
    "periods_diff_corr = [np.diff(np.insert(x, 0, 0)) for x in periods]\n",
    "for i, period in enumerate (periods_diff_corr):\n",
    "    print(f' Person {i}: \\u00B1 {np.nanstd(period, axis = 0):.2f} s')"
   ]
  },
  {
   "cell_type": "code",
   "execution_count": 9,
   "id": "38a3cea2",
   "metadata": {},
   "outputs": [
    {
     "name": "stdout",
     "output_type": "stream",
     "text": [
      "[array([8.617 , 8.5567, 8.5861, 8.5946, 8.5323, 8.6283, 8.5472, 8.5636,\n",
      "       8.6415, 8.5642, 8.5735, 8.586 , 8.5646, 8.6086, 8.5543, 8.5975,\n",
      "       8.5946, 8.6011, 8.578 , 8.5927, 8.603 , 8.5428, 8.6264, 8.568 ,\n",
      "       8.6352]), array([8.9758, 8.2949, 8.7195, 8.5346, 8.4938, 8.7697, 8.6742, 8.3278,\n",
      "       8.4716, 8.9094, 8.5415, 8.5388, 8.5637, 8.3799, 8.6868, 8.8504,\n",
      "       8.737 , 8.3664, 8.4842, 8.5128, 8.9116, 8.5189, 8.2965, 8.8997,\n",
      "       8.2932]), array([8.5199, 8.5083, 8.5543, 8.6465, 8.5644, 8.6362, 8.6059, 8.5525,\n",
      "       8.5663, 8.5567, 8.6399, 8.4919, 8.6619, 8.5746, 8.6219, 8.5005,\n",
      "       8.689 , 8.5105, 8.6315, 8.6333, 8.6243, 8.5783, 8.5628, 8.5649,\n",
      "       8.6531]), array([8.6958, 8.4685, 8.6172, 8.6393, 8.4367, 8.5738, 8.7307, 8.489 ,\n",
      "       8.667 , 8.6211, 8.7261, 8.4785, 8.5606, 8.6838, 8.4761, 8.7088,\n",
      "       8.4034, 8.6909, 8.6537, 8.5316, 8.5763, 8.6771, 8.5867, 8.596 ,\n",
      "       8.5451]), array([   nan,    nan, 8.4851, 8.5736, 8.5174, 8.4907, 8.7789, 8.4389,\n",
      "       8.585 , 8.66  , 8.5854, 8.5418,    nan,    nan,    nan, 8.5427,\n",
      "       8.5029,    nan,    nan, 8.825 , 8.267 , 8.3711, 8.7727, 8.7795,\n",
      "       8.3443])]\n"
     ]
    }
   ],
   "source": [
    "print(periods_diff_corr)"
   ]
  },
  {
   "cell_type": "code",
   "execution_count": 10,
   "id": "7d75c1c5",
   "metadata": {},
   "outputs": [
    {
     "name": "stdout",
     "output_type": "stream",
     "text": [
      "0.9931468403950208\n",
      "0.9359944734569635\n",
      "(8.586367073891381, 0.010994356229200409) (8.586191705475022, 0.004880325495697679)\n"
     ]
    }
   ],
   "source": [
    "# Getting weighted mean on raw\n",
    "w_p_r = get_weighted_mean(np.mean(periods_diff, axis=1), np.std(periods_diff, axis=1)/np.sqrt(5))\n",
    "\n",
    "# Getting weighted mean on corrected\n",
    "w_p_c = get_weighted_mean(np.nanmean(periods_diff_corr, axis=1), np.nanstd(periods_diff_corr, axis=1)/np.sqrt(np.count_nonzero(~np.isnan(periods_corr), axis=1)))\n",
    "\n",
    "print(w_p_r, w_p_c)"
   ]
  },
  {
   "cell_type": "markdown",
   "id": "73e41858",
   "metadata": {},
   "source": [
    "# Period finding"
   ]
  },
  {
   "cell_type": "code",
   "execution_count": 11,
   "id": "f7ed3f6d",
   "metadata": {},
   "outputs": [],
   "source": [
    "def get_period(x_data, y_data, y_errors, plot = True, label = 'fit'): \n",
    "    def chi2_linear(a, b):\n",
    "        y_model = linear(x_data, a, b)\n",
    "        chi2 = np.sum(((y_data - y_model) / y_errors) ** 2)\n",
    "        return chi2\n",
    "\n",
    "    chi2_linear_fit = Minuit(chi2_linear, a = 8.5,b = 0)\n",
    "    chi2_linear_fit.errordef = 1.0\n",
    "    chi2_linear_fit.migrad()\n",
    "    fit_a =           chi2_linear_fit.values[\"a\"]\n",
    "    fit_b =           chi2_linear_fit.values[\"b\"]\n",
    "    fit_a_err =       chi2_linear_fit.errors[\"a\"]\n",
    "    fit_b_err =       chi2_linear_fit.errors[\"b\"]\n",
    "\n",
    "    print(f'a = {fit_a:.4f}  \\u00B1 {fit_a_err:.4f} , b = {fit_b:.2f} \\u00B1 {fit_b_err:.2f}')\n",
    "    print(f'p_chi2 = {stats.chi2.sf(chi2_linear_fit.fval, len(x_data) - 2):.3}')\n",
    "    print(chi2_linear_fit.fval, len(x_data) - 2)\n",
    "    \n",
    "    if plot:\n",
    "        plt.scatter(x_data, y_data, label = label + ' data', color = 'black')\n",
    "        plt.plot(x_data, linear(x_data, fit_a, fit_b), label = 'Fit', color = 'red')\n",
    "        #plt.errorbar(x_data, y_data, yerr = y_errors , label = 'errorbars')\n",
    "        plt.legend()\n",
    "\n",
    "def get_period2(x_data, y_data, y_errors, plot = True, label = 'fit'): \n",
    "    def chi2_linear(a):\n",
    "        y_model = linear2(x_data, a)\n",
    "        chi2 = np.sum(((y_data - y_model) / y_errors) ** 2)\n",
    "        return chi2\n",
    "\n",
    "    chi2_linear_fit = Minuit(chi2_linear, a = 8.5)\n",
    "    chi2_linear_fit.errordef = 1.0\n",
    "    chi2_linear_fit.migrad()\n",
    "    fit_a =           chi2_linear_fit.values[\"a\"]\n",
    "    fit_a_err =       chi2_linear_fit.errors[\"a\"]\n",
    "\n",
    "    print(f'a = {fit_a:.4f}  \\u00B1 {fit_a_err:.4f}')\n",
    "    print(f'p_chi2 = {stats.chi2.sf(chi2_linear_fit.fval, len(x_data) - 2):.3}')\n",
    "    print(chi2_linear_fit.fval, len(x_data) - 2)\n",
    "    \n",
    "    if plot:\n",
    "        plt.scatter(x_data, y_data, label = label + ' data', color = 'black')\n",
    "        plt.plot(x_data, linear2(x_data, fit_a), label = 'Fit', color = 'red')\n",
    "        #plt.errorbar(x_data, y_data, yerr = y_errors , label = 'errorbars')\n",
    "        plt.legend()\n"
   ]
  },
  {
   "cell_type": "code",
   "execution_count": 12,
   "id": "d2819555",
   "metadata": {},
   "outputs": [
    {
     "name": "stdout",
     "output_type": "stream",
     "text": [
      "[0.25457847 0.20523378 0.23357859 0.23564429 0.23213733 0.26524664\n",
      " 0.24335525 0.2435772  0.24311098 0.25174359 0.25654767 0.25313354\n",
      " 0.24765298 0.31064895 0.23318882 0.26606351 0.28722216 0.28423409\n",
      " 0.26484188 0.21621785 0.29673532 0.33214036 0.28194875 0.26828043\n",
      " 0.29209941]\n"
     ]
    }
   ],
   "source": [
    "print(combined_period_err)"
   ]
  },
  {
   "cell_type": "markdown",
   "id": "a9e3464b",
   "metadata": {},
   "source": [
    "## Uncorrected"
   ]
  },
  {
   "cell_type": "code",
   "execution_count": 13,
   "id": "e2ca088e",
   "metadata": {},
   "outputs": [
    {
     "name": "stdout",
     "output_type": "stream",
     "text": [
      "a = 8.5718  ± 0.0036\n",
      "p_chi2 = 1.0\n",
      "6.596932665588481 23\n"
     ]
    },
    {
     "data": {
      "image/png": "[encoded data removed]",
      "text/plain": [
       "<Figure size 720x432 with 1 Axes>"
      ]
     },
     "metadata": {
      "needs_background": "light"
     },
     "output_type": "display_data"
    }
   ],
   "source": [
    "plt.figure(figsize = (10,6))\n",
    "get_period2(swings, combined_periods, combined_period_err, plot = True, label = 'Raw')\n",
    "plt.xlabel('periods (n)')\n",
    "plt.ylabel('time (s)')\n",
    "\n",
    "d = ['fit:        f(x) = ax',\n",
    "     f'a:         {8.5718} \\u00B1 {0.004}',\n",
    "     f'Chi2:    {6}',\n",
    "     f'ndf:      {24}',\n",
    "     f'Prob:    {1.0}']\n",
    "text_box = '\\n'.join(d)  # Join the lines with newline characters\n",
    "\n",
    "\n",
    "plt.text(1.02, 120.9, text_box, fontsize=16, va='bottom', bbox=dict(boxstyle='round', facecolor='white', alpha=0.7))\n",
    "plt.show()"
   ]
  },
  {
   "cell_type": "code",
   "execution_count": 14,
   "id": "f9b0810d",
   "metadata": {},
   "outputs": [
    {
     "data": {
      "text/plain": [
       "0.8964323733419115"
      ]
     },
     "execution_count": 14,
     "metadata": {},
     "output_type": "execute_result"
    }
   ],
   "source": [
    "stats.chi2.sf(0.6, 3)"
   ]
  },
  {
   "cell_type": "markdown",
   "id": "452f3824",
   "metadata": {},
   "source": [
    "## Corrected"
   ]
  },
  {
   "cell_type": "code",
   "execution_count": 15,
   "id": "27eb3472",
   "metadata": {},
   "outputs": [
    {
     "name": "stdout",
     "output_type": "stream",
     "text": [
      "a = 8.5831  ± 0.0021\n",
      "p_chi2 = 0.697\n",
      "19.07664038602527 23\n"
     ]
    },
    {
     "data": {
      "image/png": "[encoded data removed]",
      "text/plain": [
       "<Figure size 720x432 with 1 Axes>"
      ]
     },
     "metadata": {
      "needs_background": "light"
     },
     "output_type": "display_data"
    }
   ],
   "source": [
    "plt.figure(figsize = (10,6))\n",
    "get_period2(swings, combined_periods_corr, combined_period_corr_err, plot = True,  label = 'Cleaned')\n",
    "plt.xlabel('periods (n)')\n",
    "plt.ylabel('time (s)')\n",
    "\n",
    "d = ['fit:        f(x) = ax',\n",
    "     f'a:         {8.583} \\u00B1 {0.002}',\n",
    "     f'Chi2:    {19}',\n",
    "     f'ndf:      {24}',\n",
    "     f'Prob:    {0.70}']\n",
    "text_box = '\\n'.join(d)  # Join the lines with newline characters\n",
    "\n",
    "\n",
    "plt.text(1.02, 120.9, text_box, fontsize=16, va='bottom', bbox=dict(boxstyle='round', facecolor='white', alpha=0.7))\n",
    "plt.show()"
   ]
  },
  {
   "cell_type": "code",
   "execution_count": null,
   "id": "f0acbbcc",
   "metadata": {},
   "outputs": [],
   "source": []
  },
  {
   "cell_type": "code",
   "execution_count": 16,
   "id": "ee738b03",
   "metadata": {},
   "outputs": [
    {
     "name": "stdout",
     "output_type": "stream",
     "text": [
      "[8.617  8.5567 8.5861 8.5946 8.5323 8.6283 8.5472 8.5636 8.6415 8.5642\n",
      " 8.5735 8.586  8.5646 8.6086 8.5543 8.5975 8.5946 8.6011 8.578  8.5927\n",
      " 8.603  8.5428 8.6264 8.568  8.6352 8.9758 8.2949 8.7195 8.5346 8.4938\n",
      " 8.7697 8.6742 8.3278 8.4716 8.9094 8.5415 8.5388 8.5637 8.3799 8.6868\n",
      " 8.8504 8.737  8.3664 8.4842 8.5128 8.9116 8.5189 8.2965 8.8997 8.2932\n",
      " 8.5199 8.5083 8.5543 8.6465 8.5644 8.6362 8.6059 8.5525 8.5663 8.5567\n",
      " 8.6399 8.4919 8.6619 8.5746 8.6219 8.5005 8.689  8.5105 8.6315 8.6333\n",
      " 8.6243 8.5783 8.5628 8.5649 8.6531 8.6958 8.4685 8.6172 8.6393 8.4367\n",
      " 8.5738 8.7307 8.489  8.667  8.6211 8.7261 8.4785 8.5606 8.6838 8.4761\n",
      " 8.7088 8.4034 8.6909 8.6537 8.5316 8.5763 8.6771 8.5867 8.596  8.5451\n",
      " 7.3306 8.6977 8.4851 8.5736 8.5174 8.4907 8.7789 8.4389 8.585  8.66\n",
      " 8.5854 8.5418 8.6029 8.2006 9.0123 8.5427 8.5029 8.5114 8.6818 8.825\n",
      " 8.267  8.3711 8.7727 8.7795 8.3443]\n"
     ]
    }
   ],
   "source": [
    "merged_array = np.concatenate(periods_diff)\n",
    "print(merged_array)"
   ]
  },
  {
   "cell_type": "code",
   "execution_count": 17,
   "id": "194a7c69",
   "metadata": {},
   "outputs": [
    {
     "name": "stdout",
     "output_type": "stream",
     "text": [
      "Number of points removed: 15\n",
      "110\n"
     ]
    }
   ],
   "source": [
    "cleaned_array, _, _ = cleaning(merged_array, show = False);\n",
    "print(len(cleaned_array))"
   ]
  },
  {
   "cell_type": "markdown",
   "id": "e138abbd",
   "metadata": {},
   "source": [
    "# Chi2 fit binned fit"
   ]
  },
  {
   "cell_type": "code",
   "execution_count": 18,
   "id": "03efec38",
   "metadata": {},
   "outputs": [
    {
     "name": "stdout",
     "output_type": "stream",
     "text": [
      "50\n",
      "8\n",
      "3.4025067347640294\n"
     ]
    },
    {
     "data": {
      "image/png": "[encoded data removed]",
      "text/plain": [
       "<Figure size 864x432 with 1 Axes>"
      ]
     },
     "metadata": {
      "needs_background": "light"
     },
     "output_type": "display_data"
    },
    {
     "name": "stdout",
     "output_type": "stream",
     "text": [
      "a = 8.5905  ± 0.0871 , b = 0.0086 ± 0.0080\n",
      "p_chi2 = 0.7568923096364395\n"
     ]
    }
   ],
   "source": [
    "Nbins = 50\n",
    "xmin, xmax = 7, 10\n",
    "arr = cleaned_array\n",
    "\n",
    "counts, bin_edges = np.histogram(arr, bins=Nbins, range=(xmin, xmax))\n",
    "print(len(counts))\n",
    "\n",
    "mask = counts > 0\n",
    "bin_widths = np.diff(bin_edges)[mask]\n",
    "x = ((bin_edges[1:] + bin_edges[:-1])/2)[mask]\n",
    "y = counts[mask]\n",
    "sy = np.sqrt(counts)[mask]\n",
    "print(len(x))\n",
    "\n",
    "\n",
    "total_area = np.sum(y * bin_widths)\n",
    "y_norm = y / total_area\n",
    "sy_norm = sy / total_area\n",
    "\n",
    "def chi2_gauss(mu, sigma):\n",
    "    y_model =  gauss_pdf(x, mu, sigma)\n",
    "    chi2 = np.sum(((y_norm - y_model) / sy_norm) ** 2)\n",
    "    return chi2\n",
    "\n",
    "gauss_fit = Minuit(chi2_gauss, 8.5, 1) #   \n",
    "gauss_fit.errordef = 1\n",
    "gauss_fit.migrad()          # Perform the actual fit\n",
    "\n",
    "# extract fit values\n",
    "mu, sigma = gauss_fit.values[:]\n",
    "mu_err, sigma_err = gauss_fit.errors[:]\n",
    "Chi2_bin = gauss_fit.fval\n",
    "print(Chi2_bin)\n",
    "#Ndof_bin =  gauss_fit.nfit - gauss_fit.npar       # this is weird\n",
    "\n",
    "# plot results\n",
    "plt.figure(figsize = (12,6))\n",
    "X = np.linspace(7, 10, 1000)\n",
    "plt.bar(x, y_norm, width=bin_widths, align='center', edgecolor='black', label = 'Binned data')\n",
    "plt.plot(X, gauss_pdf(X, mu, sigma), label='Fit', color = 'red')\n",
    "plt.errorbar(x, y_norm, yerr=sy_norm, fmt='.', color='black', label='Error')\n",
    "plt.xlabel('period (s)')\n",
    "plt.ylabel('normalized counts (n)')\n",
    "plt.xlim(8.2,9)\n",
    "\n",
    "formatted_string = rf'fit: $\\qquad$  $\\frac{{1}}{{\\sqrt{{2\\pi}}\\sigma}} \\cdot e^{{-\\frac{{(x-\\mu)^2}}{{2\\sigma^2}}}}$'\n",
    "\n",
    "d = [ formatted_string,\n",
    "     fr'$\\mu$:         {8.591} $\\pm$ {0.087}',\n",
    "     f'Chi2:    {50}',\n",
    "     f'ndf:      {6}',\n",
    "     f'Prob:    {stats.chi2.sf(Chi2_bin, len(x) - 2):.2f}']\n",
    "text_box = '\\n'.join(d)  # Join the lines with newline characters\n",
    "\n",
    "\n",
    "plt.text(8.25, 4, text_box, fontsize=14, va='bottom', bbox=dict(boxstyle='round', facecolor='white', alpha=0.7))\n",
    "\n",
    "\n",
    "plt.legend()\n",
    "plt.show()\n",
    "\n",
    "# print results\n",
    "\n",
    "print(f'a = {mu:.4f}  \\u00B1 {sigma:.4f} , b = {mu_err:.4f} \\u00B1 {sigma_err:.4f}')\n",
    "print(f'p_chi2 = {stats.chi2.sf(Chi2_bin, len(x) - 2)}')"
   ]
  },
  {
   "cell_type": "code",
   "execution_count": null,
   "id": "f45ec053",
   "metadata": {},
   "outputs": [],
   "source": []
  },
  {
   "cell_type": "markdown",
   "id": "f4459d8a",
   "metadata": {},
   "source": [
    "# find length of pendulum (L)"
   ]
  },
  {
   "cell_type": "code",
   "execution_count": 19,
   "id": "900ba115",
   "metadata": {},
   "outputs": [
    {
     "name": "stdout",
     "output_type": "stream",
     "text": [
      "1.135682775187251e-77\n",
      "ruler length: 18.3525 ± 0.0012\n",
      "lazer length: 18.3882 ± 0.0015\n",
      "weighted length:18.3665 ± 0.0009\n"
     ]
    }
   ],
   "source": [
    "# skip last person\n",
    "ruler_length, lazer_length, height_from_floor, block_height = np.genfromtxt('Pendulum_data/metadata.csv', delimiter=',', skip_header = 1)[0:5].T\n",
    "obs_err = 0.0005\n",
    "\n",
    "ruler_length          = ruler_length[0:4]\n",
    "avg_ruler_length      = np.mean(ruler_length)\n",
    "ruler_err             = np.sqrt((np.std(ruler_length) / np.sqrt(len(ruler_length)))**2 + obs_err**2)\n",
    "\n",
    "avg_lazer_length      = np.mean(lazer_length)\n",
    "lazer_err             = np.std(lazer_length) / np.sqrt(len(lazer_length))\n",
    "\n",
    "avg_height_from_floor = np.mean(height_from_floor)\n",
    "height_from_floor_err = np.sqrt((np.std(height_from_floor) / np.sqrt(len(height_from_floor)))**2 + obs_err**2)\n",
    "\n",
    "block_height          = block_height / 200\n",
    "avg_block_height      = np.mean(block_height) \n",
    "block_height_err      = np.sqrt((np.std(block_height) / np.sqrt(len(block_height)))**2 + obs_err**2)\n",
    "\n",
    "lazer_L               = avg_lazer_length - avg_height_from_floor + avg_block_height\n",
    "lazer_prop_err        = np.sqrt(lazer_err**2 + height_from_floor_err**2 + block_height_err**2)\n",
    "\n",
    "weighted_L, weighted_L_err  = get_weighted_mean(np.array([lazer_L, avg_ruler_length]), np.array([lazer_prop_err, ruler_err]))\n",
    "\n",
    "print(f'ruler length: {avg_ruler_length:.4f} \\u00B1 {ruler_err:.4f}')\n",
    "print(f'lazer length: {lazer_L:.4f} \\u00B1 {lazer_prop_err:.4f}')\n",
    "print(f'weighted length:{weighted_L:.4f} \\u00B1 {weighted_L_err:.4f}')"
   ]
  },
  {
   "cell_type": "code",
   "execution_count": 20,
   "id": "f51275e4",
   "metadata": {},
   "outputs": [
    {
     "name": "stdout",
     "output_type": "stream",
     "text": [
      "18.3525 18.729400000000002 0.356 0.02968\n"
     ]
    }
   ],
   "source": [
    "print(avg_ruler_length, avg_lazer_length, avg_height_from_floor, avg_block_height*2)"
   ]
  },
  {
   "cell_type": "code",
   "execution_count": 21,
   "id": "6820e82d",
   "metadata": {},
   "outputs": [
    {
     "name": "stdout",
     "output_type": "stream",
     "text": [
      "5\n"
     ]
    }
   ],
   "source": [
    "print(len(block_height))"
   ]
  },
  {
   "cell_type": "code",
   "execution_count": 24,
   "id": "1eff3be6",
   "metadata": {},
   "outputs": [
    {
     "name": "stdout",
     "output_type": "stream",
     "text": [
      "9.85398 9.83482\n"
     ]
    }
   ],
   "source": [
    "def get_g(L, T):\n",
    "    return np.round(L * (2 * np.pi / T)**2, 5)\n",
    "\n",
    "g_lazer = get_g(lazer_L, 8.5831)\n",
    "g_ruler = get_g(avg_ruler_length, 8.5831)\n",
    "g_weight = get_g(weighted_L, 8.5867)\n",
    "\n",
    "\n",
    "print(g_lazer, g_ruler)"
   ]
  }
 ],
 "metadata": {
  "kernelspec": {
   "display_name": "Python 3",
   "language": "python",
   "name": "python3"
  },
  "language_info": {
   "codemirror_mode": {
    "name": "ipython",
    "version": 3
   },
   "file_extension": ".py",
   "mimetype": "text/x-python",
   "name": "python",
   "nbconvert_exporter": "python",
   "pygments_lexer": "ipython3",
   "version": "3.8.8"
  }
 },
 "nbformat": 4,
 "nbformat_minor": 5
}
