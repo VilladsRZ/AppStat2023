{
 "cells": [
  {
   "cell_type": "code",
   "execution_count": 3,
   "id": "25638d68",
   "metadata": {},
   "outputs": [],
   "source": [
    "import numpy as np                                     # Matlab like syntax for linear algebra and functions\n",
    "import matplotlib.pyplot as plt                        # Plots and figures like you know them from Matlab\n",
    "import seaborn as sns                                  # Make the plots nicer to look at\n",
    "from iminuit import Minuit                             # The actual fitting tool, better than scipy's\n",
    "import sys                                             # Module to see files and folders in directories\n",
    "from scipy import stats"
   ]
  },
  {
   "cell_type": "code",
   "execution_count": 7,
   "id": "a1f6ced9",
   "metadata": {},
   "outputs": [],
   "source": [
    "sys.path.append('../External_Functions')\n",
    "from ExternalFunctions import UnbinnedLH, BinnedLH, Chi2Regression\n",
    "from ExternalFunctions import nice_string_output, add_text_to_ax   # Useful functions to print fit results on figure"
   ]
  },
  {
   "cell_type": "code",
   "execution_count": 172,
   "id": "5a5f43e8",
   "metadata": {},
   "outputs": [],
   "source": [
    "\n",
    "\n",
    "file_paths =      [\"Pendulum_data/time/file2.dat\", \"Pendulum_data/time/file3.dat\", \n",
    "                   \"Pendulum_data/time/file4.dat\", \"Pendulum_data/time/file5.dat\",\n",
    "                   \"Pendulum_data/time/file6.dat\"]\n",
    "\n",
    "data = []\n",
    "\n",
    "for file_path in file_paths:\n",
    "    temp = np.genfromtxt(file_path, delimiter='')  \n",
    "    data.append(temp)"
   ]
  },
  {
   "cell_type": "code",
   "execution_count": 264,
   "id": "90ea3f70",
   "metadata": {},
   "outputs": [
    {
     "name": "stdout",
     "output_type": "stream",
     "text": [
      "8.575944 0.06603148776152265\n"
     ]
    }
   ],
   "source": [
    "# make all arrays same length (data trimming)\n",
    "\n",
    "data = [array[:25] for array in data] # 25 measurements\n",
    "swings = np.array(data[0]).T[0] # range from 1 to 25\n",
    "\n",
    "\n",
    "\n",
    "#period_errors = np.std(data, axis=1).T[1] # error on each individuals sequence of 25 measurements\n",
    "combined_periods = np.mean(data, axis=0).T[1] # the combined average\n",
    "#combined_period_errors = np.std(data, axis=0).T[1] / np.sqrt(5) # error on the each averaged datapoint\n",
    "\n",
    "periods = combined_periods - np.roll(combined_periods, 1) # the average period \n",
    "periods[0]    = combined_periods[0]\n",
    "periods_error = np.std(periods)                           # the error on this average (divide på)\n",
    "periods = np.mean(periods)\n",
    "\n",
    "print(periods)"
   ]
  },
  {
   "cell_type": "code",
   "execution_count": null,
   "id": "d075a698",
   "metadata": {},
   "outputs": [],
   "source": []
  },
  {
   "cell_type": "code",
   "execution_count": 224,
   "id": "d8fd1a00",
   "metadata": {},
   "outputs": [],
   "source": [
    "\n",
    "def linear(x, a, b):\n",
    "    return a*x + b\n",
    "\n",
    "def gauss_pdf(x, mu, sigma) :\n",
    "    return 1.0 / np.sqrt(2*np.pi) / sigma * np.exp( -0.5 * (x-mu)**2 / sigma**2)\n",
    "\n",
    "x_data, y_data, y_errors = swings, periods, combined_period_errors\n",
    "\n",
    "def chi2_linear(a, b):\n",
    "    y_model = linear(x_data, a, b)\n",
    "    chi2 = np.sum(((y_data - y_model) / y_errors) ** 2)\n",
    "    return chi2\n",
    "\n",
    "\n",
    "def chi2_gauss(a, b):\n",
    "    y_model = gauss_pdf(x_data, mu, sigma)\n",
    "    chi2 = np.sum(((y_data - y_model) / y_errors) ** 2)\n",
    "    return chi2"
   ]
  },
  {
   "cell_type": "markdown",
   "id": "73e41858",
   "metadata": {},
   "source": [
    "# Period finding"
   ]
  },
  {
   "cell_type": "code",
   "execution_count": 228,
   "id": "f7ed3f6d",
   "metadata": {},
   "outputs": [
    {
     "name": "stdout",
     "output_type": "stream",
     "text": [
      "a = 7.51  ± 0.01 , b = -0.05 ± 0.10\n"
     ]
    },
    {
     "data": {
      "image/png": "[encoded data removed]",
      "text/plain": [
       "<Figure size 432x288 with 1 Axes>"
      ]
     },
     "metadata": {
      "needs_background": "light"
     },
     "output_type": "display_data"
    }
   ],
   "source": [
    "chi2_linear_fit = Minuit(chi2_linear, a = 1,b = 0)\n",
    "chi2_linear_fit.errordef = 1.0\n",
    "chi2_linear_fit.migrad()\n",
    "fit_a =           chi2_linear_fit.values[\"a\"]\n",
    "fit_b =           chi2_linear_fit.values[\"b\"]\n",
    "fit_a_err =       chi2_linear_fit.errors[\"a\"]\n",
    "fit_b_err =       chi2_linear_fit.errors[\"b\"]\n",
    "\n",
    "print(f'a = {fit_slope:.2f}  \\u00B1 {fit_a_err:.2f} , b = {fit_intercept:.2f} \\u00B1 {fit_b_err:.2f}')\n",
    "plt.scatter(x_data, y_data, label = 'data')\n",
    "plt.plot(x_data, linear(x_data, fit_a, fit_b), label = 'fit', color = 'red')\n",
    "plt.legend()\n",
    "plt.show()"
   ]
  },
  {
   "cell_type": "markdown",
   "id": "e138abbd",
   "metadata": {},
   "source": [
    "# Histrogram "
   ]
  },
  {
   "cell_type": "code",
   "execution_count": 255,
   "id": "8c2a9481",
   "metadata": {},
   "outputs": [
    {
     "data": {
      "image/png": "[encoded data removed]",
      "text/plain": [
       "<Figure size 432x288 with 1 Axes>"
      ]
     },
     "metadata": {
      "needs_background": "light"
     },
     "output_type": "display_data"
    }
   ],
   "source": [
    "Nbins = 5\n",
    "xmin, xmax = 5, 10\n",
    "binwidth = (xmax-xmin)/Nbins\n",
    "\n",
    "\n",
    "test = np.array(y_data - np.roll(y_data, 1))\n",
    "test[0] = y_data[0]\n",
    "\n",
    "\n",
    "plt.hist(test, bins = Nbins);\n",
    "\n",
    "counts, bin_edges = np.histogram(test, bins=Nbins, range=(xmin, xmax))\n",
    "\n",
    "x = (bin_edges[1:] + bin_edges[:-1])/2\n",
    "y = counts\n",
    "sy = np.sqrt(counts)\n",
    "\n"
   ]
  },
  {
   "cell_type": "code",
   "execution_count": 256,
   "id": "6e8ad4ee",
   "metadata": {},
   "outputs": [
    {
     "name": "stderr",
     "output_type": "stream",
     "text": [
      "../External_Functions\\ExternalFunctions.py:247: VisibleDeprecationWarning: make_func_code is deprecated: Use of ``func_code`` attribute to declare parameters is deprecated. Use ``_parameters`` instead, which is a dict of parameter names to limits.\n",
      "  self.func_code = make_func_code(describe(self.f)[1:])\n",
      "../External_Functions\\ExternalFunctions.py:273: UserWarning: x is really small return 0\n",
      "  warnings.warn('x is really small return 0')\n",
      "../External_Functions\\ExternalFunctions.py:279: RuntimeWarning: invalid value encountered in log1p\n",
      "  return -x*np.log1p( (x-y) / y )\n",
      "../External_Functions\\ExternalFunctions.py:279: RuntimeWarning: divide by zero encountered in double_scalars\n",
      "  return -x*np.log1p( (x-y) / y )\n"
     ]
    },
    {
     "name": "stdout",
     "output_type": "stream",
     "text": [
      "a = 8.62  ± 0.04 , b = 0.01 ± 0.03\n",
      "p_chi2 = 0.012021676253634074\n"
     ]
    },
    {
     "data": {
      "image/png": "[encoded data removed]",
      "text/plain": [
       "<Figure size 432x288 with 1 Axes>"
      ]
     },
     "metadata": {
      "needs_background": "light"
     },
     "output_type": "display_data"
    }
   ],
   "source": [
    "# make fit\n",
    "binned_fit = BinnedLH(gauss_pdf, test, bins=Nbins, bound=(xmin, xmax), extended=True)\n",
    "binned_fit = Minuit(binned_fit, mu=8, sigma=0.3)\n",
    "binned_fit.errordef = 0.5     # Value for likelihood fits\n",
    "binned_fit.migrad();           # Perform the actual fit\n",
    "\n",
    "# extract fit values\n",
    "mu, sigma = binned_fit.values[:]\n",
    "mu_err, sigma_err = binned_fit.errors[:]\n",
    "binned_chi = binned_fit.fval\n",
    "\n",
    "# plot results\n",
    "X = np.linspace(7, 9, 100)\n",
    "plt.hist(test, bins = Nbins)\n",
    "plt.plot(X, gauss_pdf(X, mu, sigma))\n",
    "\n",
    "# print results\n",
    "print(f'a = {mu:.2f}  \\u00B1 {sigma:.2f} , b = {mu_err:.2f} \\u00B1 {sigma_err:.2f}')\n",
    "print(f'p_chi2 = {stats.chi2.sf(binned_chi, np.sum(test > 0) -  binned_fit.nfit)}')\n",
    "\n",
    "\n",
    "plt.show()"
   ]
  },
  {
   "cell_type": "code",
   "execution_count": null,
   "id": "ca907980",
   "metadata": {},
   "outputs": [],
   "source": []
  }
 ],
 "metadata": {
  "kernelspec": {
   "display_name": "Python 3",
   "language": "python",
   "name": "python3"
  },
  "language_info": {
   "codemirror_mode": {
    "name": "ipython",
    "version": 3
   },
   "file_extension": ".py",
   "mimetype": "text/x-python",
   "name": "python",
   "nbconvert_exporter": "python",
   "pygments_lexer": "ipython3",
   "version": "3.8.8"
  }
 },
 "nbformat": 4,
 "nbformat_minor": 5
}
