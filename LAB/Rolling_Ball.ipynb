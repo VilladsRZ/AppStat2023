{
 "cells": [
  {
   "cell_type": "code",
   "execution_count": 1,
   "id": "884595bd",
   "metadata": {},
   "outputs": [],
   "source": [
    "import numpy as np                                     # Matlab like syntax for linear algebra and functions\n",
    "import matplotlib.pyplot as plt                        # Plots and figures like you know them from Matlab\n",
    "import seaborn as sns                                  # Make the plots nicer to look at\n",
    "from iminuit import Minuit                             # The actual fitting tool, better than scipy's\n",
    "import sys                                             # Module to see files and folders in directories\n",
    "from scipy import stats\n",
    "import os"
   ]
  },
  {
   "cell_type": "code",
   "execution_count": 2,
   "id": "285973d6",
   "metadata": {},
   "outputs": [],
   "source": [
    "sys.path.append('../External_Functions')\n",
    "from ExternalFunctions import UnbinnedLH, BinnedLH, Chi2Regression\n",
    "from ExternalFunctions import nice_string_output, add_text_to_ax   # Useful functions to print fit results on figure"
   ]
  },
  {
   "cell_type": "code",
   "execution_count": 3,
   "id": "cac22d18",
   "metadata": {},
   "outputs": [],
   "source": [
    "def peak_finder(x_list):\n",
    "    peaks = []\n",
    "    i = 0\n",
    "    while i < len(x_list):\n",
    "        if x_list[i] > 1: # reference points\n",
    "            peaks.append(i)\n",
    "            i += 100 \n",
    "        else:\n",
    "            i += 1\n",
    "    return peaks\n",
    "\n",
    "def get_weighted_mean(x, x_err):\n",
    "    mean_weighted = np.nansum(x/x_err**2) / np.nansum(1/x_err**2)\n",
    "    err_weighted = np.sqrt(1/np.sum(1 / x_err**2)) \n",
    "    chi2 = np.nansum((x - mean_weighted)**2/x_err**2)\n",
    "    print(stats.chi2.sf(chi2, len(x) - 1))\n",
    "    return mean_weighted, err_weighted\n",
    "\n",
    "def cleaning(x):\n",
    "    items_removed = []\n",
    "    sample_sigma = np.vectorize(lambda array: abs(array - mu) / sig)\n",
    "    while True:\n",
    "        print()\n",
    "        mu  = np.mean(x)\n",
    "        sig = np.std(x)\n",
    "        print(f'mu = {mu} and sigma = {sig}')\n",
    "        \n",
    "        z_values = sample_sigma(x)\n",
    "        max_z = np.max(z_values)\n",
    "        \n",
    "        p  = stats.norm.sf(abs(max_z))*2 \n",
    "        if p < 1 / (len(x) * 2):\n",
    "            index_z = np.where(z_values == max_z)[0][0]\n",
    "            items_removed.append(x[index_z])\n",
    "            print(f'datapoint: {x[index_z]}. p_value = {p:.4f} < Requirement = {1 / (len(x) * 2):.4f}')\n",
    "\n",
    "            x = np.delete(x, index_z)\n",
    "        else: \n",
    "            break\n",
    "    return x, np.array(items_removed)"
   ]
  },
  {
   "cell_type": "code",
   "execution_count": 4,
   "id": "582432d5",
   "metadata": {},
   "outputs": [],
   "source": [
    "file_paths_left = [\"Ball_data/g_data/Left_small_1.csv\", \n",
    "                  \"Ball_data/g_data/Left_small_2.csv\",\n",
    "                  \"Ball_data/g_data/Left_small_3.csv\",\n",
    "                  \"Ball_data/g_data/Left_small_4.csv\",\n",
    "                  \"Ball_data/g_data/Left_small_5.csv\"]\n",
    "\n",
    "file_paths_right = [\"Ball_data/g_data/Right_small_1.csv\", \n",
    "                  \"Ball_data/g_data/Right_small_2.csv\",\n",
    "                  \"Ball_data/g_data/Right_small_3.csv\",\n",
    "                  \"Ball_data/g_data/Right_small_4.csv\",\n",
    "                  \"Ball_data/g_data/Right_small_5.csv\"]\n",
    "data_left = []\n",
    "data_right = []\n",
    "\n",
    "for file_path in file_paths_left:\n",
    "    data = np.genfromtxt(file_path, delimiter=',', skip_header = 16)  \n",
    "    data_left.append(data)\n",
    "    \n",
    "for file_path in file_paths_right:\n",
    "    data = np.genfromtxt(file_path, delimiter=',', skip_header = 16)  \n",
    "    data_right.append(data)"
   ]
  },
  {
   "cell_type": "markdown",
   "id": "f927828a",
   "metadata": {},
   "source": [
    "# Finding the peaks"
   ]
  },
  {
   "cell_type": "code",
   "execution_count": 5,
   "id": "32a2e819",
   "metadata": {},
   "outputs": [
    {
     "data": {
      "text/plain": [
       "Text(0.5, 1.0, 'Voltage peaks as a function of time')"
      ]
     },
     "execution_count": 5,
     "metadata": {},
     "output_type": "execute_result"
    },
    {
     "data": {
      "image/png": "[encoded data removed]",
      "text/plain": [
       "<Figure size 864x432 with 1 Axes>"
      ]
     },
     "metadata": {
      "needs_background": "light"
     },
     "output_type": "display_data"
    }
   ],
   "source": [
    "x_left, y_left = np.array(data_left[0][1500:6000]).T\n",
    "x_right, y_right = np.array(data_right[0][1500:6000]).T\n",
    "\n",
    "peak_times_left  = x_left[peak_finder(y_left)]\n",
    "peak_times_right = x_right[peak_finder(y_right)]\n",
    "\n",
    "\n",
    "plt.figure(figsize = (12,6))\n",
    "plt.plot(x_left, y_left)\n",
    "for peak in peak_times_left:\n",
    "    plt.axvline(x=peak, color='r', linestyle='--', alpha = 1)\n",
    "plt.title('Voltage peaks as a function of time', size = 20)\n"
   ]
  },
  {
   "cell_type": "markdown",
   "id": "032e48ea",
   "metadata": {},
   "source": [
    "# Define CHI-square fit"
   ]
  },
  {
   "cell_type": "code",
   "execution_count": 6,
   "id": "4829f92f",
   "metadata": {},
   "outputs": [],
   "source": [
    "def get_fit(x, x_err, y, plot = True, name = ''):\n",
    "    \n",
    "    def acc(t, a, b, c):\n",
    "        return 0.5*a*t**2 + b*t + c\n",
    "\n",
    "    def chi2_fit(a, b, c):\n",
    "        y_model = acc(y, a, b, c)\n",
    "        chi2 = np.sum(((x - y_model) / x_err) ** 2)\n",
    "        return chi2 \n",
    "\n",
    "    fit                 = Minuit(chi2_fit, a = 1.6,b = 0.5, c = 0.1)\n",
    "    fit.errordef        = 1\n",
    "    fit.migrad()\n",
    "    a, b, c             = fit.values[:]\n",
    "    a_err, b_err, c_err = fit.errors[:]\n",
    "    \n",
    "    chi_val = fit.fval\n",
    "    p = stats.chi2.sf(chi_val, 5 - 3)\n",
    "    print(f' chi2 value = {chi_val:.2f}')\n",
    "    print(f' p_vaue for chi2 fit = {p:.2f}')\n",
    "    \n",
    "    if plot:\n",
    "        x_fit = np.linspace(0, 0.6, 1000)\n",
    "        plt.scatter(y, x, label = name + ' data')\n",
    "        #plt.errorbar(y, x, yerr=x_err, xerr=0.0, label='error', fmt='.k',  ecolor='k', elinewidth=1, capsize=1, capthick=1)\n",
    "        plt.plot(x_fit, acc(x_fit, a, b, c), label = name + ' fit')\n",
    "\n",
    "        \n",
    "    return a, a_err"
   ]
  },
  {
   "cell_type": "markdown",
   "id": "b8f99f5c",
   "metadata": {},
   "source": [
    "## Chauvenet's Criterion"
   ]
  },
  {
   "cell_type": "code",
   "execution_count": 7,
   "id": "a78a192c",
   "metadata": {},
   "outputs": [
    {
     "name": "stdout",
     "output_type": "stream",
     "text": [
      "We reject the datapoint since p_value = 0.023 < p_accept = 0.1\n"
     ]
    }
   ],
   "source": [
    "# first import the distances between points\n",
    "positions =  np.genfromtxt(\"Ball_data/positions.csv\", delimiter=',', skip_header = 1) / 100 # convert to meters\n",
    "\n",
    "# get the first row (where we expect the outlier)\n",
    "first_col = positions.T[0]\n",
    "\n",
    "mu = np.mean(first_col)\n",
    "sig = np.std(first_col)\n",
    "\n",
    "z = np.abs(first_col[1] - mu) / sig\n",
    "\n",
    "p  = stats.norm.sf(abs(z))\n",
    "p_accept = 1/(len(first_col)*2)\n",
    "\n",
    "\n",
    "print(f'We reject the datapoint since p_value = {p:.2} < p_accept = {p_accept:.2}')"
   ]
  },
  {
   "cell_type": "markdown",
   "id": "e5ed5f63",
   "metadata": {},
   "source": [
    "# Test fit on raw data and \"corrected\" data"
   ]
  },
  {
   "cell_type": "code",
   "execution_count": 8,
   "id": "dd2ae4ce",
   "metadata": {},
   "outputs": [],
   "source": [
    "human_error = 0.001 # aka 1 mm"
   ]
  },
  {
   "cell_type": "markdown",
   "id": "914ebb3a",
   "metadata": {},
   "source": [
    "## uncorrected"
   ]
  },
  {
   "cell_type": "code",
   "execution_count": 9,
   "id": "89637fb4",
   "metadata": {},
   "outputs": [
    {
     "name": "stdout",
     "output_type": "stream",
     "text": [
      " chi2 value = 4.65\n",
      " p_vaue for chi2 fit = 0.10\n",
      " chi2 value = 3.90\n",
      " p_vaue for chi2 fit = 0.14\n"
     ]
    },
    {
     "data": {
      "image/png": "[encoded data removed]",
      "text/plain": [
       "<Figure size 864x432 with 1 Axes>"
      ]
     },
     "metadata": {
      "needs_background": "light"
     },
     "output_type": "display_data"
    },
    {
     "name": "stdout",
     "output_type": "stream",
     "text": [
      "\n",
      "a_left = 1.58 ± 0.06\n",
      "a_right = 1.48 ± 0.06\n"
     ]
    }
   ],
   "source": [
    "# calculating averages and standard deviations\n",
    "avg_pos      = np.mean(positions, axis = 0)\n",
    "std_pos      = np.sqrt((np.std(positions, axis = 0) / np.sqrt(5))**2 + human_error**2)\n",
    "\n",
    "plt.figure(figsize = (12,6))\n",
    "a_left, a_left_err   = get_fit(avg_pos, std_pos, peak_times_left, plot = True, name = 'norm')\n",
    "a_right, a_right_err = get_fit(avg_pos, std_pos, peak_times_right, plot = True, name = 'rev')\n",
    "\n",
    "plt.legend()\n",
    "plt.xlabel('time (s)')\n",
    "plt.ylabel('distance (m)')\n",
    "d = ['fit:        f(x) = ax',\n",
    "     f'a:         {8.5718} \\u00B1 {0.004}',\n",
    "     f'Chi2:    {6}',\n",
    "     f'ndf:      {24}',\n",
    "     f'Prob:    {1.0}']\n",
    "text_box = '\\n'.join(d)  # Join the lines with newline characters\n",
    "\n",
    "\n",
    "plt.text(0.1, 0.6, text_box, fontsize=16, va='bottom', bbox=dict(boxstyle='round', facecolor='white', alpha=0.7))\n",
    "plt.show()\n",
    "\n",
    "print()\n",
    "print(f'a_left = {a_left:.2f} \\u00B1 {a_left_err:.2f}')\n",
    "print(f'a_right = {a_right:.2f} \\u00B1 {a_right_err:.2f}')"
   ]
  },
  {
   "cell_type": "code",
   "execution_count": 10,
   "id": "423eca05",
   "metadata": {},
   "outputs": [
    {
     "name": "stdout",
     "output_type": "stream",
     "text": [
      "[0.00627199 0.00110671 0.00101406 0.00101493 0.00103514]\n"
     ]
    }
   ],
   "source": [
    "print(std_pos)"
   ]
  },
  {
   "cell_type": "markdown",
   "id": "ea3c8e11",
   "metadata": {},
   "source": [
    "## corrected"
   ]
  },
  {
   "cell_type": "code",
   "execution_count": 11,
   "id": "4d386ef2",
   "metadata": {},
   "outputs": [
    {
     "name": "stdout",
     "output_type": "stream",
     "text": [
      " chi2 value = 3.50\n",
      " p_vaue for chi2 fit = 0.17\n",
      " chi2 value = 2.76\n",
      " p_vaue for chi2 fit = 0.25\n"
     ]
    },
    {
     "data": {
      "image/png": "[encoded data removed]",
      "text/plain": [
       "<Figure size 720x432 with 1 Axes>"
      ]
     },
     "metadata": {
      "needs_background": "light"
     },
     "output_type": "display_data"
    },
    {
     "name": "stdout",
     "output_type": "stream",
     "text": [
      "\n",
      "a_left = 1.56 ± 0.03\n",
      "a_right = 1.46 ± 0.03\n"
     ]
    }
   ],
   "source": [
    "# removing the outlier\n",
    "pos1, pos2, pos3, pos4, pos5 = positions.T\n",
    "pos1 = np.delete(pos1, 1)\n",
    "\n",
    "std_positions_corr = []\n",
    "positions_corr     = []\n",
    "\n",
    "for pos in [pos1, pos2, pos3, pos4, pos5]:\n",
    "    positions_corr.append(np.mean(pos))\n",
    "    std_positions_corr.append(np.sqrt(human_error**2 + (np.std(pos)/np.sqrt(len(pos)))**2))\n",
    "\n",
    "plt.figure(figsize = (10,6))\n",
    "a_left_corr, a_left_err_corr   = get_fit(positions_corr, std_positions_corr, peak_times_left, plot = True, name = 'norm')\n",
    "a_right_corr, a_right_err_corr = get_fit(positions_corr, std_positions_corr, peak_times_right, plot = True, name = 'rev')\n",
    "plt.legend()\n",
    "plt.xlabel('time (s)')\n",
    "plt.ylabel('distance (m)')\n",
    "formatted_string = r'$\\mathrm{fit:}\\quad f(t) = 0.5 at^2 + v t + s$'\n",
    "\n",
    "d = [f'a_norm:  {1.56} \\u00B1 {0.03}',\n",
    "     f'Chi2:       {3.50}',\n",
    "     f'ndf:         {2}',\n",
    "     f'Prob:       {0.17}']\n",
    "\n",
    "d2 = [f'a_rev:   {1.46} \\u00B1 {0.03}',\n",
    "     f'Chi2:    {2.76}',\n",
    "     f'ndf:      {2}',\n",
    "     f'Prob:    {0.25}']\n",
    "\n",
    "text_box = '\\n'.join(d)  # Join the lines with newline characters\n",
    "\n",
    "text_box2 = '\\n'.join(d2)  # Join the lines with newline characters\n",
    "\n",
    "plt.text(0.2, 0.9, formatted_string, fontsize=16, va='bottom', bbox=dict(boxstyle='round', facecolor='white', alpha=0.7), color = 'black')\n",
    "plt.text(0.05, 0.60, text_box, fontsize=12, va='bottom', bbox=dict(boxstyle='round', facecolor='white', alpha=0.7), color = 'blue')\n",
    "plt.text(0.43, 0.35, text_box2, fontsize=12, va='bottom', bbox=dict(boxstyle='round', facecolor='white', alpha=0.7), color = 'orange')\n",
    "\n",
    "plt.show()\n",
    "\n",
    "print()\n",
    "print(f'a_left = {a_left_corr:.2f} \\u00B1 {a_left_err_corr:.2f}')\n",
    "print(f'a_right = {a_right_corr:.2f} \\u00B1 {a_right_err_corr:.2f}')"
   ]
  },
  {
   "cell_type": "markdown",
   "id": "ec2ba52e",
   "metadata": {},
   "source": [
    "# Calculating g"
   ]
  },
  {
   "cell_type": "markdown",
   "id": "13393878",
   "metadata": {},
   "source": [
    "### Importing metadata \n",
    "### remember to add human errors to the different errors"
   ]
  },
  {
   "cell_type": "code",
   "execution_count": 42,
   "id": "5eb91ab3",
   "metadata": {},
   "outputs": [
    {
     "name": "stdout",
     "output_type": "stream",
     "text": [
      "14.209649708357828\n",
      "0.012684 0.005856 0.22504\n",
      "0.88872 0.22504 1.5599697704031037 0.012684 0.005856\n",
      "0.0013025820511583953 0.0014400277775098629 0.029392567175863527 1.1349008767288783e-05 0.00011524235332550275\n"
     ]
    }
   ],
   "source": [
    "# DOUBLE CHECK THE UNITS \n",
    "rail, rail_err, d, d_err, l_angle, r_angle, angle_err, height, length =  np.genfromtxt(\"Ball_data/metadata.csv\", delimiter=',', skip_header = 1).T \n",
    "obs_err = 0.0005\n",
    "ang_err = 0.1\n",
    "obs2_err = 0.00001\n",
    "\n",
    "# rail length\n",
    "rail     = rail / 1000 # since its mm\n",
    "rail_avg = np.mean(rail) \n",
    "rail_err = np.sqrt((np.std(rail) / (np.sqrt(5)))**2 + obs2_err**2)\n",
    "\n",
    "# ball diameter\n",
    "d     = d / 1000 # sinec its mm\n",
    "d_avg = np.mean(d) \n",
    "d_err = np.sqrt((np.std(d) / np.sqrt(5))**2 + obs2_err**2)\n",
    "\n",
    "# height\n",
    "height = height / 100 # since its cm\n",
    "height_avg = np.mean(height) \n",
    "height_err = np.sqrt((np.std(height) / np.sqrt(5))**2 + obs_err**2)\n",
    "\n",
    "# length\n",
    "length     = length / 100 # since its cm\n",
    "length_avg = np.mean(length)\n",
    "length_err = np.sqrt((np.std(length) / np.sqrt(5))**2 + obs_err**2)\n",
    "\n",
    "# left giro angle\n",
    "#l_angle = [l_angle[i] for i in [0, 1, 2, 4]] # remove 3 persons measurements\n",
    "left_angle_avg = 90 - np.mean(l_angle)    # in degrees\n",
    "left_angle_err = np.sqrt((np.std(l_angle) / np.sqrt(len(l_angle)))**2 + ang_err**2)\n",
    "\n",
    "# right giro angle\n",
    "r_angle = [r_angle[i] for i in [0, 1, 2, 4]] # remove 3 persons measurements\n",
    "right_angle_avg = 90 - np.mean(r_angle)  # in degrees\n",
    "right_angle_err = np.sqrt((np.std(r_angle) / np.sqrt(len(r_angle)))**2 + ang_err**2)\n",
    "\n",
    "\n",
    "# calculating average change in angle \n",
    "d_theta_goniometer = np.abs(left_angle_avg - right_angle_avg) / 2 \n",
    "d_theta_goniometer_err = np.sqrt(right_angle_err**2 + left_angle_err**2) / 2 \n",
    "\n",
    "# calculating average gonimeter angle \n",
    "theta_goniometer = (left_angle_avg + right_angle_avg) / 2 \n",
    "\n",
    "# trigonometric angle\n",
    "theta_trig = np.arctan2(height_avg, length_avg) * 180 / np.pi# in radians\n",
    "print(theta_trig)\n",
    "print(d_avg, rail_avg, height_avg)\n",
    "\n",
    "print(length_avg, height_avg, a_left_corr, d_avg, rail_avg)\n",
    "print(length_err, height_err, a_left_err_corr, d_err, rail_err)"
   ]
  },
  {
   "cell_type": "code",
   "execution_count": 13,
   "id": "091f7345",
   "metadata": {},
   "outputs": [
    {
     "name": "stdout",
     "output_type": "stream",
     "text": [
      "14.060000000000002 13.200000000000003 0.012684 0.005856\n"
     ]
    }
   ],
   "source": [
    "print(left_angle_avg, right_angle_avg, d_avg, rail_avg)"
   ]
  },
  {
   "cell_type": "code",
   "execution_count": 14,
   "id": "7a5b3a6f",
   "metadata": {},
   "outputs": [
    {
     "name": "stdout",
     "output_type": "stream",
     "text": [
      "0.3238518179661802 0.11726039399558696\n"
     ]
    }
   ],
   "source": [
    "print(left_angle_err, right_angle_err)"
   ]
  },
  {
   "cell_type": "markdown",
   "id": "6f9212d6",
   "metadata": {},
   "source": [
    "## define functions and theta"
   ]
  },
  {
   "cell_type": "code",
   "execution_count": 39,
   "id": "dee74e93",
   "metadata": {},
   "outputs": [],
   "source": [
    "def get_d_theta(a_norm, a_rev, theta):\n",
    "    theta = theta * np.pi / 180\n",
    "    return (a_norm - a_rev) * np.sin(theta) / ((a_norm + a_rev) * np.cos(theta))\n",
    "\n",
    "def get_g(a, theta , d, r):\n",
    "    theta = theta * np.pi / 180\n",
    "    return (a / np.sin(theta)) * (1 + (2/5) * (d**2 / (d**2 - r**2)))"
   ]
  },
  {
   "cell_type": "code",
   "execution_count": null,
   "id": "37e9f329",
   "metadata": {},
   "outputs": [],
   "source": []
  },
  {
   "cell_type": "code",
   "execution_count": 43,
   "id": "c2cdb595",
   "metadata": {},
   "outputs": [
    {
     "name": "stdout",
     "output_type": "stream",
     "text": [
      " d_theta_goniometer: 0.4299999999999997 ± 0.17221353024660999\n",
      "d_theta_trig_corr = 0.4776117801880616\n"
     ]
    }
   ],
   "source": [
    "d_theta_trig      = get_d_theta(a_left, a_right, theta_trig) * 180 / np.pi\n",
    "d_theta_trig_corr = get_d_theta(a_left_corr, a_right_corr, theta_trig) * 180 / np.pi\n",
    "# these are the same actually\n",
    "\n",
    "print(f' d_theta_goniometer: {d_theta_goniometer} \\u00B1 {d_theta_goniometer_err}')\n",
    "print(f'd_theta_trig_corr = {d_theta_trig_corr}')"
   ]
  },
  {
   "cell_type": "code",
   "execution_count": 47,
   "id": "d39caf81",
   "metadata": {},
   "outputs": [
    {
     "name": "stdout",
     "output_type": "stream",
     "text": [
      "0.47426610013318404\n"
     ]
    }
   ],
   "source": [
    "print(d_theta_trig)"
   ]
  },
  {
   "cell_type": "code",
   "execution_count": 51,
   "id": "68f91c67",
   "metadata": {},
   "outputs": [
    {
     "name": "stdout",
     "output_type": "stream",
     "text": [
      "0.005856\n"
     ]
    }
   ],
   "source": [
    "print(rail_avg)"
   ]
  },
  {
   "cell_type": "code",
   "execution_count": 18,
   "id": "78f1d291",
   "metadata": {},
   "outputs": [
    {
     "name": "stdout",
     "output_type": "stream",
     "text": [
      "trig_theta = 0.24801 and gonimeter_theta = 13.63\n",
      "Which is around 14.2 vs 13.75 degress\n"
     ]
    }
   ],
   "source": [
    "print(f'trig_theta = {theta_trig:.5} and gonimeter_theta = {theta_goniometer:.5}')\n",
    "print('Which is around 14.2 vs 13.75 degress')"
   ]
  },
  {
   "cell_type": "code",
   "execution_count": 44,
   "id": "b85c9bb4",
   "metadata": {},
   "outputs": [
    {
     "name": "stdout",
     "output_type": "stream",
     "text": [
      "g_trig = 9.28045, (g_trig_rev = 9.28046)\n",
      "g_gyno = 9.686, (g_gyno_rev = 9.647)\n",
      "\n",
      "Actual value: 9.816\n"
     ]
    }
   ],
   "source": [
    "# from trig\n",
    "g_trig     = get_g(a_left_corr, theta_trig + d_theta_trig_corr, d_avg , rail_avg)\n",
    "g_trig_rev = get_g(a_right_corr, theta_trig - d_theta_trig_corr, d_avg , rail_avg)\n",
    "\n",
    "# from goniometer \n",
    "g_gyno     = get_g(a_left_corr, theta_goniometer + d_theta_goniometer, d_avg , rail_avg)\n",
    "g_gyno_rev = get_g(a_right_corr, theta_goniometer - d_theta_goniometer, d_avg , rail_avg)\n",
    "\n",
    "print(f'g_trig = {g_trig:.6}, (g_trig_rev = {g_trig_rev:.6})')\n",
    "print(f'g_gyno = {g_gyno:.4}, (g_gyno_rev = {g_gyno_rev:.4})')\n",
    "\n",
    "print()\n",
    "print('Actual value: 9.816')"
   ]
  },
  {
   "cell_type": "markdown",
   "id": "fae74659",
   "metadata": {},
   "source": [
    "# NEEDED ERRORS"
   ]
  },
  {
   "cell_type": "code",
   "execution_count": 46,
   "id": "5e55e35a",
   "metadata": {},
   "outputs": [
    {
     "name": "stdout",
     "output_type": "stream",
     "text": [
      "height_err = ± 1.440028  m\n",
      "length_err = ± 1.302582  m\n",
      "rail_err = ± 0.1152424  m\n",
      "d_err = ± 0.01134901  m\n"
     ]
    }
   ],
   "source": [
    "dic = {'height':height_err, 'length':length_err, 'rail':rail_err, 'd':d_err}\n",
    "for x in dic:\n",
    "    print(f'{x}_err = \\u00B1 {dic[x]* 1000:.7}  m')"
   ]
  },
  {
   "cell_type": "markdown",
   "id": "7f0a25eb",
   "metadata": {},
   "source": [
    "Error on angle\n",
    "\n",
    "Proppogated error on delta theta, since we use acceleration and angle to calculate this, and these both have errors  \n"
   ]
  }
 ],
 "metadata": {
  "kernelspec": {
   "display_name": "Python 3",
   "language": "python",
   "name": "python3"
  },
  "language_info": {
   "codemirror_mode": {
    "name": "ipython",
    "version": 3
   },
   "file_extension": ".py",
   "mimetype": "text/x-python",
   "name": "python",
   "nbconvert_exporter": "python",
   "pygments_lexer": "ipython3",
   "version": "3.8.8"
  }
 },
 "nbformat": 4,
 "nbformat_minor": 5
}
