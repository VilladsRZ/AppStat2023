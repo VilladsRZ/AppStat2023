{
 "cells": [
  {
   "cell_type": "code",
   "execution_count": 1,
   "id": "884595bd",
   "metadata": {},
   "outputs": [],
   "source": [
    "import numpy as np                                     # Matlab like syntax for linear algebra and functions\n",
    "import matplotlib.pyplot as plt                        # Plots and figures like you know them from Matlab\n",
    "import seaborn as sns                                  # Make the plots nicer to look at\n",
    "from iminuit import Minuit                             # The actual fitting tool, better than scipy's\n",
    "import sys                                             # Module to see files and folders in directories\n",
    "from scipy import stats\n",
    "import os"
   ]
  },
  {
   "cell_type": "code",
   "execution_count": 2,
   "id": "285973d6",
   "metadata": {},
   "outputs": [],
   "source": [
    "sys.path.append('../External_Functions')\n",
    "from ExternalFunctions import UnbinnedLH, BinnedLH, Chi2Regression\n",
    "from ExternalFunctions import nice_string_output, add_text_to_ax   # Useful functions to print fit results on figure"
   ]
  },
  {
   "cell_type": "code",
   "execution_count": 7,
   "id": "cac22d18",
   "metadata": {},
   "outputs": [],
   "source": [
    "def peak_finder(x_list):\n",
    "    peaks = []\n",
    "    i = 0\n",
    "    while i < len(x_list):\n",
    "        if x_list[i] > 1: # reference points\n",
    "            peaks.append(i)\n",
    "            i += 100 \n",
    "        else:\n",
    "            i += 1\n",
    "    return peaks"
   ]
  },
  {
   "cell_type": "code",
   "execution_count": 8,
   "id": "582432d5",
   "metadata": {},
   "outputs": [],
   "source": [
    "file_paths_left = [\"Ball_data/g_data/Left_small_1.csv\", \n",
    "                  \"Ball_data/g_data/Left_small_2.csv\",\n",
    "                  \"Ball_data/g_data/Left_small_3.csv\",\n",
    "                  \"Ball_data/g_data/Left_small_4.csv\",\n",
    "                  \"Ball_data/g_data/Left_small_5.csv\"]\n",
    "\n",
    "file_paths_right = [\"Ball_data/g_data/Right_small_1.csv\", \n",
    "                  \"Ball_data/g_data/Right_small_2.csv\",\n",
    "                  \"Ball_data/g_data/Right_small_3.csv\",\n",
    "                  \"Ball_data/g_data/Right_small_4.csv\",\n",
    "                  \"Ball_data/g_data/Right_small_5.csv\"]\n",
    "data_left = []\n",
    "data_right = []\n",
    "\n",
    "for file_path in file_paths_left:\n",
    "    data = np.genfromtxt(file_path, delimiter=',', skip_header = 16)  \n",
    "    data_left.append(data)\n",
    "    \n",
    "for file_path in file_paths_right:\n",
    "    data = np.genfromtxt(file_path, delimiter=',', skip_header = 16)  \n",
    "    data_right.append(data)"
   ]
  },
  {
   "cell_type": "markdown",
   "id": "f927828a",
   "metadata": {},
   "source": [
    "# Finding the peaks"
   ]
  },
  {
   "cell_type": "code",
   "execution_count": 11,
   "id": "32a2e819",
   "metadata": {},
   "outputs": [
    {
     "data": {
      "image/png": "[encoded data removed]",
      "text/plain": [
       "<Figure size 864x432 with 1 Axes>"
      ]
     },
     "metadata": {
      "needs_background": "light"
     },
     "output_type": "display_data"
    }
   ],
   "source": [
    "x_left, y_left = np.array(data_left[0][1500:6000]).T\n",
    "x_right, y_right = np.array(data_right[0][1500:6000]).T\n",
    "\n",
    "peak_times_left  = x_left[peak_finder(y_left)]\n",
    "peak_times_right = x_right[peak_finder(y_right)]\n",
    "\n",
    "\n",
    "plt.figure(figsize = (12,6))\n",
    "plt.plot(x_left, y_left)\n",
    "for peak in peak_times_left:\n",
    "    plt.axvline(x=peak, color='r', linestyle='--', alpha = 1)"
   ]
  },
  {
   "cell_type": "markdown",
   "id": "032e48ea",
   "metadata": {},
   "source": [
    "# Define CHI-square fit"
   ]
  },
  {
   "cell_type": "code",
   "execution_count": 12,
   "id": "4829f92f",
   "metadata": {},
   "outputs": [],
   "source": [
    "def get_fit(x, x_err, y, plot = True):\n",
    "    \n",
    "    def acc(t, a, b, c):\n",
    "        return 0.5*a*t**2 + b*t + c\n",
    "\n",
    "    def chi2_fit(a, b, c):\n",
    "        y_model = acc(y, a, b, c)\n",
    "        chi2 = np.sum(((x - y_model) / x_err) ** 2)\n",
    "        return chi2 \n",
    "\n",
    "    fit                 = Minuit(chi2_fit, a = 1.6,b = 0.5, c = 0.1)\n",
    "    fit.errordef        = 1\n",
    "    fit.migrad()\n",
    "    a, b, c             = fit.values[:]\n",
    "    a_err, b_err, c_err = fit.errors[:]\n",
    "    \n",
    "    chi_val = fit.fval\n",
    "    p = stats.chi2.sf(chi_val, 5 - 3)\n",
    "    print(f' p_vaue for chi2 fit = {p:.2f}')\n",
    "    \n",
    "    if plot:\n",
    "        x_fit = np.linspace(0, 0.6, 100)\n",
    "        plt.figure(figsize = (12,6))\n",
    "        plt.scatter(y, x, label = 'data')\n",
    "        plt.errorbar(y, x, yerr=x_err, xerr=0.0, label='error', fmt='.k',  ecolor='k', elinewidth=1, capsize=1, capthick=1)\n",
    "        plt.plot(x_fit, acc(x_fit, a, b, c), color = 'red', label = 'chi2_fit')\n",
    "        plt.title('Voltage peaks as a function of time', size = 20)\n",
    "        plt.legend()\n",
    "        plt.show()\n",
    "        \n",
    "    return a, a_err"
   ]
  },
  {
   "cell_type": "markdown",
   "id": "b8f99f5c",
   "metadata": {},
   "source": [
    "## Chauvenet's Criterion"
   ]
  },
  {
   "cell_type": "code",
   "execution_count": 13,
   "id": "a78a192c",
   "metadata": {},
   "outputs": [
    {
     "name": "stdout",
     "output_type": "stream",
     "text": [
      "We reject the datapoint since p_value = 0.046 < p_accept = 0.1\n"
     ]
    }
   ],
   "source": [
    "# first import the distances between points\n",
    "positions =  np.genfromtxt(\"Ball_data/positions.csv\", delimiter=',', skip_header = 1) / 100 # convert to meters\n",
    "\n",
    "# get the first row (where we expect the outlier)\n",
    "first_col = positions.T[0]\n",
    "\n",
    "mu = np.mean(first_col)\n",
    "sig = np.std(first_col)\n",
    "\n",
    "z = np.abs(first_col[1] - mu) / sig\n",
    "\n",
    "p  = stats.norm.sf(abs(z))*2\n",
    "p_accept = 1/(len(first_col)*2)\n",
    "\n",
    "\n",
    "print(f'We reject the datapoint since p_value = {p:.2} < p_accept = {p_accept:.2}')"
   ]
  },
  {
   "cell_type": "markdown",
   "id": "e5ed5f63",
   "metadata": {},
   "source": [
    "# Test fit on raw data and \"corrected\" data"
   ]
  },
  {
   "cell_type": "code",
   "execution_count": 15,
   "id": "dd2ae4ce",
   "metadata": {},
   "outputs": [],
   "source": [
    "human_error = 0.001 # aka 1 mm"
   ]
  },
  {
   "cell_type": "markdown",
   "id": "914ebb3a",
   "metadata": {},
   "source": [
    "## uncorrected"
   ]
  },
  {
   "cell_type": "code",
   "execution_count": 28,
   "id": "89637fb4",
   "metadata": {},
   "outputs": [
    {
     "name": "stdout",
     "output_type": "stream",
     "text": [
      " p_vaue for chi2 fit = 0.18\n",
      " p_vaue for chi2 fit = 0.24\n",
      "\n",
      "a_left = 1.58 ± 0.07\n",
      "a_right = 1.48 ± 0.07\n"
     ]
    }
   ],
   "source": [
    "# calculating averages and standard deviations\n",
    "avg_pos      = np.mean(positions, axis = 0)\n",
    "std_pos      = np.std(positions, axis = 0) / np.sqrt(5) + human_error\n",
    "\n",
    "\n",
    "a_left, a_left_err   = get_fit(avg_pos, std_pos, peak_times_left, plot = False)\n",
    "a_right, a_right_err = get_fit(avg_pos, std_pos, peak_times_right, plot = False)\n",
    "print()\n",
    "print(f'a_left = {a_left:.2f} \\u00B1 {a_left_err:.2f}')\n",
    "print(f'a_right = {a_right:.2f} \\u00B1 {a_right_err:.2f}')"
   ]
  },
  {
   "cell_type": "markdown",
   "id": "ea3c8e11",
   "metadata": {},
   "source": [
    "## corrected"
   ]
  },
  {
   "cell_type": "code",
   "execution_count": 30,
   "id": "4d386ef2",
   "metadata": {},
   "outputs": [
    {
     "name": "stdout",
     "output_type": "stream",
     "text": [
      " p_vaue for chi2 fit = 0.27\n",
      " p_vaue for chi2 fit = 0.36\n",
      "\n",
      "a_left = 1.56 ± 0.04\n",
      "a_right = 1.46 ± 0.03\n"
     ]
    }
   ],
   "source": [
    "# removing the outlier\n",
    "pos1, pos2, pos3, pos4, pos5 = positions.T\n",
    "pos1 = np.delete(pos1, 1)\n",
    "\n",
    "std_positions_corr = []\n",
    "positions_corr     = []\n",
    "\n",
    "for pos in [pos1, pos2, pos3, pos4, pos5]:\n",
    "    positions_corr.append(np.mean(pos))\n",
    "    std_positions_corr.append(human_error + np.std(pos)/np.sqrt(len(pos)))\n",
    "\n",
    "a_left_corr, a_left_err_corr   = get_fit(positions_corr, std_positions_corr, peak_times_left, plot = False)\n",
    "a_right_corr, a_right_err_corr = get_fit(positions_corr, std_positions_corr, peak_times_right, plot = False)\n",
    "print()\n",
    "print(f'a_left = {a_left_corr:.2f} \\u00B1 {a_left_err_corr:.2f}')\n",
    "print(f'a_right = {a_right_corr:.2f} \\u00B1 {a_right_err_corr:.2f}')"
   ]
  },
  {
   "cell_type": "markdown",
   "id": "ec2ba52e",
   "metadata": {},
   "source": [
    "# Calculating g"
   ]
  },
  {
   "cell_type": "markdown",
   "id": "13393878",
   "metadata": {},
   "source": [
    "### Importing metadata \n",
    "### remember to add human errors to the different errors"
   ]
  },
  {
   "cell_type": "code",
   "execution_count": 20,
   "id": "5eb91ab3",
   "metadata": {},
   "outputs": [
    {
     "name": "stdout",
     "output_type": "stream",
     "text": [
      "0.012684 0.005856 0.22504\n"
     ]
    }
   ],
   "source": [
    "# DOUBLE CHECK THE UNITS \n",
    "rail, rail_err, d, d_err, l_angle, r_angle, angle_err, height, length =  np.genfromtxt(\"Ball_data/metadata.csv\", delimiter=',', skip_header = 1).T \n",
    "\n",
    "# rail length\n",
    "rail     = rail / 1000 # since its mm\n",
    "rail_avg = np.mean(rail) \n",
    "rail_err = np.std(rail) / (np.sqrt(5))\n",
    "\n",
    "# ball diameter\n",
    "d     = d / 1000 # sinec its mm\n",
    "d_avg = np.mean(d) \n",
    "d_err = np.std(d) / np.sqrt(5)\n",
    "\n",
    "# height\n",
    "height = height / 100 # since its cm\n",
    "height_avg = np.mean(height) \n",
    "height_err = np.std(height) / np.sqrt(5)\n",
    "\n",
    "# length\n",
    "length     = length / 100 # since its cm\n",
    "length_avg = np.mean(length)\n",
    "length_err = np.std(length) / np.sqrt(5)\n",
    "\n",
    "# left giro angle\n",
    "l_angle = [l_angle[i] for i in [0, 1, 2, 4]] # remove 3 persons measurements\n",
    "left_angle_avg = 90 - np.mean(l_angle)    # in degrees\n",
    "left_angle_err = np.std(l_angle) / np.sqrt(4)\n",
    "\n",
    "# right giro angle\n",
    "r_angle = [r_angle[i] for i in [0, 1, 2, 4]] # remove 3 persons measurements\n",
    "right_angle_avg = 90 - np.mean(r_angle)  # in degrees\n",
    "right_angle_err = np.std(r_angle) / np.sqrt(4)\n",
    "\n",
    "\n",
    "# calculating average change in angle \n",
    "d_theta_goniometer = np.abs(left_angle_avg - right_angle_avg) / 2 * (np.pi/180) # in radians \n",
    "\n",
    "# calculating average gonimeter angle \n",
    "theta_goniometer = (left_angle_avg + right_angle_avg) / 2 * (np.pi/180) # in radians \n",
    "\n",
    "\n",
    "# trigonometric angle\n",
    "theta_trig = np.arctan2(height_avg, length_avg) # in radians\n",
    "print(d_avg, rail_avg, height_avg)"
   ]
  },
  {
   "cell_type": "code",
   "execution_count": null,
   "id": "091f7345",
   "metadata": {},
   "outputs": [],
   "source": []
  },
  {
   "cell_type": "markdown",
   "id": "6f9212d6",
   "metadata": {},
   "source": [
    "## define functions and theta"
   ]
  },
  {
   "cell_type": "code",
   "execution_count": 22,
   "id": "dee74e93",
   "metadata": {},
   "outputs": [],
   "source": [
    "def get_d_theta(a_norm, a_rev, theta):\n",
    "    return (a_norm - a_rev) * np.sin(theta) / ((a_norm + a_rev) * np.cos(theta))\n",
    "\n",
    "def get_g(a, theta , d, r):\n",
    "    return (a / np.sin(theta)) * (1 + (2/5) * (d**2 / (d**2 - r**2)))"
   ]
  },
  {
   "cell_type": "code",
   "execution_count": 23,
   "id": "c2cdb595",
   "metadata": {},
   "outputs": [
    {
     "name": "stdout",
     "output_type": "stream",
     "text": [
      "d_theta_trig_corr = 0.0084\n"
     ]
    }
   ],
   "source": [
    "d_theta_trig      = get_d_theta(a_left, a_right, theta_trig) # in radians\n",
    "d_theta_trig_corr = get_d_theta(a_left_corr, a_right_corr, theta_trig) # in radians\n",
    "# these are the same actually\n",
    "\n",
    "print(f'd_theta_trig_corr = {d_theta_trig_corr:.2}')"
   ]
  },
  {
   "cell_type": "code",
   "execution_count": 34,
   "id": "78f1d291",
   "metadata": {},
   "outputs": [
    {
     "name": "stdout",
     "output_type": "stream",
     "text": [
      "trig_theta = 0.24801 and gonimeter_theta = 0.24086\n",
      "Which is around 14.2 vs 13.75 degress\n"
     ]
    }
   ],
   "source": [
    "print(f'trig_theta = {theta_trig:.5} and gonimeter_theta = {theta_goniometer:.5}')\n",
    "print('Which is around 14.2 vs 13.75 degress')"
   ]
  },
  {
   "cell_type": "code",
   "execution_count": 35,
   "id": "b85c9bb4",
   "metadata": {},
   "outputs": [
    {
     "name": "stdout",
     "output_type": "stream",
     "text": [
      "g_trig = 9.288, (g_trig_rev = 9.288)\n",
      "g_gyno = 9.47, (g_gyno_rev = 9.654)\n",
      "\n",
      "Actual value: 9.816\n"
     ]
    }
   ],
   "source": [
    "# from trig\n",
    "g_trig     = get_g(a_left_corr, theta_trig + d_theta_trig_corr, d_avg , rail_avg)\n",
    "g_trig_rev = get_g(a_right_corr, theta_trig - d_theta_trig_corr, d_avg , rail_avg)\n",
    "\n",
    "# from goniometer \n",
    "g_gyno     = get_g(a_left_corr, theta_goniometer + d_theta_goniometer, d_avg , rail_avg)\n",
    "g_gyno_rev = get_g(a_right_corr, theta_goniometer - d_theta_goniometer, d_avg , rail_avg)\n",
    "\n",
    "print(f'g_trig = {g_trig:.4}, (g_trig_rev = {g_trig_rev:.4})')\n",
    "print(f'g_gyno = {g_gyno:.4}, (g_gyno_rev = {g_gyno_rev:.4})')\n",
    "\n",
    "print()\n",
    "print('Actual value: 9.816')"
   ]
  },
  {
   "cell_type": "markdown",
   "id": "fae74659",
   "metadata": {},
   "source": [
    "# NEEDED ERRORS"
   ]
  },
  {
   "cell_type": "code",
   "execution_count": null,
   "id": "5e55e35a",
   "metadata": {},
   "outputs": [],
   "source": [
    "dic = {'height':height_err, 'length':length_err, 'rail':rail_err, 'd':d_err}\n",
    "for x in dic:\n",
    "    print(f'{x}_err = \\u00B1 {dic[x]:.2} m')"
   ]
  },
  {
   "cell_type": "markdown",
   "id": "7f0a25eb",
   "metadata": {},
   "source": [
    "Error on angle\n",
    "\n",
    "Proppogated error on delta theta, since we use acceleration and angle to calculate this, and these both have errors  \n"
   ]
  }
 ],
 "metadata": {
  "kernelspec": {
   "display_name": "Python 3",
   "language": "python",
   "name": "python3"
  },
  "language_info": {
   "codemirror_mode": {
    "name": "ipython",
    "version": 3
   },
   "file_extension": ".py",
   "mimetype": "text/x-python",
   "name": "python",
   "nbconvert_exporter": "python",
   "pygments_lexer": "ipython3",
   "version": "3.8.8"
  }
 },
 "nbformat": 4,
 "nbformat_minor": 5
}
