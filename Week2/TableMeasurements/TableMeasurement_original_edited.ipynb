{
 "cells": [
  {
   "cell_type": "markdown",
   "metadata": {},
   "source": [
    "# Table Length Measurements\n",
    "\n",
    "Python program for analysing measurements of the length of the lecture table in Auditorium A at NBI.  \n",
    "There are two measurements each with estimated error of the table length:\n",
    "1. Measurement with a 30cm ruler.\n",
    "2. Measurement with a 2m folding ruler.\n",
    "\n",
    "Each person was asked not only to state the measurement, but also their (gu)estimated uncertainty. None of the persons could see others measurements in order to get the largest degree of independence. Also, the 30cm ruler measurement was asked to be done first. Finally, those measuring were asked to try to measure to the mm, even if precision was less than this, and not to correct any measurement once written down.\n",
    "\n",
    "### Authors: \n",
    "- Troels C. Petersen (Niels Bohr Institute)\n",
    "\n",
    "### Date:    \n",
    "- 22-11-2023 (latest update)\n",
    "\n",
    "***"
   ]
  },
  {
   "cell_type": "code",
   "execution_count": 1,
   "metadata": {},
   "outputs": [],
   "source": [
    "import numpy as np                                     # Matlab like syntax for linear algebra and functions\n",
    "import matplotlib.pyplot as plt                        # Plots and figures like you know them from Matlab\n",
    "from iminuit import Minuit                             # The actual fitting tool, better than scipy's\n",
    "import sys\n",
    "from scipy import stats\n",
    "from scipy.special import erfc                         # Error function, to get integral of Gaussian\n",
    "\n",
    "sys.path.append('../../External_Functions')\n",
    "from ExternalFunctions import Chi2Regression, BinnedLH, UnbinnedLH\n",
    "from ExternalFunctions import nice_string_output, add_text_to_ax # useful functions to print fit results on figure"
   ]
  },
  {
   "cell_type": "markdown",
   "metadata": {},
   "source": [
    "Options for the program: "
   ]
  },
  {
   "cell_type": "code",
   "execution_count": 2,
   "metadata": {},
   "outputs": [],
   "source": [
    "blinded = False            # Add a random (but fixed) offset to the 30cm and 2m data seperately\n",
    "save_plots = False\n",
    "\n",
    "r = np.random             # Random generator\n",
    "r.seed(42)                # Set a random seed (but a fixed one)"
   ]
  },
  {
   "cell_type": "markdown",
   "metadata": {},
   "source": [
    "## Initial data analysis:\n",
    "\n",
    "Before we even look at the look at the data, we decide whether or not we want to blind the analysis by adding a constant to all measurements. This is a good way of working, as we then don't get affected by prior beliefs. Note that a different blinding constant is added for the 30cm ruler and 2m folding rule measurements, so that only after unblinding can the correspondence between the two be considered as a vital cross check."
   ]
  },
  {
   "cell_type": "code",
   "execution_count": 3,
   "metadata": {},
   "outputs": [],
   "source": [
    "if blinded:\n",
    "    blinding30cm = r.normal(0, 0.1)      # I add a constant (Gaussian with +-10cm) to remain \"blind\"\n",
    "    blinding2m   = r.normal(0, 0.1)      # I add a constant (Gaussian with +-10cm) to remain \"blind\"\n",
    "else:\n",
    "    blinding30cm = 0\n",
    "    blinding2m = 0"
   ]
  },
  {
   "cell_type": "markdown",
   "metadata": {},
   "source": [
    "Define what datafiles we want to look at. Extend it to suit your analysis: "
   ]
  },
  {
   "cell_type": "code",
   "execution_count": 4,
   "metadata": {},
   "outputs": [],
   "source": [
    "infiles = [\"data_TableMeasurements2023.txt\",\n",
    "           \"data_TableMeasurements2022.txt\",\n",
    "           \"data_TableMeasurements2021.txt\",\n",
    "           \"data_TableMeasurements2020.txt\",\n",
    "           \"data_TableMeasurements2019.txt\",\n",
    "           \"data_TableMeasurements2018.txt\",\n",
    "           \"data_TableMeasurements2017.txt\",\n",
    "           \"data_TableMeasurements2016.txt\",\n",
    "           \"data_TableMeasurements2015.txt\",\n",
    "           \"data_TableMeasurements2014.txt\",\n",
    "           \"data_TableMeasurements2013.txt\",\n",
    "           \"data_TableMeasurements2012.txt\",\n",
    "           \"data_TableMeasurements2011.txt\",\n",
    "           \"data_TableMeasurements2010.txt\",\n",
    "           \"data_TableMeasurements2009.txt\"]"
   ]
  },
  {
   "cell_type": "markdown",
   "metadata": {},
   "source": [
    "We read in all the data from the `infiles` files (and print the values as a cross check):"
   ]
  },
  {
   "cell_type": "code",
   "execution_count": 5,
   "metadata": {},
   "outputs": [
    {
     "name": "stdout",
     "output_type": "stream",
     "text": [
      "[3.369  3.362  3.36   3.364  3.352  3.364  3.092  3.057  3.382  3.363\n",
      " 3.391  3.371  3.371  3.362  3.3    3.38   3.37   3.363  4.305  3.344\n",
      " 3.745  3.185  3.398  3.366  3.041  3.35   3.368  3.26   2.575  3.354\n",
      " 3.35   3.105  3.368  3.354  3.36   3.35   3.366  3.357  3.363  3.367\n",
      " 3.354  3.362  3.364  3.355  3.368  3.376  3.355  3.231  3.5    3.376\n",
      " 3.333  3.437  3.353  3.056  3.355  3.355  3.368  3.663  3.055  3.358\n",
      " 3.355  3.082  3.443  3.365  3.118  3.34   3.35   3.367  3.33   2.156\n",
      " 3.044  3.338  3.365  3.035  3.27   3.36   3.361  3.056  3.374  3.351\n",
      " 3.06   2.814  3.361  3.368  3.348  3.36   3.362  3.368  3.667  3.352\n",
      " 3.959  3.367  3.366  3.351  3.361  3.368  1.384  3.275  3.35   3.299\n",
      " 3.369  3.655  3.35   3.363  3.369  3.355  3.362  3.4    3.354  3.36\n",
      " 3.354  3.473  3.373  3.35   3.654  3.407  3.367  3.365  3.366  3.325\n",
      " 3.841  3.369  3.2    3.35   2.65   3.349  2.994  3.362  3.27   3.063\n",
      " 3.363  3.674  3.193  3.361  3.368  3.366  3.052  3.362  3.366  3.326\n",
      " 3.355  3.362  3.365  3.045  2.972  3.351  3.071  3.332  3.369  3.355\n",
      " 3.376  3.361  3.374  3.244  3.366  2.758  3.358  3.334  3.325  3.365\n",
      " 3.055  3.374  3.371  3.378  3.652  3.326  3.363  3.354  3.361  3.367\n",
      " 2.333  3.666  3.381  3.069  3.155  3.361  3.36   3.395  3.376  3.368\n",
      " 3.362  3.325  3.064  3.388  3.37   3.65   3.37   3.338  3.362  3.662\n",
      " 3.65   3.35   3.36   3.36   3.371  3.388  3.364  3.37   3.375  3.37\n",
      " 3.35   3.45   3.342  3.362  3.068  3.071  3.36   3.4    3.96   3.364\n",
      " 3.357  3.327  3.365  3.046  3.37   3.365  3.36   3.378  3.355  3.366\n",
      " 3.348  3.362  3.35   3.36   3.369  3.364  3.26   3.375  3.35   3.36\n",
      " 3.055  3.35   3.064  3.366  3.653  3.365  3.046  3.37   3.365  3.36\n",
      " 3.378  3.355  3.366  3.348  3.362  3.35   3.36   3.369  3.364  3.26\n",
      " 3.375  3.35   3.36   3.055  3.35   3.064  3.366  3.653  3.331  3.33\n",
      " 3.359  3.385  3.362  3.048  3.36   3.366  2.75   3.364  3.33   3.355\n",
      " 3.366  3.37   3.366  3.345  3.364  3.346  3.292  3.37   3.67   3.058\n",
      " 3.357  3.375  3.3    3.367  3.05   3.341  3.364  3.362  3.358  3.376\n",
      " 3.365  3.355  3.41   3.365  3.362  3.341  3.345  3.354  3.325  3.364\n",
      " 3.337  3.349  3.364  3.361  3.382  3.348  3.355  3.382  3.3    3.365\n",
      " 3.052  3.385  3.367  3.35   3.356  3.065  3.37   3.365  3.153  3.633\n",
      " 3.344  3.373  3.555  3.385  3.346  3.38   3.308  3.338  3.355  3.3695\n",
      " 3.368  3.375  3.432  3.38   3.37   3.344  3.375  3.362  3.354  3.347\n",
      " 3.365  2.759  3.382  3.349  3.372  3.346  3.36   3.372  3.05   3.363\n",
      " 3.081  3.334  3.34   3.356  3.36   3.285  3.34   3.339  3.098  3.077\n",
      " 3.375  2.744  3.364  3.348  3.302  3.635  3.375  3.364  3.342  3.367\n",
      " 3.065  3.352  3.05   3.367  3.369  3.35   3.375  3.061  3.365  3.067\n",
      " 3.117  3.065  3.367  3.36   3.306  3.657  3.091  3.572  3.382  3.391\n",
      " 3.356  3.335  3.364  3.3    3.373  3.461  3.396  3.375  3.365  3.37\n",
      " 3.357  3.115  3.364  3.062  3.345  3.382  3.1    3.01   3.365  3.367\n",
      " 2.7    3.373  3.35   3.32   3.06   3.35   3.36   3.364  3.36   3.345\n",
      " 3.365  3.205  3.347  3.35   3.372  3.395  3.065  3.344  3.364  3.37\n",
      " 3.65   3.056  3.365  3.362  3.353  3.372  3.307  3.368  3.364  3.448\n",
      " 3.665  3.051  3.38   3.061  3.3    3.364  3.36   3.65   3.15   3.362\n",
      " 3.4    3.366  3.365  3.365  3.363  3.36   3.371  3.372  3.357  1.365\n",
      " 3.365  3.45   3.28   3.411  3.374  3.361  3.365  3.3    3.45   3.366\n",
      " 3.359  3.354  3.368  3.364  3.34   3.371  3.354  3.314  3.362  3.36\n",
      " 2.769  3.375  3.36   3.3    3.353  3.3    3.365  3.345  3.067  3.374\n",
      " 3.045  3.372  3.366  3.379  3.349  3.064  3.376  3.364  3.377  3.375\n",
      " 3.355  3.367  3.36   3.378  3.355  1.275  3.065  3.335  3.363  3.365\n",
      " 3.35   3.365  3.384  3.378  3.371  4.004  3.366  3.367  3.364  3.362\n",
      " 3.388  3.955  3.35   3.35   3.367  3.368  3.071  3.37   3.344  3.366\n",
      " 3.355  3.215  3.366  3.368  3.352  3.367  3.363  3.371  3.362  3.364\n",
      " 3.35   3.355  3.364  3.329  3.365  3.361  3.369  3.344  3.352  3.353\n",
      " 3.26   3.366  3.365  3.367  3.083  3.367  3.124  3.371  3.356  3.367\n",
      " 3.09   3.37   3.386  3.364  3.366  3.361  3.357  3.36   3.365  3.35\n",
      " 3.371  3.305  3.     3.345  3.37   3.362  3.369  3.315  3.363  3.36\n",
      " 2.768  3.364  3.382  3.3    3.375  3.322  3.3    3.37   3.361  3.42\n",
      " 3.69   3.3645 3.394  3.467  3.07   3.354  3.065  3.362  3.     3.357\n",
      " 3.074  3.365  3.39   3.3601 3.363  3.36   3.393  3.363  3.445  3.367\n",
      " 3.366  3.348  3.471  3.147  3.363  3.365  3.365  3.3725 3.39   3.375\n",
      " 3.358  3.36   3.368  3.367  3.364  3.367  3.364  3.349  3.365  3.367\n",
      " 2.921  3.363  3.664  3.64   3.36   3.36   3.347  3.345  3.35   3.373\n",
      " 3.365  3.365  3.364  3.35   3.365  3.376  3.369  3.357  3.359  3.364\n",
      " 3.361  3.362  3.365  3.363  3.362  3.365  3.35   3.365  3.34   3.155\n",
      " 3.382  3.07   3.417  3.366  3.357  3.369  3.367  3.36   3.369  3.133\n",
      " 3.349  3.356  3.36   3.369  3.48   3.26   3.445  3.47   3.366  3.357\n",
      " 3.365  3.0645 3.351  3.371  2.67   3.34   3.366  2.563  3.361  3.368\n",
      " 3.355  3.364  3.36   3.03   3.36   3.368  3.37   3.377  3.356  3.105\n",
      " 4.14   3.36   3.36   3.385  3.36   3.76   3.6    3.375  3.373  3.75\n",
      " 3.37   3.36   3.36   3.36   3.38   3.363  3.363  3.364  3.354  3.35\n",
      " 3.34   3.664  3.36   3.379  3.357  3.377  3.364  3.358  3.368  3.345\n",
      " 3.367  3.35   3.368  3.359  3.366  3.372  3.38   3.364  1.37   3.356\n",
      " 3.363  4.26   3.354  3.455  3.35   3.04   3.37   3.355  3.     3.358\n",
      " 3.373  3.365  3.35   3.36   3.6    3.36   3.34   3.35   3.65   3.355\n",
      " 3.365  3.7    3.355  3.64   3.355  3.36   3.368  3.367  3.363  3.5\n",
      " 3.364  3.36   3.364  3.38   3.354  3.362  3.67   3.365  3.37   3.361\n",
      " 3.364  3.4    3.06   3.365  3.     3.4    3.35   3.35   3.39   3.4\n",
      " 3.05   3.367  3.35   3.4    3.37   3.3    3.363  3.36   3.33   3.67\n",
      " 3.37   3.355  3.25   3.062  3.359  3.355  3.352  3.36   3.359  3.35\n",
      " 3.35   3.36   3.356  3.352  3.357  3.17   3.35   3.356 ]\n",
      "\n",
      "\n",
      "Read all 15 file(s) which included 818 measurements. \n",
      "\n"
     ]
    }
   ],
   "source": [
    "L30cm = np.array([])\n",
    "eL30cm = np.array([])\n",
    "L2m = np.array([])\n",
    "eL2m = np.array([])\n",
    "\n",
    "# Loop over files and open them\n",
    "for infile in infiles:\n",
    "    \n",
    "    tmp_L30cm, tmp_eL30cm, tmp_L2m, tmp_eL2m = np.loadtxt(infile, skiprows=2, unpack=True)\n",
    "    \n",
    "    # Note that blinding is applied before storing the values read:\n",
    "    L30cm = np.append(L30cm, tmp_L30cm + blinding30cm)\n",
    "    eL30cm = np.append(eL30cm, tmp_eL30cm)\n",
    "    L2m = np.append(L2m, tmp_L2m + blinding2m)\n",
    "    eL2m = np.append(eL2m, tmp_eL2m)\n",
    "    \n",
    "N_read  = len(L30cm)       # Number of measurements read in total\n",
    "print(L30cm)\n",
    "print(f\"\\n\\nRead all {len(infiles)} file(s) which included {N_read} measurements. \\n\")"
   ]
  },
  {
   "cell_type": "code",
   "execution_count": null,
   "metadata": {},
   "outputs": [],
   "source": []
  },
  {
   "cell_type": "markdown",
   "metadata": {},
   "source": [
    "### First thing: Plot the data!\n",
    "\n",
    "It is paramount that one plots data - it is the only way to get a good sense of it."
   ]
  },
  {
   "cell_type": "code",
   "execution_count": 6,
   "metadata": {},
   "outputs": [
    {
     "data": {
      "text/plain": [
       "<bound method Figure.tight_layout of <Figure size 1152x1008 with 2 Axes>>"
      ]
     },
     "execution_count": 6,
     "metadata": {},
     "output_type": "execute_result"
    },
    {
     "data": {
      "image/png": "[encoded data removed]",
      "text/plain": [
       "<Figure size 1152x1008 with 2 Axes>"
      ]
     },
     "metadata": {
      "needs_background": "light"
     },
     "output_type": "display_data"
    }
   ],
   "source": [
    "# Carefully consider binning - this might have to be changed, and subplots/inserts are defintely worth considering!\n",
    "Nbins = 500\n",
    "minL = 0.0\n",
    "maxL = 5.0\n",
    "binwidth = (maxL-minL)/Nbins\n",
    "\n",
    "# Define two histograms with all the lengths recorded:\n",
    "fig_raw, ax = plt.subplots(nrows=2, figsize=(16,14), gridspec_kw={'hspace':0.5})\n",
    "ax_L30cm, ax_L2m = ax\n",
    "\n",
    "hist_L30cm = ax_L30cm.hist(L30cm, bins=Nbins, range=(minL, maxL), histtype='step', label='30cm data')\n",
    "ax_L30cm.set_title('Length estimates by 30cm ruler',fontsize=15)\n",
    "ax_L30cm.set_ylabel('Frequency / 0.01m',fontsize=15)\n",
    "ax_L30cm.set_xlabel('Table length (m)',fontsize=15)\n",
    "\n",
    "hist_L2m = ax_L2m.hist(L2m, bins=Nbins, range=(minL, maxL), histtype='step', label='2m data')\n",
    "ax_L2m.set_title('Length estimates by 2m ruler',fontsize=15)\n",
    "ax_L2m.set_ylabel('Frequency / 0.01m',fontsize=15)\n",
    "ax_L2m.set_xlabel('Table length (m)',fontsize=15)\n",
    "\n",
    "fig_raw.tight_layout"
   ]
  },
  {
   "cell_type": "markdown",
   "metadata": {},
   "source": [
    "## 30 cm ruler:\n",
    "\n",
    "We consider the measurements for the 30cm ruler and focus on that for now. Below is a mean and standard deviation (Std) calculation along with a general Gaussian fit to all the data. Somehow, the Std doesn't seem optimal/right...  "
   ]
  },
  {
   "cell_type": "code",
   "execution_count": 7,
   "metadata": {
    "scrolled": true
   },
   "outputs": [
    {
     "name": "stdout",
     "output_type": "stream",
     "text": [
      "  Initial estimate of raw data (30 cm ruler):  3.327 +- 0.008 m     (Std = 0.216)\n"
     ]
    }
   ],
   "source": [
    "print(f\"  Initial estimate of raw data (30 cm ruler):  {L30cm.mean():.3f} +- {L30cm.std(ddof=1)/np.sqrt(len(L30cm)):.3f} m     (Std = {L30cm.std(ddof=1):.3f})\")"
   ]
  },
  {
   "cell_type": "markdown",
   "metadata": {},
   "source": [
    "### Next steps:\n",
    "\n",
    "From the above, you should by now be aware, that there is definitely room for improvement, due to some poor measurement. You want to exclude (or correct?) these, but remember, you should be able to argue for each and every point you remove or correct.\n",
    "\n",
    "In fact, make sure that PRINT OUT EVERY MEASUREMENT THAT YOU EXCLUDE, along with numbers arguing their case! Barlow 4.2.3 (and the note above this very short section) along with Chauvenet's Criterion might serve as guidelines.\n",
    "\n",
    "It is now up to you to select in (based on solid **quantified** arguments) the data, and subsequently produce a better estimate of the length of the table in world famous Auditorium A. Good luck..."
   ]
  },
  {
   "cell_type": "code",
   "execution_count": 8,
   "metadata": {},
   "outputs": [
    {
     "data": {
      "image/png": "[encoded data removed]",
      "text/plain": [
       "<Figure size 1152x1008 with 1 Axes>"
      ]
     },
     "metadata": {
      "needs_background": "light"
     },
     "output_type": "display_data"
    },
    {
     "name": "stdout",
     "output_type": "stream",
     "text": [
      "Number of meassurements thrown away = 30\n",
      "New mean and std = (3.3406752538071065, 0.11444594354639628)\n"
     ]
    }
   ],
   "source": [
    "# Sort the data (perhaps good before printing?) and then exclude those you find dubious:\n",
    "L30cm = np.sort(L30cm)\n",
    "#mask = (L30cm >= -100.0) * (L30cm <= 100.0)      # Write your own data selection!!!\n",
    "#L30cm_subset = L30cm[mask]\n",
    "#print(f\"  The number of measurements used before and after is: {len(L30cm):d} and {len(L30cm_subset):d}\")\n",
    "\n",
    "\n",
    "\n",
    "\n",
    "def bob(x):\n",
    "    items_removed = []\n",
    "    sample_sigma = np.vectorize(lambda array: abs(array - mu) / sig)\n",
    "    while True:\n",
    "        mu  = np.mean(x)\n",
    "        sig = np.std(x)\n",
    "        \n",
    "        z_values = sample_sigma(x)\n",
    "        max_z = np.max(z_values)\n",
    "        \n",
    "        p  = stats.norm.sf(abs(max_z))*2 \n",
    "        if p < 1 / (len(x) * 2):\n",
    "            index_z = np.where(z_values == max_z)[0][0]\n",
    "            items_removed.append(x[index_z])\n",
    "            x = np.delete(x, index_z)\n",
    "        else: \n",
    "            break\n",
    "    return x, np.array(items_removed)\n",
    "\n",
    "x, removed = bob(L30cm);\n",
    "\n",
    "\n",
    "plt.figure(figsize=(16,14))\n",
    "plt.hist(removed, bins = 100)\n",
    "plt.hist(x, bins = 100)\n",
    "plt.show()\n",
    "\n",
    "print(f'Number of meassurements thrown away = {len(removed)}')\n",
    "print(f'New mean and std = {np.mean(x), np.std(x)}')"
   ]
  },
  {
   "cell_type": "code",
   "execution_count": 22,
   "metadata": {},
   "outputs": [
    {
     "name": "stdout",
     "output_type": "stream",
     "text": [
      "0.004076967930381791\n",
      "r = 0.638095238095238\n"
     ]
    }
   ],
   "source": [
    "mask_lower = (x < np.mean(x) - 0.04) & (x > np.mean(x) - 0.3)\n",
    "mask_upper = (x > np.mean(x) + 0.04) & (x < np.mean(x) + 0.3)\n",
    "\n",
    "sigma_mean = np.std(x) / np.sqrt(len(x))\n",
    "print(sigma_mean)\n",
    "print(f'r = {len(x[mask_upper])/len(x[mask_lower])}')\n"
   ]
  },
  {
   "cell_type": "code",
   "execution_count": 28,
   "metadata": {},
   "outputs": [
    {
     "name": "stdout",
     "output_type": "stream",
     "text": [
      "New mean and std = (3.359941106128551, 0.028747143604941815)\n"
     ]
    },
    {
     "data": {
      "image/png": "[encoded data removed]",
      "text/plain": [
       "<Figure size 1152x1008 with 1 Axes>"
      ]
     },
     "metadata": {
      "needs_background": "light"
     },
     "output_type": "display_data"
    }
   ],
   "source": [
    "cutoff = (x > np.mean(x) - 0.15) & (x < np.mean(x) + 0.15)\n",
    "x_new = x[cutoff]\n",
    "print(f'New mean and std = {np.mean(x_new), np.std(x_new)}')\n",
    "plt.figure(figsize=(16,14))\n",
    "\n",
    "plt.hist(x_new, bins = 500)\n",
    "plt.show()"
   ]
  },
  {
   "cell_type": "code",
   "execution_count": 29,
   "metadata": {},
   "outputs": [],
   "source": [
    "def gauss_pdf(x, mu, sigma) :\n",
    "    \"\"\"Gaussian\"\"\"\n",
    "    return 1.0 / np.sqrt(2*np.pi) / sigma * np.exp( -0.5 * (x-mu)**2 / sigma**2)\n"
   ]
  },
  {
   "cell_type": "code",
   "execution_count": 44,
   "metadata": {},
   "outputs": [
    {
     "data": {
      "image/png": "[encoded data removed]",
      "text/plain": [
       "<Figure size 1152x1008 with 1 Axes>"
      ]
     },
     "metadata": {
      "needs_background": "light"
     },
     "output_type": "display_data"
    },
    {
     "name": "stdout",
     "output_type": "stream",
     "text": [
      "Number of meassurements thrown away = 129\n",
      "Number of meassurements remaining = 689\n",
      "New mean and std = (3.3633939042089986, 0.005006697169027518)\n"
     ]
    }
   ],
   "source": [
    "x1, removed = bob(L2m);\n",
    "\n",
    "\n",
    "plt.figure(figsize=(16,14))\n",
    "plt.hist(removed, bins = 100)\n",
    "plt.hist(x1, bins = 100)\n",
    "plt.show()\n",
    "\n",
    "print(f'Number of meassurements thrown away = {len(removed)}')\n",
    "print(f'Number of meassurements remaining = {len(x1)}')\n",
    "\n",
    "print(f'New mean and std = {np.mean(x1), np.std(x1)}')"
   ]
  },
  {
   "cell_type": "code",
   "execution_count": 38,
   "metadata": {},
   "outputs": [
    {
     "data": {
      "image/png": "[encoded data removed]",
      "text/plain": [
       "<Figure size 432x288 with 1 Axes>"
      ]
     },
     "metadata": {
      "needs_background": "light"
     },
     "output_type": "display_data"
    }
   ],
   "source": [
    "plt.hist(x1, bins = 50)\n",
    "plt.show()"
   ]
  },
  {
   "cell_type": "markdown",
   "metadata": {},
   "source": [
    "***\n",
    "\n",
    "Start by taking a close look at the data, first by inspecting the numbers in the data file (yeps, open the damn thing, and look over the numbers!), and then by considering the histograms produced by running the notebook. To begin with, only consider the 30cm ruler measurements, and disregard the estimated/guessed uncertainties. You can then expand from there, as guided below by questions.\n",
    "\n",
    "\n",
    "# Questions:\n",
    "\n",
    "1. Consider the mean, standard deviation, and uncertainty on the mean. Is the result as you would expect it? And do you think that it is close to the best possible (i.e. most accurate and precise) estimate? NOTE: Make sure that you know the difference between accuracy and precision!!! See \"Common definition\" in: http://en.wikipedia.org/wiki/Accuracy_and_precision\n",
    "\n",
    "2. Do any of the measurements looks wrong/bad/suspicious? Do you see any repeated mistakes done for obvious reasons? Would you correct or exclude any of the measurements and how would you justify this? This problem requires that you discuss with your peers, and then each do what you think most justified/best. It somehow boils down to how far away a measurement is from the expectation.\n",
    "Apply the criterion you find fitting to the list of measurements, and perhaps produce a new list with your accepted and possibly corrected measurements in (to save the original data). How many measurements did you throw away in the end?\n",
    "\n",
    "3. Fit your accepted length measurements with a Gaussian distribution, possibly in a (small?) range around what you believe is the true value. What would be your strategy for choosing a range? Is the Gaussian distribution justified? Also, do you see any \"human\" effects? Did any of your class mates (or you?) not read to mm precision and rounded the result?\n",
    "\n",
    "4. Once you have selected the measurements you want to use, calculate the mean, standard deviation, and uncertainty on the mean. How much did your result improve in precision from the raw data in question 1?\n",
    "\n",
    "5. Now consider also the uncertainties. Try to calculate the weighted mean. Did you get a good Chi2 probability, when doing so? Or are some measurements and/or uncertainties doubtful?\n",
    "\n",
    "6. In order to consider measurements in light of their uncertainties, one uses the \"Pull\" distribution. It is defined as the plot of $z_i = \\left(x_i - \\overline{x} \\right)/\\sigma_i$ where $\\overline{x}$ is the *sample* mean of $x$, and $x_i$ and $\\sigma_i$ are the *single measurements* and their corresponding uncertainties. If the measurements and uncertainties are good, then it should give a unit Gaussian. Is that the case? And thus, were the uncertainty estimates/guesses reasonable? If not, then the pull distribution is often used to remove overly precise measurements (those far out on the tails), and afterwards to scale the errors on the remaining measurements to a reasonable level. Consider the pull distribution, and see if any measurements have suspicious uncertainties. Did the Chi2 probablity improve? And did the result improve further in precision? If not, why could that be?\n",
    "\n",
    "7. Is the number of mismeasurements 30cm below the actual length more common than those 30cm above? Determine the ratio $r_{mis} = N_{30cm~high} / N_{30cm~low}$ including both its statistical uncertainty, and if possible a systematic uncertainty from defining exactly when a measurement is 30cm off.\n",
    "\n",
    "\n",
    "\n",
    "#### Now repeat the above for the 2m folding rule\n",
    "...and consider all the questions below as optional problems, where you might just try to solve selected problems.\n",
    " \n",
    "***\n",
    "\n",
    "8. How much better/worse is the single measurement uncertainty from the 30cm ruler case to the 2m folding rule?\n",
    "\n",
    "9. Does the length of the table seems to be different when measured with a 30cm and a 2m ruler? Quantify this statement! I.e. what is the difference, and what is the uncertainty on that difference? Is this significantly away from 0?\n",
    "\n",
    "10. If you were asked for the best estimate of the length of the table, what would you do? (If posssible, read Bevington page 58 bottom!)\n",
    "\n",
    "\n",
    "### Advanced questions:\n",
    "\n",
    "11. Is there any correlation between the errors on the measurements and the distance value? I.e. do you see any effect of those measuring e.g. too long having a smaller/larger uncertainty? What would the effect of this be?"
   ]
  },
  {
   "cell_type": "markdown",
   "metadata": {},
   "source": [
    "# Learning points:\n",
    "\n",
    "This is a \"free\" and potentially long exercise, which in essense is meant to illustrate how challeging real data can be, even if it is conceptually simple and in one dimension.\n",
    "\n",
    "The first learning point is that real data is potentially very complicated, and requires consideration/processing before being as clear cut, as what we simulate. Two approaches could be:\n",
    "1. A crude/fast *\"cut the non-standard (wrong?) measurements away\"* analysis, potentially missing something.\n",
    "2. A detailed *\"plot a lot and consider every single point\"*, potentially (over-?)using a lot of time.\n",
    "\n",
    "From this exercise, you should have learned:\n",
    "1. Always **start by plotting the data**, and ask yourself, if the distributions make sense.\n",
    "2. In order to remove potential mis-measurements, one uses **Chauvenet's Criterion** and rejects points with a low probability of being correct.\n",
    "3. Alternatively, one corrects data points (calibration) based on **understanding the reason(s) for these shifts**. \n",
    "4. Once the data has been cleaned (distributions Gaussian?), one can apply the usual calculations of mean $\\mu$, Standard Deviation $\\sigma$, and uncertainty on the mean $\\sigma_{\\mu}$.\n",
    "5. When considering **data with uncertainties, the data cleaning is different**, as one considers how far away potential mis-measurements are in units of their uncertainty.\n",
    "6. **It is always important to have ways of cross checking one's results**, in this case comparing the 30cm ruler with the 2m folding rule result."
   ]
  }
 ],
 "metadata": {
  "executable": "/usr/bin/env python",
  "kernelspec": {
   "display_name": "Python 3",
   "language": "python",
   "name": "python3"
  },
  "language_info": {
   "codemirror_mode": {
    "name": "ipython",
    "version": 3
   },
   "file_extension": ".py",
   "mimetype": "text/x-python",
   "name": "python",
   "nbconvert_exporter": "python",
   "pygments_lexer": "ipython3",
   "version": "3.8.8"
  },
  "main_language": "python"
 },
 "nbformat": 4,
 "nbformat_minor": 2
}
