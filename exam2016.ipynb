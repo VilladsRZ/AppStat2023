{
 "cells": [
  {
   "cell_type": "code",
   "execution_count": 83,
   "id": "a20de567",
   "metadata": {},
   "outputs": [],
   "source": [
    "import pandas as pd\n",
    "import numpy as np\n",
    "import random as r\n",
    "import matplotlib.pyplot as plt\n",
    "from scipy import stats\n",
    "from iminuit import Minuit                            \n",
    "from numpy.linalg import inv\n",
    "import sys\n",
    "import inspect\n",
    "import matplotlib.gridspec as gridspec\n",
    "from mpl_toolkits.axes_grid1.inset_locator import zoomed_inset_axes, mark_inset\n"
   ]
  },
  {
   "cell_type": "code",
   "execution_count": 2,
   "id": "b13c9a18",
   "metadata": {},
   "outputs": [],
   "source": [
    "def get_weighted_mean(x, x_err):\n",
    "    mean_weighted = np.nansum(x/x_err**2) / np.nansum(1/x_err**2)\n",
    "    err_weighted = np.sqrt(1/np.sum(1 / x_err**2)) \n",
    "    chi2 = np.nansum((x - mean_weighted)**2/x_err**2)\n",
    "    p = stats.chi2.sf(chi2, len(x) - 1)\n",
    "    \n",
    "    print(f'The weighted mean is:              {mean_weighted:.3f}')\n",
    "    print(f'The error on the weighted mean is: {mean_weighted:.3f}')\n",
    "    print(fr'The $\\chi^2$ is: {mean_weighted:.3f}')\n",
    "    print(f'The p value is : {mean_weighted:.3f}')\n",
    "    return mean_weighted, err_weighted, chi2, p"
   ]
  },
  {
   "cell_type": "code",
   "execution_count": 3,
   "id": "176cd267",
   "metadata": {},
   "outputs": [],
   "source": [
    "sys.path.append('External_Functions')\n",
    "from ExternalFunctions import *"
   ]
  },
  {
   "cell_type": "markdown",
   "id": "12050593",
   "metadata": {},
   "source": [
    "## 1.3"
   ]
  },
  {
   "cell_type": "code",
   "execution_count": 38,
   "id": "f1ebb065",
   "metadata": {},
   "outputs": [
    {
     "name": "stdout",
     "output_type": "stream",
     "text": [
      "0.002303266131695864\n"
     ]
    }
   ],
   "source": [
    "frac1 = stats.norm.sf(1.85, loc = 1.68, scale = 0.06)\n",
    "print(frac1)"
   ]
  },
  {
   "cell_type": "code",
   "execution_count": 29,
   "id": "ac06aba0",
   "metadata": {},
   "outputs": [
    {
     "data": {
      "image/png": "[encoded data removed]",
      "text/plain": [
       "<Figure size 432x288 with 1 Axes>"
      ]
     },
     "metadata": {
      "needs_background": "light"
     },
     "output_type": "display_data"
    },
    {
     "name": "stdout",
     "output_type": "stream",
     "text": [
      "1.7622940449352849\n"
     ]
    }
   ],
   "source": [
    "heights = np.random.normal(size = 10000, loc = 1.68, scale = 0.06)\n",
    "plt.hist(heights, bins = 100)\n",
    "plt.show()\n",
    "\n",
    "mask = np.arange(len(heights)) > 4 *len(sorted(heights)) // 5\n",
    "\n",
    "heights20 = np.sort(heights)[mask]\n",
    "print(np.mean(heights20))"
   ]
  },
  {
   "cell_type": "code",
   "execution_count": 39,
   "id": "5ca19d81",
   "metadata": {},
   "outputs": [
    {
     "name": "stdout",
     "output_type": "stream",
     "text": [
      "<class 'numpy.ndarray'>\n"
     ]
    }
   ],
   "source": [
    "print(type(heights20))"
   ]
  },
  {
   "cell_type": "markdown",
   "id": "e69c705c",
   "metadata": {},
   "source": [
    "# 5.1"
   ]
  },
  {
   "cell_type": "code",
   "execution_count": 7,
   "id": "52415037",
   "metadata": {},
   "outputs": [
    {
     "data": {
      "image/png": "[encoded data removed]",
      "text/plain": [
       "<Figure size 432x288 with 1 Axes>"
      ]
     },
     "metadata": {
      "needs_background": "light"
     },
     "output_type": "display_data"
    }
   ],
   "source": [
    "month, _, deficit, deficit_err = np.genfromtxt('https://www.nbi.dk/~petersen/Teaching/Stat2016/data_LukeLightningLights.txt').T\n",
    "\n",
    "\n",
    "plt.scatter(month, deficit)\n",
    "plt.show()\n",
    "\n"
   ]
  },
  {
   "cell_type": "code",
   "execution_count": 8,
   "id": "8df6e1b3",
   "metadata": {},
   "outputs": [
    {
     "name": "stdout",
     "output_type": "stream",
     "text": [
      "The weighted mean is:              -0.359\n",
      "The error on the weighted mean is: -0.359\n",
      "The $\\chi^2$ is: -0.359\n",
      "The p value is : -0.359\n"
     ]
    },
    {
     "data": {
      "image/png": "[encoded data removed]",
      "text/plain": [
       "<Figure size 432x288 with 1 Axes>"
      ]
     },
     "metadata": {
      "needs_background": "light"
     },
     "output_type": "display_data"
    },
    {
     "name": "stdout",
     "output_type": "stream",
     "text": [
      "0.024622251837895934\n"
     ]
    }
   ],
   "source": [
    "month_12 = month[month<=12]\n",
    "error_12 = deficit_err[month<=12]\n",
    "deficit_12 = deficit[month<=12]\n",
    "\n",
    "plt.scatter(month_12, deficit[month<=12])\n",
    "plt.errorbar(month_12, deficit[month<=12], yerr = deficit_err[month<=12], fmt = 'o', capsize = 12)\n",
    "weighted_avg, weighted_err, chi2, p = get_weighted_mean(deficit[month<=12], deficit_err[month<=12])\n",
    "plt.hlines(weighted_avg, 0, 13, color = 'red')\n",
    "plt.show()\n",
    "\n",
    "print(p)"
   ]
  },
  {
   "cell_type": "code",
   "execution_count": 9,
   "id": "4334acfd",
   "metadata": {},
   "outputs": [
    {
     "data": {
      "text/html": [
       "<table>\n",
       "    <tr>\n",
       "        <th colspan=\"2\" style=\"text-align:center\" title=\"Minimizer\"> Migrad </th>\n",
       "    </tr>\n",
       "    <tr>\n",
       "        <td style=\"text-align:left\" title=\"Minimum value of function\"> FCN = 17.32 </td>\n",
       "        <td style=\"text-align:center\" title=\"Total number of function and (optional) gradient evaluations\"> Nfcn = 32 </td>\n",
       "    </tr>\n",
       "    <tr>\n",
       "        <td style=\"text-align:left\" title=\"Estimated distance to minimum and goal\"> EDM = 1.65e-22 (Goal: 0.0002) </td>\n",
       "        <td style=\"text-align:center\" title=\"Total run time of algorithms\">  </td>\n",
       "    </tr>\n",
       "    <tr>\n",
       "        <td style=\"text-align:center;background-color:#92CCA6;color:black\"> Valid Minimum </td>\n",
       "        <td style=\"text-align:center;background-color:#92CCA6;color:black\"> Below EDM threshold (goal x 10) </td>\n",
       "    </tr>\n",
       "    <tr>\n",
       "        <td style=\"text-align:center;background-color:#92CCA6;color:black\"> No parameters at limit </td>\n",
       "        <td style=\"text-align:center;background-color:#92CCA6;color:black\"> Below call limit </td>\n",
       "    </tr>\n",
       "    <tr>\n",
       "        <td style=\"text-align:center;background-color:#92CCA6;color:black\"> Hesse ok </td>\n",
       "        <td style=\"text-align:center;background-color:#92CCA6;color:black\"> Covariance accurate </td>\n",
       "    </tr>\n",
       "</table><table>\n",
       "    <tr>\n",
       "        <td></td>\n",
       "        <th title=\"Variable name\"> Name </th>\n",
       "        <th title=\"Value of parameter\"> Value </th>\n",
       "        <th title=\"Hesse error\"> Hesse Error </th>\n",
       "        <th title=\"Minos lower error\"> Minos Error- </th>\n",
       "        <th title=\"Minos upper error\"> Minos Error+ </th>\n",
       "        <th title=\"Lower limit of the parameter\"> Limit- </th>\n",
       "        <th title=\"Upper limit of the parameter\"> Limit+ </th>\n",
       "        <th title=\"Is the parameter fixed in the fit\"> Fixed </th>\n",
       "    </tr>\n",
       "    <tr>\n",
       "        <th> 0 </th>\n",
       "        <td> a </td>\n",
       "        <td> 0.020 </td>\n",
       "        <td> 0.009 </td>\n",
       "        <td>  </td>\n",
       "        <td>  </td>\n",
       "        <td>  </td>\n",
       "        <td>  </td>\n",
       "        <td>  </td>\n",
       "    </tr>\n",
       "    <tr>\n",
       "        <th> 1 </th>\n",
       "        <td> b </td>\n",
       "        <td> -0.49 </td>\n",
       "        <td> 0.07 </td>\n",
       "        <td>  </td>\n",
       "        <td>  </td>\n",
       "        <td>  </td>\n",
       "        <td>  </td>\n",
       "        <td>  </td>\n",
       "    </tr>\n",
       "</table><table>\n",
       "    <tr>\n",
       "        <td></td>\n",
       "        <th> a </th>\n",
       "        <th> b </th>\n",
       "    </tr>\n",
       "    <tr>\n",
       "        <th> a </th>\n",
       "        <td> 8.46e-05 </td>\n",
       "        <td style=\"background-color:rgb(135,135,250);color:black\"> -0.55e-3 <strong>(-0.883)</strong> </td>\n",
       "    </tr>\n",
       "    <tr>\n",
       "        <th> b </th>\n",
       "        <td style=\"background-color:rgb(135,135,250);color:black\"> -0.55e-3 <strong>(-0.883)</strong> </td>\n",
       "        <td> 0.00458 </td>\n",
       "    </tr>\n",
       "</table>"
      ],
      "text/plain": [
       "┌─────────────────────────────────────────────────────────────────────────┐\n",
       "│                                Migrad                                   │\n",
       "├──────────────────────────────────┬──────────────────────────────────────┤\n",
       "│ FCN = 17.32                      │              Nfcn = 32               │\n",
       "│ EDM = 1.65e-22 (Goal: 0.0002)    │                                      │\n",
       "├──────────────────────────────────┼──────────────────────────────────────┤\n",
       "│          Valid Minimum           │   Below EDM threshold (goal x 10)    │\n",
       "├──────────────────────────────────┼──────────────────────────────────────┤\n",
       "│      No parameters at limit      │           Below call limit           │\n",
       "├──────────────────────────────────┼──────────────────────────────────────┤\n",
       "│             Hesse ok             │         Covariance accurate          │\n",
       "└──────────────────────────────────┴──────────────────────────────────────┘\n",
       "┌───┬──────┬───────────┬───────────┬────────────┬────────────┬─────────┬─────────┬───────┐\n",
       "│   │ Name │   Value   │ Hesse Err │ Minos Err- │ Minos Err+ │ Limit-  │ Limit+  │ Fixed │\n",
       "├───┼──────┼───────────┼───────────┼────────────┼────────────┼─────────┼─────────┼───────┤\n",
       "│ 0 │ a    │   0.020   │   0.009   │            │            │         │         │       │\n",
       "│ 1 │ b    │   -0.49   │   0.07    │            │            │         │         │       │\n",
       "└───┴──────┴───────────┴───────────┴────────────┴────────────┴─────────┴─────────┴───────┘\n",
       "┌───┬───────────────────┐\n",
       "│   │        a        b │\n",
       "├───┼───────────────────┤\n",
       "│ a │ 8.46e-05 -0.55e-3 │\n",
       "│ b │ -0.55e-3  0.00458 │\n",
       "└───┴───────────────────┘"
      ]
     },
     "execution_count": 9,
     "metadata": {},
     "output_type": "execute_result"
    }
   ],
   "source": [
    "def linear(x, a, b):\n",
    "    return a*x + b\n",
    "\n",
    "def chi2(a, b):\n",
    "    model = linear(month_12, a, b)\n",
    "    return np.sum((model - deficit_12)**2 / error_12**2)\n",
    "\n",
    "fit = Minuit(chi2, 1, -0.4)\n",
    "fit.errordef = 1\n",
    "fit.migrad()"
   ]
  },
  {
   "cell_type": "code",
   "execution_count": 85,
   "id": "c86ee3c9",
   "metadata": {},
   "outputs": [
    {
     "name": "stdout",
     "output_type": "stream",
     "text": [
      "0.06754828514924785\n"
     ]
    },
    {
     "data": {
      "image/png": "[encoded data removed]",
      "text/plain": [
       "<Figure size 1152x576 with 2 Axes>"
      ]
     },
     "metadata": {
      "needs_background": "light"
     },
     "output_type": "display_data"
    }
   ],
   "source": [
    "a, b = fit.values[:]\n",
    "a_err, b_err = fit.errors[:]\n",
    "\n",
    "p    = stats.chi2.sf(fit.fval, len(month_12) - 2)\n",
    "x_fit = np.linspace(0, 13, 100)\n",
    "\n",
    "fig = plt.figure(figsize = (16,8))\n",
    "gs = gridspec.GridSpec(nrows = 2,ncols = 1, height_ratios=[3, 1], hspace = 0) \n",
    "ax1 = fig.add_subplot(gs[0])\n",
    "ax2 = fig.add_subplot(gs[1], sharex=ax1)\n",
    "\n",
    "ax1.plot(x_fit, linear(x_fit, a, b), color = 'red', label = 'fit')\n",
    "ax1.fill_between(x_fit, linear(x_fit, a+a_err, b+b_err), linear(x_fit, a-a_err, b-b_err), color = 'red',\n",
    "                 alpha = 0.2, edgecolor = 'red', ls = 'dashed', label = 'fit error')\n",
    "ax1.scatter(month_12, deficit[month<=12], label = 'data')\n",
    "ax1.errorbar(month_12, deficit[month<=12], yerr = deficit_err[month<=12], fmt = 'o', capsize = 12)\n",
    "ax2.hlines(0,1,12, color = 'black')\n",
    "ax2.scatter(month_12, deficit[month<=12] - linear(month_12, a, b), color = 'red', label = 'residuals')\n",
    "ax2.grid()\n",
    "ax1.xaxis.set_visible(False)\n",
    "ax1.legend()\n",
    "ax2.legend()\n",
    "\n",
    "\n",
    "\n",
    "dic = {r'$\\chi^2$': 4,\n",
    "       r'$n_{dof}$': 100,\n",
    "       r'$p_{value}$': 0.1}\n",
    "text = nice_string_output(dic, extra_spacing = 0, decimals = 2)\n",
    "add_text_to_ax(0.4, 0.85, text, ax1, bbox=dict(boxstyle='round', facecolor='white', alpha=0.7))\n",
    "\n",
    "print(p)"
   ]
  },
  {
   "cell_type": "code",
   "execution_count": null,
   "id": "4768b528",
   "metadata": {},
   "outputs": [],
   "source": []
  },
  {
   "cell_type": "code",
   "execution_count": null,
   "id": "1a413abc",
   "metadata": {},
   "outputs": [],
   "source": []
  },
  {
   "cell_type": "code",
   "execution_count": null,
   "id": "3c632929",
   "metadata": {},
   "outputs": [],
   "source": []
  },
  {
   "cell_type": "code",
   "execution_count": null,
   "id": "ed7e2e22",
   "metadata": {},
   "outputs": [],
   "source": []
  },
  {
   "cell_type": "code",
   "execution_count": 110,
   "id": "47d5264c",
   "metadata": {},
   "outputs": [
    {
     "name": "stdout",
     "output_type": "stream",
     "text": [
      "For 1 points, p = nan\n",
      "For 2 points, p = nan\n",
      "For 3 points, p = 0.406\n",
      "For 4 points, p = 0.337\n",
      "For 5 points, p = 0.331\n",
      "For 6 points, p = 0.16\n",
      "For 7 points, p = 0.253\n",
      "For 8 points, p = 0.135\n",
      "For 9 points, p = 0.116\n",
      "For 10 points, p = 0.0892\n",
      "For 11 points, p = 0.045\n",
      "For 12 points, p = 0.0675\n",
      "For 13 points, p = 0.0389\n",
      "For 14 points, p = 0.0567\n",
      "For 15 points, p = 0.016\n",
      "For 16 points, p = 0.00301\n",
      "For 17 points, p = 2.95e-06\n",
      "For 18 points, p = 4.5e-13\n",
      "For 19 points, p = 5.46e-20\n",
      "For 20 points, p = 1.43e-31\n",
      "For 21 points, p = 3.72e-49\n",
      "For 22 points, p = 4.96e-73\n",
      "For 23 points, p = 3.16e-93\n",
      "For 24 points, p = 2.29e-108\n",
      "For 25 points, p = 6e-119\n",
      "For 26 points, p = 8.09e-132\n",
      "For 27 points, p = 2.6e-139\n",
      "For 28 points, p = 1.94e-142\n",
      "For 29 points, p = 5.93e-143\n",
      "For 30 points, p = 4.51e-143\n",
      "For 31 points, p = 2.38e-142\n",
      "For 32 points, p = 1.24e-156\n",
      "For 33 points, p = 9.1e-169\n",
      "For 34 points, p = 2.15e-184\n",
      "For 35 points, p = 6.67e-196\n",
      "For 36 points, p = 1.23e-208\n",
      "For 37 points, p = 5.76e-222\n",
      "For 38 points, p = 3.67e-237\n",
      "For 39 points, p = 7.19e-249\n",
      "For 40 points, p = 5.76e-266\n"
     ]
    }
   ],
   "source": [
    "for i in range(1, len(month)):\n",
    "    month_temp = month[month<=i]\n",
    "    error_temp = deficit_err[month<=i]\n",
    "    deficit_temp = deficit[month<=i]\n",
    "    def chi2(a, b):\n",
    "        model = linear(month_temp, a, b)\n",
    "        return np.sum((model - deficit_temp)**2 / error_temp**2)\n",
    "\n",
    "    fit = Minuit(chi2, 1, -0.4)\n",
    "    fit.errordef = 1\n",
    "    fit.migrad()\n",
    "    print(f'For {i} points, p = {stats.chi2.sf(fit.fval, len(month_temp) - 2):.3}')\n"
   ]
  },
  {
   "cell_type": "code",
   "execution_count": 195,
   "id": "34fc5887",
   "metadata": {},
   "outputs": [
    {
     "data": {
      "text/html": [
       "<table>\n",
       "    <tr>\n",
       "        <th colspan=\"2\" style=\"text-align:center\" title=\"Minimizer\"> Migrad </th>\n",
       "    </tr>\n",
       "    <tr>\n",
       "        <td style=\"text-align:left\" title=\"Minimum value of function\"> FCN = 36.86 </td>\n",
       "        <td style=\"text-align:center\" title=\"Total number of function and (optional) gradient evaluations\"> Nfcn = 171 </td>\n",
       "    </tr>\n",
       "    <tr>\n",
       "        <td style=\"text-align:left\" title=\"Estimated distance to minimum and goal\"> EDM = 1.59e-05 (Goal: 0.0002) </td>\n",
       "        <td style=\"text-align:center\" title=\"Total run time of algorithms\">  </td>\n",
       "    </tr>\n",
       "    <tr>\n",
       "        <td style=\"text-align:center;background-color:#92CCA6;color:black\"> Valid Minimum </td>\n",
       "        <td style=\"text-align:center;background-color:#92CCA6;color:black\"> Below EDM threshold (goal x 10) </td>\n",
       "    </tr>\n",
       "    <tr>\n",
       "        <td style=\"text-align:center;background-color:#92CCA6;color:black\"> No parameters at limit </td>\n",
       "        <td style=\"text-align:center;background-color:#92CCA6;color:black\"> Below call limit </td>\n",
       "    </tr>\n",
       "    <tr>\n",
       "        <td style=\"text-align:center;background-color:#92CCA6;color:black\"> Hesse ok </td>\n",
       "        <td style=\"text-align:center;background-color:#92CCA6;color:black\"> Covariance accurate </td>\n",
       "    </tr>\n",
       "</table><table>\n",
       "    <tr>\n",
       "        <td></td>\n",
       "        <th title=\"Variable name\"> Name </th>\n",
       "        <th title=\"Value of parameter\"> Value </th>\n",
       "        <th title=\"Hesse error\"> Hesse Error </th>\n",
       "        <th title=\"Minos lower error\"> Minos Error- </th>\n",
       "        <th title=\"Minos upper error\"> Minos Error+ </th>\n",
       "        <th title=\"Lower limit of the parameter\"> Limit- </th>\n",
       "        <th title=\"Upper limit of the parameter\"> Limit+ </th>\n",
       "        <th title=\"Is the parameter fixed in the fit\"> Fixed </th>\n",
       "    </tr>\n",
       "    <tr>\n",
       "        <th> 0 </th>\n",
       "        <td> a </td>\n",
       "        <td> 0.363 </td>\n",
       "        <td> 0.021 </td>\n",
       "        <td>  </td>\n",
       "        <td>  </td>\n",
       "        <td>  </td>\n",
       "        <td>  </td>\n",
       "        <td>  </td>\n",
       "    </tr>\n",
       "    <tr>\n",
       "        <th> 1 </th>\n",
       "        <td> b </td>\n",
       "        <td> 4.38 </td>\n",
       "        <td> 0.09 </td>\n",
       "        <td>  </td>\n",
       "        <td>  </td>\n",
       "        <td>  </td>\n",
       "        <td>  </td>\n",
       "        <td>  </td>\n",
       "    </tr>\n",
       "    <tr>\n",
       "        <th> 2 </th>\n",
       "        <td> c </td>\n",
       "        <td> 20.01 </td>\n",
       "        <td> 0.17 </td>\n",
       "        <td>  </td>\n",
       "        <td>  </td>\n",
       "        <td>  </td>\n",
       "        <td>  </td>\n",
       "        <td>  </td>\n",
       "    </tr>\n",
       "    <tr>\n",
       "        <th> 3 </th>\n",
       "        <td> d </td>\n",
       "        <td> -0.42 </td>\n",
       "        <td> 0.04 </td>\n",
       "        <td>  </td>\n",
       "        <td>  </td>\n",
       "        <td>  </td>\n",
       "        <td>  </td>\n",
       "        <td>  </td>\n",
       "    </tr>\n",
       "    <tr>\n",
       "        <th> 4 </th>\n",
       "        <td> e </td>\n",
       "        <td> 0.65 </td>\n",
       "        <td> 0.08 </td>\n",
       "        <td>  </td>\n",
       "        <td>  </td>\n",
       "        <td>  </td>\n",
       "        <td>  </td>\n",
       "        <td>  </td>\n",
       "    </tr>\n",
       "    <tr>\n",
       "        <th> 5 </th>\n",
       "        <td> f </td>\n",
       "        <td> 1.0 </td>\n",
       "        <td> 1.4 </td>\n",
       "        <td>  </td>\n",
       "        <td>  </td>\n",
       "        <td>  </td>\n",
       "        <td>  </td>\n",
       "        <td>  </td>\n",
       "    </tr>\n",
       "</table><table>\n",
       "    <tr>\n",
       "        <td></td>\n",
       "        <th> a </th>\n",
       "        <th> b </th>\n",
       "        <th> c </th>\n",
       "        <th> d </th>\n",
       "        <th> e </th>\n",
       "        <th> f </th>\n",
       "    </tr>\n",
       "    <tr>\n",
       "        <th> a </th>\n",
       "        <td> 0.000434 </td>\n",
       "        <td style=\"background-color:rgb(145,145,250);color:black\"> -1.6e-3 <strong>(-0.810)</strong> </td>\n",
       "        <td style=\"background-color:rgb(199,199,250);color:black\"> -1.4e-3 <strong>(-0.391)</strong> </td>\n",
       "        <td style=\"background-color:rgb(250,169,169);color:black\"> 0.4e-3 <strong>(0.540)</strong> </td>\n",
       "        <td style=\"background-color:rgb(169,169,250);color:black\"> -1.0e-3 <strong>(-0.626)</strong> </td>\n",
       "        <td style=\"background-color:rgb(250,250,250);color:black\"> 0 </td>\n",
       "    </tr>\n",
       "    <tr>\n",
       "        <th> b </th>\n",
       "        <td style=\"background-color:rgb(145,145,250);color:black\"> -1.6e-3 <strong>(-0.810)</strong> </td>\n",
       "        <td> 0.00867 </td>\n",
       "        <td style=\"background-color:rgb(250,176,176);color:black\"> 0.008 <strong>(0.494)</strong> </td>\n",
       "        <td style=\"background-color:rgb(166,166,250);color:black\"> -0.0022 <strong>(-0.645)</strong> </td>\n",
       "        <td style=\"background-color:rgb(250,127,127);color:black\"> 0.006 <strong>(0.817)</strong> </td>\n",
       "        <td style=\"background-color:rgb(250,250,250);color:black\"> 0.000 </td>\n",
       "    </tr>\n",
       "    <tr>\n",
       "        <th> c </th>\n",
       "        <td style=\"background-color:rgb(199,199,250);color:black\"> -1.4e-3 <strong>(-0.391)</strong> </td>\n",
       "        <td style=\"background-color:rgb(250,176,176);color:black\"> 0.008 <strong>(0.494)</strong> </td>\n",
       "        <td> 0.0287 </td>\n",
       "        <td style=\"background-color:rgb(250,225,225);color:black\"> 0.0011 <strong>(0.168)</strong> </td>\n",
       "        <td style=\"background-color:rgb(250,158,158);color:black\"> 0.008 <strong>(0.616)</strong> </td>\n",
       "        <td style=\"background-color:rgb(250,250,250);color:black\"> 0.000 </td>\n",
       "    </tr>\n",
       "    <tr>\n",
       "        <th> d </th>\n",
       "        <td style=\"background-color:rgb(250,169,169);color:black\"> 0.4e-3 <strong>(0.540)</strong> </td>\n",
       "        <td style=\"background-color:rgb(166,166,250);color:black\"> -0.0022 <strong>(-0.645)</strong> </td>\n",
       "        <td style=\"background-color:rgb(250,225,225);color:black\"> 0.0011 <strong>(0.168)</strong> </td>\n",
       "        <td> 0.0014 </td>\n",
       "        <td style=\"background-color:rgb(217,217,250);color:black\"> -0.0007 <strong>(-0.256)</strong> </td>\n",
       "        <td style=\"background-color:rgb(250,250,250);color:black\"> 0.0000 </td>\n",
       "    </tr>\n",
       "    <tr>\n",
       "        <th> e </th>\n",
       "        <td style=\"background-color:rgb(169,169,250);color:black\"> -1.0e-3 <strong>(-0.626)</strong> </td>\n",
       "        <td style=\"background-color:rgb(250,127,127);color:black\"> 0.006 <strong>(0.817)</strong> </td>\n",
       "        <td style=\"background-color:rgb(250,158,158);color:black\"> 0.008 <strong>(0.616)</strong> </td>\n",
       "        <td style=\"background-color:rgb(217,217,250);color:black\"> -0.0007 <strong>(-0.256)</strong> </td>\n",
       "        <td> 0.00598 </td>\n",
       "        <td style=\"background-color:rgb(250,250,250);color:black\"> 0.000 </td>\n",
       "    </tr>\n",
       "    <tr>\n",
       "        <th> f </th>\n",
       "        <td style=\"background-color:rgb(250,250,250);color:black\"> 0 </td>\n",
       "        <td style=\"background-color:rgb(250,250,250);color:black\"> 0.000 </td>\n",
       "        <td style=\"background-color:rgb(250,250,250);color:black\"> 0.000 </td>\n",
       "        <td style=\"background-color:rgb(250,250,250);color:black\"> 0.0000 </td>\n",
       "        <td style=\"background-color:rgb(250,250,250);color:black\"> 0.000 </td>\n",
       "        <td> 2 </td>\n",
       "    </tr>\n",
       "</table>"
      ],
      "text/plain": [
       "┌─────────────────────────────────────────────────────────────────────────┐\n",
       "│                                Migrad                                   │\n",
       "├──────────────────────────────────┬──────────────────────────────────────┤\n",
       "│ FCN = 36.86                      │              Nfcn = 171              │\n",
       "│ EDM = 1.59e-05 (Goal: 0.0002)    │                                      │\n",
       "├──────────────────────────────────┼──────────────────────────────────────┤\n",
       "│          Valid Minimum           │   Below EDM threshold (goal x 10)    │\n",
       "├──────────────────────────────────┼──────────────────────────────────────┤\n",
       "│      No parameters at limit      │           Below call limit           │\n",
       "├──────────────────────────────────┼──────────────────────────────────────┤\n",
       "│             Hesse ok             │         Covariance accurate          │\n",
       "└──────────────────────────────────┴──────────────────────────────────────┘\n",
       "┌───┬──────┬───────────┬───────────┬────────────┬────────────┬─────────┬─────────┬───────┐\n",
       "│   │ Name │   Value   │ Hesse Err │ Minos Err- │ Minos Err+ │ Limit-  │ Limit+  │ Fixed │\n",
       "├───┼──────┼───────────┼───────────┼────────────┼────────────┼─────────┼─────────┼───────┤\n",
       "│ 0 │ a    │   0.363   │   0.021   │            │            │         │         │       │\n",
       "│ 1 │ b    │   4.38    │   0.09    │            │            │         │         │       │\n",
       "│ 2 │ c    │   20.01   │   0.17    │            │            │         │         │       │\n",
       "│ 3 │ d    │   -0.42   │   0.04    │            │            │         │         │       │\n",
       "│ 4 │ e    │   0.65    │   0.08    │            │            │         │         │       │\n",
       "│ 5 │ f    │    1.0    │    1.4    │            │            │         │         │       │\n",
       "└───┴──────┴───────────┴───────────┴────────────┴────────────┴─────────┴─────────┴───────┘\n",
       "┌───┬───────────────────────────────────────────────────────┐\n",
       "│   │        a        b        c        d        e        f │\n",
       "├───┼───────────────────────────────────────────────────────┤\n",
       "│ a │ 0.000434  -1.6e-3  -1.4e-3   0.4e-3  -1.0e-3        0 │\n",
       "│ b │  -1.6e-3  0.00867    0.008  -0.0022    0.006    0.000 │\n",
       "│ c │  -1.4e-3    0.008   0.0287   0.0011    0.008    0.000 │\n",
       "│ d │   0.4e-3  -0.0022   0.0011   0.0014  -0.0007   0.0000 │\n",
       "│ e │  -1.0e-3    0.006    0.008  -0.0007  0.00598    0.000 │\n",
       "│ f │        0    0.000    0.000   0.0000    0.000        2 │\n",
       "└───┴───────────────────────────────────────────────────────┘"
      ]
     },
     "execution_count": 195,
     "metadata": {},
     "output_type": "execute_result"
    }
   ],
   "source": [
    "def func(x, a, b, c, d, e, f):\n",
    "    guess = (b / (1 + np.exp(-(x-c) * a)) + d)\n",
    "    if x > 31:\n",
    "        guess -= e \n",
    "    return guess\n",
    "func = np.vectorize(func)\n",
    "        \n",
    "\n",
    "def chi2(a, b, c, d, e, f):\n",
    "    model = func(month, a, b, c, d, e, f)\n",
    "    return np.sum((model - deficit)**2 / deficit_err**2)\n",
    "\n",
    "fit = Minuit(chi2, 0.36, 5, 20, -0.42, 0.65, 1)\n",
    "fit.errordef = 1\n",
    "fit.migrad()"
   ]
  },
  {
   "cell_type": "code",
   "execution_count": 214,
   "id": "49f4247c",
   "metadata": {},
   "outputs": [
    {
     "data": {
      "text/plain": [
       "[<matplotlib.lines.Line2D at 0x26322f0cfa0>]"
      ]
     },
     "execution_count": 214,
     "metadata": {},
     "output_type": "execute_result"
    },
    {
     "data": {
      "image/png": "[encoded data removed]",
      "text/plain": [
       "<Figure size 432x288 with 1 Axes>"
      ]
     },
     "metadata": {
      "needs_background": "light"
     },
     "output_type": "display_data"
    }
   ],
   "source": [
    "a, b, c, d, e, f = fit.values[:]\n",
    "a_err, b_err, c_err, d_err, e_err, f_err = fit.errors[:]\n",
    "\n",
    "x_fit = np.linspace(0, len(month), 1000)\n",
    "plt.scatter(month, deficit)\n",
    "plt.plot(x_fit, func(x_fit, a, b, c, d, e, f))"
   ]
  },
  {
   "cell_type": "code",
   "execution_count": 215,
   "id": "c730ad39",
   "metadata": {},
   "outputs": [
    {
     "name": "stdout",
     "output_type": "stream",
     "text": [
      "0.652  ± 0.0773\n"
     ]
    }
   ],
   "source": [
    "print(f'{e:.3}  \\u00B1 {e_err:.3}')"
   ]
  },
  {
   "cell_type": "code",
   "execution_count": null,
   "id": "d053ef69",
   "metadata": {},
   "outputs": [],
   "source": []
  },
  {
   "cell_type": "code",
   "execution_count": 87,
   "id": "f2405a79",
   "metadata": {},
   "outputs": [
    {
     "ename": "NameError",
     "evalue": "name 'mu1' is not defined",
     "output_type": "error",
     "traceback": [
      "\u001b[1;31m---------------------------------------------------------------------------\u001b[0m",
      "\u001b[1;31mNameError\u001b[0m                                 Traceback (most recent call last)",
      "\u001b[1;32m<ipython-input-87-6758a099868a>\u001b[0m in \u001b[0;36m<module>\u001b[1;34m\u001b[0m\n\u001b[0;32m     27\u001b[0m \u001b[0mfit\u001b[0m \u001b[1;33m=\u001b[0m \u001b[0mMinuit\u001b[0m\u001b[1;33m(\u001b[0m\u001b[0mchi2_2\u001b[0m\u001b[1;33m,\u001b[0m \u001b[1;36m400\u001b[0m\u001b[1;33m,\u001b[0m \u001b[1;36m0.2\u001b[0m\u001b[1;33m,\u001b[0m \u001b[1;36m0\u001b[0m\u001b[1;33m,\u001b[0m \u001b[1;36m0.7\u001b[0m\u001b[1;33m,\u001b[0m \u001b[1;36m0.2\u001b[0m\u001b[1;33m)\u001b[0m\u001b[1;33m\u001b[0m\u001b[1;33m\u001b[0m\u001b[0m\n\u001b[0;32m     28\u001b[0m \u001b[0mfit\u001b[0m\u001b[1;33m.\u001b[0m\u001b[0merrordef\u001b[0m \u001b[1;33m=\u001b[0m \u001b[1;36m1\u001b[0m\u001b[1;33m\u001b[0m\u001b[1;33m\u001b[0m\u001b[0m\n\u001b[1;32m---> 29\u001b[1;33m \u001b[0mfit\u001b[0m\u001b[1;33m.\u001b[0m\u001b[0mmigrad\u001b[0m\u001b[1;33m(\u001b[0m\u001b[1;33m)\u001b[0m\u001b[1;33m\u001b[0m\u001b[1;33m\u001b[0m\u001b[0m\n\u001b[0m",
      "\u001b[1;32m~\\anaconda3\\lib\\site-packages\\iminuit\\minuit.py\u001b[0m in \u001b[0;36mmigrad\u001b[1;34m(self, ncall, iterate)\u001b[0m\n\u001b[0;32m    754\u001b[0m                 \u001b[1;32mif\u001b[0m \u001b[0mself\u001b[0m\u001b[1;33m.\u001b[0m\u001b[0m_precision\u001b[0m \u001b[1;32mis\u001b[0m \u001b[1;32mnot\u001b[0m \u001b[1;32mNone\u001b[0m\u001b[1;33m:\u001b[0m\u001b[1;33m\u001b[0m\u001b[1;33m\u001b[0m\u001b[0m\n\u001b[0;32m    755\u001b[0m                     \u001b[0mmigrad\u001b[0m\u001b[1;33m.\u001b[0m\u001b[0mprecision\u001b[0m \u001b[1;33m=\u001b[0m \u001b[0mself\u001b[0m\u001b[1;33m.\u001b[0m\u001b[0m_precision\u001b[0m\u001b[1;33m\u001b[0m\u001b[1;33m\u001b[0m\u001b[0m\n\u001b[1;32m--> 756\u001b[1;33m                 \u001b[0mfm\u001b[0m \u001b[1;33m=\u001b[0m \u001b[0mmigrad\u001b[0m\u001b[1;33m(\u001b[0m\u001b[0mncall\u001b[0m\u001b[1;33m,\u001b[0m \u001b[0mself\u001b[0m\u001b[1;33m.\u001b[0m\u001b[0m_tolerance\u001b[0m\u001b[1;33m)\u001b[0m\u001b[1;33m\u001b[0m\u001b[1;33m\u001b[0m\u001b[0m\n\u001b[0m\u001b[0;32m    757\u001b[0m                 \u001b[1;32mif\u001b[0m \u001b[0mfm\u001b[0m\u001b[1;33m.\u001b[0m\u001b[0mis_valid\u001b[0m \u001b[1;32mor\u001b[0m \u001b[0mfm\u001b[0m\u001b[1;33m.\u001b[0m\u001b[0mhas_reached_call_limit\u001b[0m\u001b[1;33m:\u001b[0m\u001b[1;33m\u001b[0m\u001b[1;33m\u001b[0m\u001b[0m\n\u001b[0;32m    758\u001b[0m                     \u001b[1;32mbreak\u001b[0m\u001b[1;33m\u001b[0m\u001b[1;33m\u001b[0m\u001b[0m\n",
      "\u001b[1;32m<ipython-input-87-6758a099868a>\u001b[0m in \u001b[0;36mchi2_2\u001b[1;34m(N, f, mu, sigma1, sigma2)\u001b[0m\n\u001b[0;32m     22\u001b[0m \u001b[1;33m\u001b[0m\u001b[0m\n\u001b[0;32m     23\u001b[0m \u001b[1;32mdef\u001b[0m \u001b[0mchi2_2\u001b[0m\u001b[1;33m(\u001b[0m\u001b[0mN\u001b[0m\u001b[1;33m,\u001b[0m \u001b[0mf\u001b[0m\u001b[1;33m,\u001b[0m \u001b[0mmu\u001b[0m\u001b[1;33m,\u001b[0m \u001b[0msigma1\u001b[0m\u001b[1;33m,\u001b[0m \u001b[0msigma2\u001b[0m\u001b[1;33m)\u001b[0m\u001b[1;33m:\u001b[0m\u001b[1;33m\u001b[0m\u001b[1;33m\u001b[0m\u001b[0m\n\u001b[1;32m---> 24\u001b[1;33m     \u001b[0my_model\u001b[0m \u001b[1;33m=\u001b[0m \u001b[0mdouble_gauss_pdf\u001b[0m\u001b[1;33m(\u001b[0m\u001b[0mx\u001b[0m\u001b[1;33m,\u001b[0m \u001b[0mN\u001b[0m\u001b[1;33m,\u001b[0m \u001b[0mf\u001b[0m\u001b[1;33m,\u001b[0m \u001b[0mmu\u001b[0m\u001b[1;33m,\u001b[0m \u001b[0msigma1\u001b[0m\u001b[1;33m,\u001b[0m \u001b[0msigma2\u001b[0m\u001b[1;33m)\u001b[0m\u001b[1;33m\u001b[0m\u001b[1;33m\u001b[0m\u001b[0m\n\u001b[0m\u001b[0;32m     25\u001b[0m     \u001b[1;32mreturn\u001b[0m \u001b[0mnp\u001b[0m\u001b[1;33m.\u001b[0m\u001b[0msum\u001b[0m\u001b[1;33m(\u001b[0m\u001b[1;33m(\u001b[0m\u001b[0mcounts\u001b[0m \u001b[1;33m-\u001b[0m \u001b[0my_model\u001b[0m\u001b[1;33m)\u001b[0m\u001b[1;33m**\u001b[0m\u001b[1;36m2\u001b[0m \u001b[1;33m/\u001b[0m \u001b[0mcounts\u001b[0m\u001b[1;33m)\u001b[0m\u001b[1;33m\u001b[0m\u001b[1;33m\u001b[0m\u001b[0m\n\u001b[0;32m     26\u001b[0m \u001b[1;33m\u001b[0m\u001b[0m\n",
      "\u001b[1;32m<ipython-input-87-6758a099868a>\u001b[0m in \u001b[0;36mdouble_gauss_pdf\u001b[1;34m(x, N, f, mu, sigma1, sigma2)\u001b[0m\n\u001b[0;32m     12\u001b[0m \u001b[1;33m\u001b[0m\u001b[0m\n\u001b[0;32m     13\u001b[0m \u001b[1;32mdef\u001b[0m \u001b[0mdouble_gauss_pdf\u001b[0m\u001b[1;33m(\u001b[0m\u001b[0mx\u001b[0m\u001b[1;33m,\u001b[0m \u001b[0mN\u001b[0m\u001b[1;33m,\u001b[0m \u001b[0mf\u001b[0m\u001b[1;33m,\u001b[0m \u001b[0mmu\u001b[0m\u001b[1;33m,\u001b[0m \u001b[0msigma1\u001b[0m\u001b[1;33m,\u001b[0m \u001b[0msigma2\u001b[0m\u001b[1;33m)\u001b[0m \u001b[1;33m:\u001b[0m\u001b[1;33m\u001b[0m\u001b[1;33m\u001b[0m\u001b[0m\n\u001b[1;32m---> 14\u001b[1;33m     \u001b[1;32mreturn\u001b[0m \u001b[0mN\u001b[0m \u001b[1;33m*\u001b[0m \u001b[1;33m(\u001b[0m\u001b[0mf\u001b[0m \u001b[1;33m*\u001b[0m \u001b[0mgauss_pdf\u001b[0m\u001b[1;33m(\u001b[0m\u001b[0mx\u001b[0m\u001b[1;33m,\u001b[0m \u001b[0mmu1\u001b[0m\u001b[1;33m,\u001b[0m \u001b[0msigma1\u001b[0m\u001b[1;33m)\u001b[0m \u001b[1;33m+\u001b[0m \u001b[1;33m(\u001b[0m\u001b[1;36m1\u001b[0m\u001b[1;33m-\u001b[0m\u001b[0mf\u001b[0m\u001b[1;33m)\u001b[0m \u001b[1;33m*\u001b[0m \u001b[0mgauss_pdf\u001b[0m\u001b[1;33m(\u001b[0m\u001b[0mx\u001b[0m\u001b[1;33m,\u001b[0m \u001b[0mmu2\u001b[0m\u001b[1;33m,\u001b[0m \u001b[0msigma2\u001b[0m\u001b[1;33m)\u001b[0m\u001b[1;33m)\u001b[0m\u001b[1;33m\u001b[0m\u001b[1;33m\u001b[0m\u001b[0m\n\u001b[0m\u001b[0;32m     15\u001b[0m \u001b[1;33m\u001b[0m\u001b[0m\n\u001b[0;32m     16\u001b[0m \u001b[0mk\u001b[0m \u001b[1;33m=\u001b[0m \u001b[1;33m(\u001b[0m\u001b[0mtimings_range\u001b[0m\u001b[1;33m[\u001b[0m\u001b[1;36m1\u001b[0m\u001b[1;33m]\u001b[0m \u001b[1;33m-\u001b[0m \u001b[0mtimings_range\u001b[0m\u001b[1;33m[\u001b[0m\u001b[1;36m0\u001b[0m\u001b[1;33m]\u001b[0m\u001b[1;33m)\u001b[0m \u001b[1;33m/\u001b[0m \u001b[0mbins\u001b[0m          \u001b[1;31m# binwidth\u001b[0m\u001b[1;33m\u001b[0m\u001b[1;33m\u001b[0m\u001b[0m\n",
      "\u001b[1;31mNameError\u001b[0m: name 'mu1' is not defined"
     ]
    },
    {
     "data": {
      "image/png": "[encoded data removed]",
      "text/plain": [
       "<Figure size 432x288 with 1 Axes>"
      ]
     },
     "metadata": {
      "needs_background": "light"
     },
     "output_type": "display_data"
    }
   ],
   "source": [
    "timings = np.genfromtxt('https://www.nbi.dk/~petersen/Teaching/Stat2016/data_TimingResiduals.txt')\n",
    "timings_range= (np.min(timings), np.max(timings))\n",
    "bins = int(np.sqrt(len(timings)))\n",
    "bins = 100\n",
    "counts, bin_edges, _ = plt.hist(timings, bins = bins, range = timings_range)\n",
    "mask = counts > 0\n",
    "x = ((bin_edges[1:] + bin_edges[:-1])/2)[mask]\n",
    "counts = counts[mask]\n",
    "\n",
    "def gauss_pdf(x, mu, sigma) :\n",
    "    return 1.0 / np.sqrt(2*np.pi) / sigma * np.exp( -0.5 * (x-mu)**2 / sigma**2)\n",
    "\n",
    "def double_gauss_pdf(x, N, f, mu, sigma1, sigma2) :\n",
    "    return N * (f * gauss_pdf(x, mu1, sigma1) + (1-f) * gauss_pdf(x, mu2, sigma2))\n",
    "\n",
    "k = (timings_range[1] - timings_range[0]) / bins          # binwidth\n",
    "N = 1000 * k             # Normalization\n",
    "    \n",
    "def chi2_1(mu, sigma):\n",
    "    y_model = N * gauss_pdf(x, mu, sigma)\n",
    "    return np.sum((counts - y_model)**2 / counts)\n",
    "\n",
    "def chi2_2(N, f, mu, sigma1, sigma2):\n",
    "    y_model = double_gauss_pdf(x, N, f, mu, sigma1, sigma2)\n",
    "    return np.sum((counts - y_model)**2 / counts)\n",
    "\n",
    "fit = Minuit(chi2_2, 400, 0.2, 0, 0.7, 0.2) \n",
    "fit.errordef = 1\n",
    "fit.migrad()"
   ]
  },
  {
   "cell_type": "code",
   "execution_count": 345,
   "id": "ccf3fd2f",
   "metadata": {},
   "outputs": [
    {
     "data": {
      "text/plain": [
       "(154.486889740387,\n",
       " 0.8965156435864907,\n",
       " 0.0,\n",
       " 10.230332007584064,\n",
       " 0.06112668612503208)"
      ]
     },
     "execution_count": 345,
     "metadata": {},
     "output_type": "execute_result"
    }
   ],
   "source": [
    "N, f, mu, sigma1, sigma2"
   ]
  },
  {
   "cell_type": "code",
   "execution_count": 344,
   "id": "2f0d3c06",
   "metadata": {},
   "outputs": [
    {
     "data": {
      "text/plain": [
       "[<matplotlib.lines.Line2D at 0x263265e0ee0>]"
      ]
     },
     "execution_count": 344,
     "metadata": {},
     "output_type": "execute_result"
    },
    {
     "data": {
      "image/png": "[encoded data removed]",
      "text/plain": [
       "<Figure size 432x288 with 1 Axes>"
      ]
     },
     "metadata": {
      "needs_background": "light"
     },
     "output_type": "display_data"
    }
   ],
   "source": [
    "N, f, mu, sigma1, sigma2 = fit.values[:]\n",
    "\n",
    "plt.hist(timings, bins = bins, range = timings_range)\n",
    "x_fit = np.linspace(-0.6, 0.4, 100)\n",
    "plt.plot(x_fit, double_gauss_pdf(x_fit,N, f, mu, sigma1, sigma2))"
   ]
  },
  {
   "cell_type": "code",
   "execution_count": 88,
   "id": "7170115b",
   "metadata": {},
   "outputs": [
    {
     "name": "stdout",
     "output_type": "stream",
     "text": [
      "ShapiroResult(statistic=0.9525038003921509, pvalue=3.1209221210384895e-23)\n"
     ]
    }
   ],
   "source": [
    "print(stats.shapiro(timings))"
   ]
  },
  {
   "cell_type": "code",
   "execution_count": 264,
   "id": "fa6e30b8",
   "metadata": {},
   "outputs": [
    {
     "data": {
      "text/plain": [
       "[<matplotlib.lines.Line2D at 0x263246982b0>]"
      ]
     },
     "execution_count": 264,
     "metadata": {},
     "output_type": "execute_result"
    },
    {
     "data": {
      "image/png": "[encoded data removed]",
      "text/plain": [
       "<Figure size 432x288 with 1 Axes>"
      ]
     },
     "metadata": {
      "needs_background": "light"
     },
     "output_type": "display_data"
    }
   ],
   "source": []
  },
  {
   "cell_type": "code",
   "execution_count": null,
   "id": "a7c59567",
   "metadata": {},
   "outputs": [],
   "source": []
  },
  {
   "cell_type": "code",
   "execution_count": null,
   "id": "9d967e3f",
   "metadata": {},
   "outputs": [],
   "source": []
  },
  {
   "cell_type": "code",
   "execution_count": null,
   "id": "495cf122",
   "metadata": {},
   "outputs": [],
   "source": []
  },
  {
   "cell_type": "code",
   "execution_count": null,
   "id": "f041419c",
   "metadata": {},
   "outputs": [],
   "source": []
  },
  {
   "cell_type": "code",
   "execution_count": null,
   "id": "cb95849f",
   "metadata": {},
   "outputs": [],
   "source": []
  }
 ],
 "metadata": {
  "kernelspec": {
   "display_name": "Python 3",
   "language": "python",
   "name": "python3"
  },
  "language_info": {
   "codemirror_mode": {
    "name": "ipython",
    "version": 3
   },
   "file_extension": ".py",
   "mimetype": "text/x-python",
   "name": "python",
   "nbconvert_exporter": "python",
   "pygments_lexer": "ipython3",
   "version": "3.8.8"
  }
 },
 "nbformat": 4,
 "nbformat_minor": 5
}
